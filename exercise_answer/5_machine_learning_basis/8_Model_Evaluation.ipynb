{
  "cells": [
    {
      "metadata": {},
      "cell_type": "markdown",
      "source": "## Section 8. Model Evaluation"
    },
    {
      "metadata": {
        "trusted": true
      },
      "cell_type": "code",
      "source": "import numpy as np\nimport pandas as pd\nimport matplotlib.pyplot as plt\nfrom sklearn.datasets import load_iris",
      "execution_count": 1,
      "outputs": [
        {
          "output_type": "stream",
          "text": "/home/nbuser/anaconda3_501/lib/python3.6/site-packages/matplotlib/font_manager.py:229: UserWarning: Matplotlib is building the font cache using fc-list. This may take a moment.\n  'Matplotlib is building the font cache using fc-list. '\n",
          "name": "stderr"
        }
      ]
    },
    {
      "metadata": {
        "colab_type": "text",
        "id": "WuyZLdHhJ4am"
      },
      "cell_type": "markdown",
      "source": "## 문제 1. ROC Curve 와 AUC 구하기\n\n아래 코드는 \nIRIS 데이터 셋을 이용해  Iris Versicolour 와 Iris Virginica 을 구별하는 코드 입니다. \n\n아래 코드를 수행 했을 때 나온 데이터프레임에는 각 데이터 별로 예측값과 정답값에 대한 정보가 담겨져 있습니다. 이를 이용해 **ROC Curve** 와 **AUC ** 을 구하고 시각화 합니다. \n\n참고 \n- 음성 label 은 0 , Versicolour <br>\n- 양성 label 은 1 , Virginica 입니다. "
    },
    {
      "metadata": {
        "trusted": true
      },
      "cell_type": "code",
      "source": "# 우선 실행해주세요\nnp.random.seed(1) # 같은 결과를 보장하기 위함\n# load Iris dataset \niris = load_iris()\n\n# XS, YS \nxs = iris['data']\nys = iris['target']\nys_name = iris['target_names']\n\n# extract Versicolour , Virginica dataset \nindices = np.where((ys == 1) | (ys == 2))\nxs = xs[indices]\nys = ys[indices]\nys = np.where(ys==1, 0, 1) \n\n# stop broadcasting\nys = ys.reshape([-1, 1])\n\n# Normalization\nxs_norm = (xs - xs.min(axis=0)) / (xs.max(axis=0) - xs.min(axis=0))\n\n# Xs 와 np.ones 을 concatenate for broadcasting  \nxs_concat = np.concatenate([xs_norm, \n                            np.ones(shape=[xs_norm.shape[0], 1])], \n                           axis=1)\n\n# Weight \nweight = np.random.normal(size=[xs_concat.shape[-1], 1])\n\n# Training \nlr = 0.01\nfor i in range(100):\n    pred = np.matmul(xs_concat, weight)\n    pred = 1 / (1 + np.exp(-pred))\n\n    # Gradient Descent\n    diff = pred - ys\n    gradients = np.matmul(xs_concat.T, diff)\n    weight = weight - gradients*lr\n    \n    # Accuracy \n    acc = np.mean((pred > 0.5) == ys)\nprint(\"Final Accuracy : {:2.2f}%\".format(acc*100))\ndf = pd.DataFrame({\n    \"Prediction\" : pred[:,0],\n    \"True Label\" : ys[:,0]\n})",
      "execution_count": 2,
      "outputs": [
        {
          "output_type": "stream",
          "text": "Final Accuracy : 95.00%\n",
          "name": "stdout"
        }
      ]
    },
    {
      "metadata": {
        "colab": {
          "base_uri": "https://localhost:8080/",
          "height": 35
        },
        "colab_type": "code",
        "id": "GDfzTpdT17Vb",
        "outputId": "4b90e9b5-3172-49b4-a6dc-1033ffbca8f9",
        "trusted": true
      },
      "cell_type": "code",
      "source": "df.sample(10)",
      "execution_count": 3,
      "outputs": [
        {
          "output_type": "execute_result",
          "execution_count": 3,
          "data": {
            "text/html": "<div>\n<style scoped>\n    .dataframe tbody tr th:only-of-type {\n        vertical-align: middle;\n    }\n\n    .dataframe tbody tr th {\n        vertical-align: top;\n    }\n\n    .dataframe thead th {\n        text-align: right;\n    }\n</style>\n<table border=\"1\" class=\"dataframe\">\n  <thead>\n    <tr style=\"text-align: right;\">\n      <th></th>\n      <th>Prediction</th>\n      <th>True Label</th>\n    </tr>\n  </thead>\n  <tbody>\n    <tr>\n      <th>69</th>\n      <td>0.511604</td>\n      <td>1</td>\n    </tr>\n    <tr>\n      <th>46</th>\n      <td>0.168278</td>\n      <td>0</td>\n    </tr>\n    <tr>\n      <th>58</th>\n      <td>0.814259</td>\n      <td>1</td>\n    </tr>\n    <tr>\n      <th>12</th>\n      <td>0.140934</td>\n      <td>0</td>\n    </tr>\n    <tr>\n      <th>73</th>\n      <td>0.647265</td>\n      <td>1</td>\n    </tr>\n    <tr>\n      <th>98</th>\n      <td>0.835785</td>\n      <td>1</td>\n    </tr>\n    <tr>\n      <th>31</th>\n      <td>0.081775</td>\n      <td>0</td>\n    </tr>\n    <tr>\n      <th>53</th>\n      <td>0.697934</td>\n      <td>1</td>\n    </tr>\n    <tr>\n      <th>65</th>\n      <td>0.862991</td>\n      <td>1</td>\n    </tr>\n    <tr>\n      <th>96</th>\n      <td>0.744327</td>\n      <td>1</td>\n    </tr>\n  </tbody>\n</table>\n</div>",
            "text/plain": "    Prediction  True Label\n69    0.511604           1\n46    0.168278           0\n58    0.814259           1\n12    0.140934           0\n73    0.647265           1\n98    0.835785           1\n31    0.081775           0\n53    0.697934           1\n65    0.862991           1\n96    0.744327           1"
          },
          "metadata": {}
        }
      ]
    },
    {
      "metadata": {
        "colab_type": "text",
        "id": "Ak0G2cLn5Jl1"
      },
      "cell_type": "markdown",
      "source": "#### 답안지 입력란\n* 아래에 답을 서술하여 주세요\n"
    },
    {
      "metadata": {
        "trusted": true
      },
      "cell_type": "code",
      "source": "def get_pr(cut_value):\n    yhats = np.where(pred > cut_value, True, False)\n    \n    tp = (ys & yhats).sum()\n    fn = (ys & ~yhats).sum()\n\n    fp = (~ys & yhats).sum()\n    tn = (~ys & ~yhats).sum()\n\n    tpr = tp/(tp+fn)\n    fpr = fp/(fp+tn)\n\n    return tpr, fpr",
      "execution_count": 4,
      "outputs": []
    },
    {
      "metadata": {
        "trusted": true
      },
      "cell_type": "code",
      "source": "def get_auc(xs, ys):\n    fprs, tprs = xs, ys\n    prev_fpr = fprs[0]\n    prev_tpr = tprs[0]\n    \n    auc = 0\n    for fpr, tpr in zip(fprs[1:], tprs[1:]):\n        segment = (prev_fpr-fpr)*(prev_tpr+tpr)/2\n        auc += segment\n        prev_fpr, prev_tpr = fpr, tpr\n    \n    return auc",
      "execution_count": 5,
      "outputs": []
    },
    {
      "metadata": {
        "colab": {
          "base_uri": "https://localhost:8080/",
          "height": 410
        },
        "colab_type": "code",
        "id": "6sCBLLA54Qc0",
        "outputId": "cd3371f4-b992-43f7-c7ff-b4030d73b99a",
        "trusted": true
      },
      "cell_type": "code",
      "source": "# 정답을 입력해주세요\n\ncut_values = np.linspace(0., 1., 100)\n\ntprs = []\nfprs = []\nfor cut_value in cut_values:\n    tpr, fpr = get_pr(cut_value)\n    tprs.append(tpr)\n    fprs.append(fpr)\n    \nauc = get_auc(fprs, tprs)\nplt.text(0.5, 0.5, auc)\nplt.plot(fprs, tprs)",
      "execution_count": 6,
      "outputs": [
        {
          "output_type": "execute_result",
          "execution_count": 6,
          "data": {
            "text/plain": "[<matplotlib.lines.Line2D at 0x7f6646565198>]"
          },
          "metadata": {}
        },
        {
          "output_type": "display_data",
          "data": {
            "image/png": "[encoded data removed]",
            "text/plain": "<Figure size 432x288 with 1 Axes>"
          },
          "metadata": {
            "needs_background": "light"
          }
        }
      ]
    },
    {
      "metadata": {
        "colab_type": "text",
        "id": "_uPOnldhfimA"
      },
      "cell_type": "markdown",
      "source": "#### 정답 확인\n\n정답 : AUC , ROC curve 는 아래와 같은 그림이 나와야 정답입니다\n\n![Imgur](https://i.imgur.com/nOOc7Va.png)"
    }
  ],
  "metadata": {
    "colab": {
      "collapsed_sections": [],
      "name": "8_Model_Evaluation.ipynb",
      "provenance": [],
      "toc_visible": true,
      "version": "0.3.2"
    },
    "kernelspec": {
      "name": "python36",
      "display_name": "Python 3.6",
      "language": "python"
    },
    "language_info": {
      "mimetype": "text/x-python",
      "nbconvert_exporter": "python",
      "name": "python",
      "pygments_lexer": "ipython3",
      "version": "3.6.6",
      "file_extension": ".py",
      "codemirror_mode": {
        "version": 3,
        "name": "ipython"
      }
    }
  },
  "nbformat": 4,
  "nbformat_minor": 1
}