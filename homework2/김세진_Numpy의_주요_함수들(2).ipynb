{
  "nbformat": 4,
  "nbformat_minor": 0,
  "metadata": {
    "colab": {
      "name": "5_Numpy의 주요 함수들(2).ipynb",
      "version": "0.3.2",
      "provenance": [],
      "collapsed_sections": []
    },
    "language_info": {
      "codemirror_mode": {
        "name": "ipython",
        "version": 3
      },
      "file_extension": ".py",
      "mimetype": "text/x-python",
      "name": "python",
      "nbconvert_exporter": "python",
      "pygments_lexer": "ipython3",
      "version": "3.6.5"
    },
    "kernelspec": {
      "display_name": "Python 3",
      "language": "python",
      "name": "python3"
    }
  },
  "cells": [
    {
      "cell_type": "markdown",
      "metadata": {
        "id": "1_oGuDRFAcIO",
        "colab_type": "text"
      },
      "source": [
        "## Numpy의 주요 함수들(2)\n"
      ]
    },
    {
      "cell_type": "code",
      "metadata": {
        "id": "G3Oaa3lkAcIP",
        "colab_type": "code",
        "colab": {}
      },
      "source": [
        "# 우선 실행해 주세요\n",
        "import numpy as np"
      ],
      "execution_count": 0,
      "outputs": []
    },
    {
      "cell_type": "markdown",
      "metadata": {
        "id": "Ml8cOshYAcIS",
        "colab_type": "text"
      },
      "source": [
        "#### 예제) \n",
        "\n",
        "* 중간고사, 학생들의 국영수사과 성적표\n",
        "\n",
        "| 학생 번호 | 국어 | 영어 | 수학 | 사회 | 과학 |\n",
        "|  ----   | --- |---| --- | --- | --- |\n",
        "|0 |80 |92 |70 | 65 | 92 |\n",
        "|1 |91 |75 |90 | 68 | 85 | \n",
        "|2 |86 |76 |42 | 72 | 88 |\n",
        "|3 |77 |92 |52 | 60 | 80 |\n",
        "|4 |75 |85 |85 | 92 | 95 |\n",
        "|5 |96 |90 |95 | 81 | 72 |\n",
        "\n",
        "\n",
        "* 기말고사, 학생들의 국영수사과 성적표\n",
        "\n",
        "| 학생 번호 | 국어 | 영어 | 수학 | 사회 | 과학 |\n",
        "|  ----   | --- |---| --- | --- | --- |\n",
        "|0 |85 |95 |90 | 66 | 93 |\n",
        "|1 |93 |70 |80 | 60 | 81 | \n",
        "|2 |89 |78 |55 | 75 | 80 |\n",
        "|3 |80 |94 |59 | 72 | 90 |\n",
        "|4 |70 |82 |81 | 95 | 72 |\n",
        "|5 |90 |76 |93 | 82 | 89 |"
      ]
    },
    {
      "cell_type": "code",
      "metadata": {
        "id": "Otyg-NEjAcIT",
        "colab_type": "code",
        "outputId": "4fe7fe4e-88c7-436d-f23c-f0692265345d",
        "colab": {
          "base_uri": "https://localhost:8080/",
          "height": 251
        }
      },
      "source": [
        "middle_scores = np.array([\n",
        "    [80,92,70,65,92],\n",
        "    [91,75,90,68,85],\n",
        "    [86,76,42,72,88],\n",
        "    [77,92,52,60,80],\n",
        "    [75,85,85,92,95],\n",
        "    [96,90,95,81,72]\n",
        "])\n",
        "\n",
        "final_scores = np.array([\n",
        "    [85,95,90,66,93],\n",
        "    [93,70,80,60,81],\n",
        "    [89,78,55,75,80],\n",
        "    [80,94,59,72,90],\n",
        "    [70,82,81,95,72],\n",
        "    [90,76,93,82,89]\n",
        "])\n",
        "\n",
        "scores = np.stack([middle_scores,final_scores])\n",
        "\n",
        "scores"
      ],
      "execution_count": 2,
      "outputs": [
        {
          "output_type": "execute_result",
          "data": {
            "text/plain": [
              "array([[[80, 92, 70, 65, 92],\n",
              "        [91, 75, 90, 68, 85],\n",
              "        [86, 76, 42, 72, 88],\n",
              "        [77, 92, 52, 60, 80],\n",
              "        [75, 85, 85, 92, 95],\n",
              "        [96, 90, 95, 81, 72]],\n",
              "\n",
              "       [[85, 95, 90, 66, 93],\n",
              "        [93, 70, 80, 60, 81],\n",
              "        [89, 78, 55, 75, 80],\n",
              "        [80, 94, 59, 72, 90],\n",
              "        [70, 82, 81, 95, 72],\n",
              "        [90, 76, 93, 82, 89]]])"
            ]
          },
          "metadata": {
            "tags": []
          },
          "execution_count": 2
        }
      ]
    },
    {
      "cell_type": "markdown",
      "metadata": {
        "id": "kpgjicuKAcIX",
        "colab_type": "text"
      },
      "source": [
        "현재 데이터의 shape는 (2,6,5)로, \n",
        "\n",
        "* 첫번째 축 : 중간 / 기말\n",
        "* 두번째 축 : 학생 번호 \n",
        "* 세번째 축 : 과목\n",
        "\n",
        "으로 구성되어 있다."
      ]
    },
    {
      "cell_type": "markdown",
      "metadata": {
        "id": "zEvbqeBoAcIX",
        "colab_type": "text"
      },
      "source": [
        "## 문제 1. 평균 구하기(1)\n",
        "* **중간고사** 때, **국어, 영어, 수학** 의 학생 평균 성적은 계산해 주세요.\n",
        "\n",
        "정답 >>> \n",
        "```python\n",
        "[84.16666667, 85.        , 72.33333333] # [국어, 영어, 수학]\n",
        "```"
      ]
    },
    {
      "cell_type": "code",
      "metadata": {
        "id": "iiAQpYltAcIY",
        "colab_type": "code",
        "outputId": "1deec980-8daf-42f8-bcfa-f8ad0fe0a528",
        "colab": {
          "base_uri": "https://localhost:8080/",
          "height": 251
        }
      },
      "source": [
        "# 우선 실행해주세요\n",
        "scores = np.stack([middle_scores, final_scores])\n",
        "scores"
      ],
      "execution_count": 3,
      "outputs": [
        {
          "output_type": "execute_result",
          "data": {
            "text/plain": [
              "array([[[80, 92, 70, 65, 92],\n",
              "        [91, 75, 90, 68, 85],\n",
              "        [86, 76, 42, 72, 88],\n",
              "        [77, 92, 52, 60, 80],\n",
              "        [75, 85, 85, 92, 95],\n",
              "        [96, 90, 95, 81, 72]],\n",
              "\n",
              "       [[85, 95, 90, 66, 93],\n",
              "        [93, 70, 80, 60, 81],\n",
              "        [89, 78, 55, 75, 80],\n",
              "        [80, 94, 59, 72, 90],\n",
              "        [70, 82, 81, 95, 72],\n",
              "        [90, 76, 93, 82, 89]]])"
            ]
          },
          "metadata": {
            "tags": []
          },
          "execution_count": 3
        }
      ]
    },
    {
      "cell_type": "markdown",
      "metadata": {
        "id": "7IXC7rAlAcIb",
        "colab_type": "text"
      },
      "source": [
        "#### 답안지 입력란\n",
        "* 아래에 답을 서술하여 주세요\n",
        "* 결과는 `answer1`에 담아주세요"
      ]
    },
    {
      "cell_type": "code",
      "metadata": {
        "id": "MUBwJ-oAAcIb",
        "colab_type": "code",
        "colab": {}
      },
      "source": [
        "answer1 = scores.mean(axis = 1)[0,0:3]"
      ],
      "execution_count": 0,
      "outputs": []
    },
    {
      "cell_type": "markdown",
      "metadata": {
        "id": "Eg9IXLWSAcIg",
        "colab_type": "text"
      },
      "source": [
        "#### 정답 확인\n",
        "* 정답을 입력한 후, 아래를 실행시키면 정답인지 확인합니다."
      ]
    },
    {
      "cell_type": "code",
      "metadata": {
        "id": "NjE8_a6FAcIh",
        "colab_type": "code",
        "outputId": "da3cd0fb-3f37-4923-a2a1-44ab4a1728a5",
        "colab": {
          "base_uri": "https://localhost:8080/",
          "height": 35
        }
      },
      "source": [
        "from numpy.testing import assert_almost_equal\n",
        "\n",
        "assert 'answer1' in globals(), \"결과를 answer1 변수에 담아주세요!, answer1 값을 보고 평가합니다.\"\n",
        "\n",
        "A = [84.16666667, 85. , 72.33333333]\n",
        "\n",
        "assert_almost_equal(A, answer1,decimal=0.3,\n",
        "               err_msg=\"\\n정답은 \\n{}\\n입니다. 다시 확인해 주세요\\n\".format(A))\n",
        "\n",
        "print(\"정답입니다!!!\")"
      ],
      "execution_count": 10,
      "outputs": [
        {
          "output_type": "stream",
          "text": [
            "정답입니다!!!\n"
          ],
          "name": "stdout"
        }
      ]
    },
    {
      "cell_type": "markdown",
      "metadata": {
        "id": "AgfLBX7QAcIl",
        "colab_type": "text"
      },
      "source": [
        "## 문제 2. 차이의 평균 구하기\n",
        "* **중간고사** 대비 **기말고사** 때의 성적 차이를 구하고, 과목 별 성적 차이의 평균을 구해 주세요!\n",
        "\n",
        "정답 >>>\n",
        "\n",
        "```python\n",
        "[0.33333333, -2.5, 4., 2., -1.16666667] # [국어,영어,수학,사회,과학]\n",
        "```"
      ]
    },
    {
      "cell_type": "code",
      "metadata": {
        "id": "Ne9sGGnAAcIm",
        "colab_type": "code",
        "outputId": "9e874110-aeab-4e44-c03c-d15246cfde7e",
        "colab": {}
      },
      "source": [
        "# 우선 실행해주세요\n",
        "scores = np.stack([middle_scores, final_scores])\n",
        "scores"
      ],
      "execution_count": 0,
      "outputs": [
        {
          "output_type": "execute_result",
          "data": {
            "text/plain": [
              "array([[[80, 92, 70, 65, 92],\n",
              "        [91, 75, 90, 68, 85],\n",
              "        [86, 76, 42, 72, 88],\n",
              "        [77, 92, 52, 60, 80],\n",
              "        [75, 85, 85, 92, 95],\n",
              "        [96, 90, 95, 81, 72]],\n",
              "\n",
              "       [[85, 95, 90, 66, 93],\n",
              "        [93, 70, 80, 60, 81],\n",
              "        [89, 78, 55, 75, 80],\n",
              "        [80, 94, 59, 72, 90],\n",
              "        [70, 82, 81, 95, 72],\n",
              "        [90, 76, 93, 82, 89]]])"
            ]
          },
          "metadata": {
            "tags": []
          },
          "execution_count": 6
        }
      ]
    },
    {
      "cell_type": "markdown",
      "metadata": {
        "id": "b8-Mb8N2AcIp",
        "colab_type": "text"
      },
      "source": [
        "#### 답안지 입력란\n",
        "* 아래에 답을 서술하여 주세요\n",
        "* 결과는 `answer2`에 담아주세요"
      ]
    },
    {
      "cell_type": "code",
      "metadata": {
        "id": "tqcXy5z2AcIp",
        "colab_type": "code",
        "colab": {
          "base_uri": "https://localhost:8080/",
          "height": 143
        },
        "outputId": "da9e5233-4570-4b85-bf00-e7e4fa8d4db1"
      },
      "source": [
        "answer2 = np.mean((scores[1] - scores[0]), axis = 0)\n",
        "print(answer2)\n",
        "scores[1] - scores[0]"
      ],
      "execution_count": 25,
      "outputs": [
        {
          "output_type": "stream",
          "text": [
            "[ 0.33333333 -2.5         4.          2.         -1.16666667]\n"
          ],
          "name": "stdout"
        },
        {
          "output_type": "execute_result",
          "data": {
            "text/plain": [
              "array([[  5,   3,  20,   1,   1],\n",
              "       [  2,  -5, -10,  -8,  -4],\n",
              "       [  3,   2,  13,   3,  -8],\n",
              "       [  3,   2,   7,  12,  10],\n",
              "       [ -5,  -3,  -4,   3, -23],\n",
              "       [ -6, -14,  -2,   1,  17]])"
            ]
          },
          "metadata": {
            "tags": []
          },
          "execution_count": 25
        }
      ]
    },
    {
      "cell_type": "markdown",
      "metadata": {
        "id": "w-e75HHcAcIr",
        "colab_type": "text"
      },
      "source": [
        "#### 정답 확인\n",
        "* 정답을 입력한 후, 아래를 실행시키면 정답인지 확인합니다."
      ]
    },
    {
      "cell_type": "code",
      "metadata": {
        "id": "T1XyfFNBAcIs",
        "colab_type": "code",
        "outputId": "f890274b-f828-467d-8d0e-9d0a73b57e78",
        "colab": {
          "base_uri": "https://localhost:8080/",
          "height": 35
        }
      },
      "source": [
        "from numpy.testing import assert_almost_equal\n",
        "\n",
        "assert 'answer2' in globals(), \"결과를 answer2 변수에 담아주세요!, answer2 값을 보고 평가합니다.\"\n",
        "\n",
        "A = [ 0.333, -2.5 ,4. ,  2. , -1.16666]\n",
        "\n",
        "assert_almost_equal(A, answer2,decimal=3,\n",
        "                    err_msg=\"\\n\\n정답은 \\n{}\\n입니다. 다시 확인해 주세요\".format(A))\n",
        "print(\"정답입니다!!!\")"
      ],
      "execution_count": 26,
      "outputs": [
        {
          "output_type": "stream",
          "text": [
            "정답입니다!!!\n"
          ],
          "name": "stdout"
        }
      ]
    },
    {
      "cell_type": "markdown",
      "metadata": {
        "id": "769AXo3lAcIw",
        "colab_type": "text"
      },
      "source": [
        "## 문제 3. 표준 점수 구하기\n",
        "* 표준 점수는 아래와 같은 수식을 따른다. **중간고사** 때의 성적을 표준점수로 환산해 주세요\n",
        "\n",
        "$$\n",
        "z = \\frac{x-\\mu}{\\sigma}\n",
        "$$\n",
        "\n",
        "\n",
        "주의사항 \n",
        "* 과목 별로 평균과 표준편차를 따로 구해 적용해야 합니다.\n",
        "\n",
        "\n",
        "정답 >>>\n",
        "\n",
        "```python\n",
        "# 표준점수로 환산한 결과는 아래처럼 나옵니다\n",
        "[[-0.55121733,  0.9834151 , -0.11852496, -0.74926865,  0.87121368],\n",
        "       [ 0.90399642, -1.40487872,  0.89740324, -0.46829291, -0.04356068],\n",
        "       [ 0.24253563, -1.26439085, -1.54082442, -0.09365858,  0.34848547],\n",
        "       [-0.94809381,  0.9834151 , -1.03286033, -1.21756156, -0.69697095],\n",
        "       [-1.21267813,  0.        ,  0.64342119,  1.77951304,  1.26325984],\n",
        "       [ 1.56545722,  0.70243936,  1.15138528,  0.74926865, -1.74242737]]\n",
        "```"
      ]
    },
    {
      "cell_type": "code",
      "metadata": {
        "id": "TUUjJSvtAcIx",
        "colab_type": "code",
        "outputId": "f5c4b488-e370-40da-e20f-38642f6a7307",
        "colab": {
          "base_uri": "https://localhost:8080/",
          "height": 125
        }
      },
      "source": [
        "# 우선 실행해주세요\n",
        "middle_scores"
      ],
      "execution_count": 27,
      "outputs": [
        {
          "output_type": "execute_result",
          "data": {
            "text/plain": [
              "array([[80, 92, 70, 65, 92],\n",
              "       [91, 75, 90, 68, 85],\n",
              "       [86, 76, 42, 72, 88],\n",
              "       [77, 92, 52, 60, 80],\n",
              "       [75, 85, 85, 92, 95],\n",
              "       [96, 90, 95, 81, 72]])"
            ]
          },
          "metadata": {
            "tags": []
          },
          "execution_count": 27
        }
      ]
    },
    {
      "cell_type": "markdown",
      "metadata": {
        "id": "gcbwG_1SAcI1",
        "colab_type": "text"
      },
      "source": [
        "#### 답안지 입력란\n",
        "* 아래에 답을 서술하여 주세요\n",
        "* 결과는 `answer3`에 담아주세요"
      ]
    },
    {
      "cell_type": "code",
      "metadata": {
        "id": "kssjUGZDAcI2",
        "colab_type": "code",
        "colab": {
          "base_uri": "https://localhost:8080/",
          "height": 125
        },
        "outputId": "119ccc74-d572-40d6-8987-db9e141e4419"
      },
      "source": [
        "answer3 = (middle_scores - middle_scores.mean(axis = 0))/middle_scores.std(axis = 0)\n",
        "print(answer3)"
      ],
      "execution_count": 37,
      "outputs": [
        {
          "output_type": "stream",
          "text": [
            "[[-0.55121733  0.9834151  -0.11852496 -0.74926865  0.87121368]\n",
            " [ 0.90399642 -1.40487872  0.89740324 -0.46829291 -0.04356068]\n",
            " [ 0.24253563 -1.26439085 -1.54082442 -0.09365858  0.34848547]\n",
            " [-0.94809381  0.9834151  -1.03286033 -1.21756156 -0.69697095]\n",
            " [-1.21267813  0.          0.64342119  1.77951304  1.26325984]\n",
            " [ 1.56545722  0.70243936  1.15138528  0.74926865 -1.74242737]]\n"
          ],
          "name": "stdout"
        }
      ]
    },
    {
      "cell_type": "markdown",
      "metadata": {
        "id": "74t9aMF1AcI3",
        "colab_type": "text"
      },
      "source": [
        "#### 정답 확인\n",
        "* 정답을 입력한 후, 아래를 실행시키면 정답인지 확인합니다."
      ]
    },
    {
      "cell_type": "code",
      "metadata": {
        "id": "h6L_5T3kAcI4",
        "colab_type": "code",
        "outputId": "34e333f3-6417-4d56-d68c-831f52fe787b",
        "colab": {
          "base_uri": "https://localhost:8080/",
          "height": 35
        }
      },
      "source": [
        "from numpy.testing import assert_almost_equal\n",
        "\n",
        "assert 'answer3' in globals(), \"결과를 answer3 변수에 담아주세요!, answer3 값을 보고 평가합니다.\"\n",
        "\n",
        "A = [[-0.55121733,  0.9834151 , -0.11852496, -0.74926865,  0.87121368],\n",
        "       [ 0.90399642, -1.40487872,  0.89740324, -0.46829291, -0.04356068],\n",
        "       [ 0.24253563, -1.26439085, -1.54082442, -0.09365858,  0.34848547],\n",
        "       [-0.94809381,  0.9834151 , -1.03286033, -1.21756156, -0.69697095],\n",
        "       [-1.21267813,  0.        ,  0.64342119,  1.77951304,  1.26325984],\n",
        "       [ 1.56545722,  0.70243936,  1.15138528,  0.74926865, -1.74242737]]\n",
        "\n",
        "assert_almost_equal(A, answer3,decimal=3,err_msg=\"\\n\\n정답은 \\n{}\\n입니다. 다시 확인해 주세요\".format(A))\n",
        "print(\"정답입니다!!!\")"
      ],
      "execution_count": 38,
      "outputs": [
        {
          "output_type": "stream",
          "text": [
            "정답입니다!!!\n"
          ],
          "name": "stdout"
        }
      ]
    },
    {
      "cell_type": "code",
      "metadata": {
        "id": "YlCWbsJT0_nC",
        "colab_type": "code",
        "colab": {}
      },
      "source": [
        ""
      ],
      "execution_count": 0,
      "outputs": []
    }
  ]
}