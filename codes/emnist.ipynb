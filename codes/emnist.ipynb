{
  "nbformat": 4,
  "nbformat_minor": 0,
  "metadata": {
    "colab": {
      "name": "emnist.ipynb",
      "provenance": [],
      "private_outputs": true,
      "collapsed_sections": []
    },
    "kernelspec": {
      "name": "python3",
      "display_name": "Python 3"
    },
    "accelerator": "GPU"
  },
  "cells": [
    {
      "cell_type": "markdown",
      "metadata": {
        "id": "Ks4BKH9BRe4_",
        "colab_type": "text"
      },
      "source": [
        "# 실행 순서 \n",
        "------\n",
        "+ ## 1. DataDownload \n",
        "+ ## 2. EDA \n",
        " ### 1. train, test pixel 값의 EDA\n",
        " ### 2. train ,test class 별 데이터 갯수 \n",
        "\n",
        "##3. DNN 구성.\n",
        "\n",
        "##4. metric 측정 \n",
        "- (tensorboard accuracy, loss step별로 측정)\n",
        "\n",
        "##5. analysis \n",
        "- 각 층별 weights, bias 평균의 변화 측정 (step 별)*이탤릭체 텍스트*\n",
        "------"
      ]
    },
    {
      "cell_type": "markdown",
      "metadata": {
        "id": "sZxGJKYeeQ9_",
        "colab_type": "text"
      },
      "source": [
        "### 1. EMNIST DataDownLOAD "
      ]
    },
    {
      "cell_type": "code",
      "metadata": {
        "id": "dMrmssZfQzxh",
        "colab_type": "code",
        "colab": {}
      },
      "source": [
        "!pip install emnist"
      ],
      "execution_count": 0,
      "outputs": []
    },
    {
      "cell_type": "code",
      "metadata": {
        "id": "tb_xpB9MQ5-q",
        "colab_type": "code",
        "colab": {}
      },
      "source": [
        "import emnist\n",
        "import matplotlib.pyplot as plt \n",
        "import numpy as np "
      ],
      "execution_count": 0,
      "outputs": []
    },
    {
      "cell_type": "code",
      "metadata": {
        "id": "_guXh6WYQ_Gs",
        "colab_type": "code",
        "colab": {}
      },
      "source": [
        "train_images, train_labels = emnist.extract_training_samples('letters')\n",
        "test_images, test_labels = emnist.extract_test_samples('letters')"
      ],
      "execution_count": 0,
      "outputs": []
    },
    {
      "cell_type": "code",
      "metadata": {
        "id": "kQ-hEcJURVJK",
        "colab_type": "code",
        "colab": {}
      },
      "source": [
        "# show sample data \n",
        "print(train_images.shape)\n",
        "plt.imshow(train_images[0])\n",
        "plt.show()\n",
        "plt.imshow(train_images[1])\n",
        "plt.show()"
      ],
      "execution_count": 0,
      "outputs": []
    },
    {
      "cell_type": "markdown",
      "metadata": {
        "id": "2TgDylTThGF4",
        "colab_type": "text"
      },
      "source": [
        "#### Image EDA "
      ]
    },
    {
      "cell_type": "code",
      "metadata": {
        "id": "F4rXGPknhSwr",
        "colab_type": "code",
        "colab": {}
      },
      "source": [
        "# Train Image \n",
        "n_train = len(train_images)\n",
        "seq_length = train_images.shape[1:3]\n",
        "\n",
        "train_min = train_images.reshape([-1,784]).min(axis=1)\n",
        "train_max = train_images.reshape([-1,784]).max(axis=1)\n",
        "\n",
        "print('# train : {}'.format(n_train))\n",
        "print('seq_length : {}'.format(seq_length))\n",
        "\n",
        "# 아래 그림으로 보아 모든 Test 이미지가 최소값은 0, 최대값은 255을 가지고 있음. \n",
        "plt.scatter(train_min, train_max)"
      ],
      "execution_count": 0,
      "outputs": []
    },
    {
      "cell_type": "code",
      "metadata": {
        "id": "YxJIXlDGkWkG",
        "colab_type": "code",
        "colab": {}
      },
      "source": [
        "# Test Image \n",
        "n_test = len(test_images)\n",
        "seq_length = test_images.shape[1:3]\n",
        "\n",
        "test_min = test_images.reshape([-1,784]).min(axis=1)\n",
        "test_max = test_images.reshape([-1,784]).max(axis=1)\n",
        "\n",
        "print('# train : {}'.format(n_test))\n",
        "print('seq_length : {}'.format(seq_length))\n",
        "\n",
        "# 아래 그림으로 보아 모든 Test 이미지가 최소값은 0, 최대값은 255을 가지고 있음. \n",
        "plt.scatter(test_min, test_max)"
      ],
      "execution_count": 0,
      "outputs": []
    },
    {
      "cell_type": "markdown",
      "metadata": {
        "id": "Hox-JI_akSfw",
        "colab_type": "text"
      },
      "source": [
        "#### Label EDA "
      ]
    },
    {
      "cell_type": "code",
      "metadata": {
        "id": "K47CeLpSjBsB",
        "colab_type": "code",
        "colab": {}
      },
      "source": [
        "print('train label data shape : {}'.format(train_labels.shape))\n",
        "print('test label data shape : {}'.format(test_labels.shape))\n",
        "\n",
        "print(np.unique(train_labels, return_counts=True))\n",
        "print(np.unique(test_labels, return_counts=True))\n",
        "\n",
        "train_labels = train_labels - 1 \n",
        "test_labels = test_labels - 1 "
      ],
      "execution_count": 0,
      "outputs": []
    },
    {
      "cell_type": "markdown",
      "metadata": {
        "id": "fqpZfH91hTWf",
        "colab_type": "text"
      },
      "source": [
        "### Normalize and Normalization checking  "
      ]
    },
    {
      "cell_type": "code",
      "metadata": {
        "id": "-qUP6B8KS3t0",
        "colab_type": "code",
        "colab": {}
      },
      "source": [
        "np.unique([train_labels],return_counts=True)\n",
        "\n",
        "# Normalization\n",
        "train_images = train_images.reshape(-1,784)/ 255.\n",
        "test_images = test_images.reshape(-1,784) / 255.\n",
        "\n",
        "# Check Normalization \n",
        "def chk_norm(input_data, min_value=0, max_value=1):\n",
        "    \"\"\"\n",
        "    input_data : Ndarray, \n",
        "    min_value : int, input_data의 모든 element는 min_value 이상의 값을 가져야함 \n",
        "    max_value : int, input_data의 모든 element는 max_value 이하의 값을 가져야함 \n",
        "\n",
        "    description: input_data의 모든 element가 특정 범위(min_value ~ max_value)에 있는지 확인합니다.\n",
        "    \"\"\"\n",
        "    input_data = np.asarray(input_data)\n",
        "    assert np.all(input_data <= max_value) & np.all(input_data >= min_value), 'normalize가 잘못 되었습니다.'\n",
        "\n",
        "\n",
        "chk_norm(train_images)    \n",
        "chk_norm(test_images)"
      ],
      "execution_count": 0,
      "outputs": []
    },
    {
      "cell_type": "markdown",
      "metadata": {
        "id": "EILqz9ejk3tf",
        "colab_type": "text"
      },
      "source": [
        "## Input layer"
      ]
    },
    {
      "cell_type": "code",
      "metadata": {
        "id": "h66szIRgcCa9",
        "colab_type": "code",
        "colab": {}
      },
      "source": [
        "import tensorflow as tf \n",
        "num_inputs = 28*28 # MNIST Input size\n",
        "num_outputs = 26 # The number of Label : 26\n",
        "\n",
        "tf.reset_default_graph()\n",
        "\n",
        "# Data를 받아오는 placeholder\n",
        "x = tf.placeholder(tf.float32, shape=[None, num_inputs],name='x')\n",
        "\n",
        "#labels shape : [1,3,7,7,4,..]\n",
        "labels_cls = tf.placeholder(tf.int32, shape=[None], name='labels') \n",
        "\n",
        "# scalar 을 onehot-vector 형태로 변환합니다.\n",
        "labels = tf.one_hot(labels_cls, depth=num_outputs)\n",
        "\n",
        "learning_rate = tf.placeholder_with_default(0.1,shape=(),\n",
        "                                            name='learning_rate')"
      ],
      "execution_count": 0,
      "outputs": []
    },
    {
      "cell_type": "markdown",
      "metadata": {
        "id": "k21T-h0tlKp_",
        "colab_type": "text"
      },
      "source": [
        "## Model"
      ]
    },
    {
      "cell_type": "code",
      "metadata": {
        "id": "OMvuI3OLk13Z",
        "colab_type": "code",
        "colab": {}
      },
      "source": [
        "num_hidden1 = 64\n",
        "num_hidden2 = 128\n",
        "num_hidden3 = 256\n",
        "\n",
        "# Weight 초기화\n",
        "with tf.variable_scope('hidden1'):\n",
        "    w1 = tf.Variable(tf.random.normal([num_inputs,num_hidden1],\n",
        "                                      stddev=np.sqrt(2/num_inputs)),\n",
        "                     name='weight')\n",
        "    b1 = tf.Variable(tf.zeros([num_hidden1])\n",
        "                     ,name='bias')\n",
        "    \n",
        "    z1 = tf.matmul(x, w1) + b1\n",
        "    a1 = tf.nn.relu(z1)\n",
        "\n",
        "with tf.variable_scope('hidden2'):\n",
        "    w2 = tf.Variable(tf.random.normal([num_hidden1,num_hidden2],\n",
        "                                      stddev=np.sqrt(2/num_hidden1)),\n",
        "                     name='weight')\n",
        "    b2 = tf.Variable(tf.zeros([num_hidden2])\n",
        "                     ,name='bias')\n",
        "\n",
        "    z2 = tf.matmul(a1, w2) + b2\n",
        "    a2 = tf.nn.relu(z2)\n",
        "\n",
        "    \n",
        "with tf.variable_scope('hidden2'):\n",
        "    w3 = tf.Variable(tf.random.normal([num_hidden2,num_hidden3],\n",
        "                                      stddev=np.sqrt(2/num_hidden2)),\n",
        "                     name='weight')\n",
        "    b3 = tf.Variable(tf.zeros([num_hidden3])\n",
        "                     ,name='bias')\n",
        "\n",
        "    z3 = tf.matmul(a2, w3) + b3\n",
        "    a3 = tf.nn.relu(z3)\n",
        "    \n",
        "\n",
        "with tf.variable_scope('output'):\n",
        "    wo = tf.Variable(tf.random.normal([num_hidden3,num_outputs],\n",
        "                                      stddev=np.sqrt(2/num_hidden3)),\n",
        "                     name='weight')\n",
        "    bo = tf.Variable(tf.zeros([num_outputs])\n",
        "                     ,name='bias')\n",
        "\n",
        "    logits = tf.matmul(a3, wo) + bo\n",
        "logits = tf.identity(logits, name='logits')\n",
        "\n"
      ],
      "execution_count": 0,
      "outputs": []
    },
    {
      "cell_type": "markdown",
      "metadata": {
        "id": "rivK26TVl0cu",
        "colab_type": "text"
      },
      "source": [
        "## Loss Function "
      ]
    },
    {
      "cell_type": "code",
      "metadata": {
        "id": "4CyhshyNl4eM",
        "colab_type": "code",
        "colab": {}
      },
      "source": [
        "loss = tf.nn.softmax_cross_entropy_with_logits_v2(logits=logits, labels=labels)\n",
        "mean_loss = tf.reduce_mean(loss)"
      ],
      "execution_count": 0,
      "outputs": []
    },
    {
      "cell_type": "markdown",
      "metadata": {
        "id": "AL7_zndOmDwD",
        "colab_type": "text"
      },
      "source": [
        "## Gradient "
      ]
    },
    {
      "cell_type": "code",
      "metadata": {
        "id": "EzRh0fCrmFbE",
        "colab_type": "code",
        "colab": {}
      },
      "source": [
        "vars = tf.get_collection(tf.GraphKeys.TRAINABLE_VARIABLES)\n",
        "grad_vars = tf.gradients(mean_loss, vars)\n",
        "tf.add_to_collection('GRADIENTS', grad_vars)"
      ],
      "execution_count": 0,
      "outputs": []
    },
    {
      "cell_type": "markdown",
      "metadata": {
        "id": "45BsTCbOmg1l",
        "colab_type": "text"
      },
      "source": [
        "## Train op"
      ]
    },
    {
      "cell_type": "code",
      "metadata": {
        "id": "E6vshwIUnWxE",
        "colab_type": "code",
        "colab": {}
      },
      "source": [
        "## low api 을 이용해 Gradient Descent 구현 \n",
        "# assign_ops = []\n",
        "# grad_var = tf.get_collection('GRADIENTS')\n",
        "# print(grad_var)\n",
        "# for var_, grad in  zip(vars, grad_var):\n",
        "#     print(var_, grad[0])\n",
        "#     assign_op = tf.assign_sub(var_, grad[0]*learning_rate)\n",
        "#     assign_ops.append(assign_op)\n",
        "# train_ops =tf.group(assign_ops)"
      ],
      "execution_count": 0,
      "outputs": []
    },
    {
      "cell_type": "code",
      "metadata": {
        "id": "QBvlXF1KmkN5",
        "colab_type": "code",
        "colab": {}
      },
      "source": [
        "## high level api을 이용해 Gradient Descent 구현\n",
        "train_op = tf.train.GradientDescentOptimizer(learning_rate).minimize(mean_loss)"
      ],
      "execution_count": 0,
      "outputs": []
    },
    {
      "cell_type": "markdown",
      "metadata": {
        "id": "P6GYOBE4oETP",
        "colab_type": "text"
      },
      "source": [
        "## next batch function"
      ]
    },
    {
      "cell_type": "code",
      "metadata": {
        "id": "xISpx1Stner-",
        "colab_type": "code",
        "colab": {}
      },
      "source": [
        "# 복원 추출 합니다. \n",
        "import random\n",
        "def next_batch(xs, ys, batch_size):\n",
        "    indices = random.sample(range(len(ys)), batch_size)\n",
        "    return xs[indices], ys[indices]\n"
      ],
      "execution_count": 0,
      "outputs": []
    },
    {
      "cell_type": "markdown",
      "metadata": {
        "id": "ijhDLH38pU0G",
        "colab_type": "text"
      },
      "source": [
        "## Metric"
      ]
    },
    {
      "cell_type": "code",
      "metadata": {
        "id": "VZBTnlf1slyP",
        "colab_type": "code",
        "colab": {}
      },
      "source": [
        "logits_cls = tf.argmax(logits, axis=1, output_type=tf.int32)\n",
        "acc = tf.reduce_mean(tf.cast(tf.equal(logits_cls, labels_cls), \n",
        "                     dtype=tf.float32))"
      ],
      "execution_count": 0,
      "outputs": []
    },
    {
      "cell_type": "markdown",
      "metadata": {
        "id": "jB6ptx6ooW1c",
        "colab_type": "text"
      },
      "source": [
        "## Session Open"
      ]
    },
    {
      "cell_type": "code",
      "metadata": {
        "id": "rf2miWhBoQx4",
        "colab_type": "code",
        "colab": {}
      },
      "source": [
        "sess = tf.Session()\n",
        "sess.run(tf.global_variables_initializer())"
      ],
      "execution_count": 0,
      "outputs": []
    },
    {
      "cell_type": "markdown",
      "metadata": {
        "id": "WRQxo6aNnrtX",
        "colab_type": "text"
      },
      "source": [
        "## training\n"
      ]
    },
    {
      "cell_type": "code",
      "metadata": {
        "id": "0-gFoZ5IoIq4",
        "colab_type": "code",
        "colab": {}
      },
      "source": [
        "max_iter = 20000\n",
        "batch_size = 120 \n",
        "mean_gradients=[]\n",
        "accum_train_acc = [] \n",
        "accum_train_loss = [] \n",
        "accum_test_acc = [] \n",
        "accum_test_loss = [] \n",
        "\n",
        "for i in range(max_iter):\n",
        "    # random select input data, labels\n",
        "    batch_xs, batch_ys = next_batch(train_images, train_labels, batch_size)\n",
        "    # Training \n",
        "    train_acc, train_loss, _ = sess.run([acc, mean_loss, train_op], \n",
        "                                        feed_dict={x: batch_xs,\n",
        "                                                   labels_cls: batch_ys,\n",
        "                                                  learning_rate:0.1})\n",
        "    # Evaluating\n",
        "    if i % 100 == 0:\n",
        "        test_acc, test_loss = sess.run([acc, mean_loss], \n",
        "                                    feed_dict={x:test_images,\n",
        "                                               labels_cls: test_labels})\n",
        "        print('step : {} train_acc : {:.4f} train_loss : {:.4f} validation acc : {:.4f} validation loss : {:.4f}'.\\\n",
        "              format(i, train_acc, train_loss, test_acc, test_loss))\n",
        "        \n",
        "        # list 에 추출함.\n",
        "        accum_train_acc.append(train_acc)\n",
        "        accum_train_loss.append(train_loss)\n",
        "        accum_test_acc.append(test_acc)        \n",
        "        accum_test_loss.append(test_loss)        "
      ],
      "execution_count": 0,
      "outputs": []
    },
    {
      "cell_type": "markdown",
      "metadata": {
        "id": "p3h8WbvEpx8Y",
        "colab_type": "text"
      },
      "source": [
        "## Visualization"
      ]
    },
    {
      "cell_type": "code",
      "metadata": {
        "id": "lGoYUbMLyiQC",
        "colab_type": "code",
        "colab": {}
      },
      "source": [
        "plt.plot(range(0,20000,100), accum_train_acc, label='train')\n",
        "plt.plot(range(0,20000,100), accum_test_acc, label='test')\n",
        "plt.title('Accuracy')\n",
        "plt.legend()\n"
      ],
      "execution_count": 0,
      "outputs": []
    },
    {
      "cell_type": "code",
      "metadata": {
        "id": "CUkp2Nlv0odN",
        "colab_type": "code",
        "colab": {}
      },
      "source": [
        "plt.plot(range(0,20000,100), accum_train_loss, label='train')\n",
        "plt.plot(range(0,20000,100), accum_test_loss, label='test')\n",
        "plt.title('Loss')\n",
        "plt.legend()\n"
      ],
      "execution_count": 0,
      "outputs": []
    }
  ]
}