{
  "nbformat": 4,
  "nbformat_minor": 0,
  "metadata": {
    "colab": {
      "name": "xor_gate.ipynb",
      "version": "0.3.2",
      "provenance": [],
      "collapsed_sections": []
    },
    "kernelspec": {
      "name": "python3",
      "display_name": "Python 3"
    }
  },
  "cells": [
    {
      "cell_type": "code",
      "metadata": {
        "id": "PfjyWyRQYXZ6",
        "colab_type": "code",
        "colab": {}
      },
      "source": [
        "import matplotlib.pyplot as plt"
      ],
      "execution_count": 0,
      "outputs": []
    },
    {
      "cell_type": "code",
      "metadata": {
        "id": "QdoOIKU61KUS",
        "colab_type": "code",
        "colab": {}
      },
      "source": [
        "import numpy as np\n",
        "import tensorflow as tf"
      ],
      "execution_count": 0,
      "outputs": []
    },
    {
      "cell_type": "code",
      "metadata": {
        "id": "Ej1svhks04Fc",
        "colab_type": "code",
        "colab": {}
      },
      "source": [
        "feature = np.asarray([[0.,0.],[0.,1.],[1.,0.],[1.,1.]])\n",
        "\n",
        "AND = np.asarray(['and', np.asarray([[0.],[0.],[0.],[1.]])])\n",
        "NAND = np.asarray(['nand', np.asarray([[1.],[1.],[1.],[0.]])])\n",
        "OR = np.asarray(['or', np.asarray([[0.],[1.],[1.],[1.]])])"
      ],
      "execution_count": 0,
      "outputs": []
    },
    {
      "cell_type": "code",
      "metadata": {
        "id": "M_4f0cEm21_8",
        "colab_type": "code",
        "colab": {}
      },
      "source": [
        "def sigmoid(x):\n",
        "    return 1 / (1 + tf.exp(-x))"
      ],
      "execution_count": 0,
      "outputs": []
    },
    {
      "cell_type": "code",
      "metadata": {
        "colab_type": "code",
        "id": "gQm0KIYazVF_",
        "colab": {}
      },
      "source": [
        "def train_gate(name, target):\n",
        "    losses = []\n",
        "    accs = []\n",
        "\n",
        "    # Build graph\n",
        "    graph = tf.Graph()\n",
        "    with graph.as_default():\n",
        "        xs = tf.placeholder(dtype=tf.float32, shape=feature.shape)\n",
        "\n",
        "        ys = tf.placeholder(dtype=tf.float32, shape=target.shape)\n",
        "\n",
        "        ws_shape = (feature.shape[-1], 1)\n",
        "        ws = tf.Variable(dtype=tf.float32, \\\n",
        "                            initial_value=tf.fill(ws_shape, 0.5))\n",
        "        \n",
        "        bs = tf.Variable(dtype=tf.float32, \\\n",
        "                            initial_value=0.5)\n",
        "\n",
        "        logit = tf.matmul(xs, ws) + bs\n",
        "        pred = sigmoid(logit)\n",
        "        diff = pred - ys\n",
        "\n",
        "        dw = tf.matmul(tf.transpose(xs), diff)\n",
        "        db = tf.reduce_mean(diff)\n",
        "\n",
        "        loss = tf.reduce_mean(tf.nn.sigmoid_cross_entropy_with_logits(labels=ys, logits=logit))\n",
        "        acc = tf.reduce_mean(tf.cast(tf.equal(tf.cast(pred > 0.5, tf.float32), ys), tf.float32))\n",
        "\n",
        "        lr = tf.placeholder_with_default(0.1, shape=[])\n",
        "        step = [tf.assign_sub(ws, lr * dw), tf.assign_sub(bs, lr * db)]\n",
        "\n",
        "        # Train\n",
        "        sess = tf.Session(graph=graph)\n",
        "        sess.run(tf.global_variables_initializer())\n",
        "\n",
        "        steps = 100\n",
        "        fetches = step\n",
        "        feeds = {xs: feature, ys: target}\n",
        "        \n",
        "        for i in range(steps):\n",
        "            _, lo, a = sess.run([step, loss, acc], feed_dict=feeds)\n",
        "            accs.append(a)\n",
        "            losses.append(lo)\n",
        "\n",
        "    plt.plot(range(steps), losses)\n",
        "    plt.plot(range(steps), accs)\n",
        "    plt.title(name)\n",
        "    plt.legend(['loss', 'accuracy'])\n",
        "\n",
        "    plt.show()\n",
        "\n",
        "    return sess.run([ws, bs])"
      ],
      "execution_count": 0,
      "outputs": []
    },
    {
      "cell_type": "code",
      "metadata": {
        "id": "IeJmkENk0vpJ",
        "colab_type": "code",
        "outputId": "82373da6-7c0e-49c4-fa94-e5f7bc13b354",
        "colab": {
          "base_uri": "https://localhost:8080/",
          "height": 897
        }
      },
      "source": [
        "AND_w, AND_b = train_gate(*AND)\n",
        "NAND_w, NAND_b = train_gate(*NAND)\n",
        "OR_w, OR_b = train_gate(*OR)"
      ],
      "execution_count": 0,
      "outputs": [
        {
          "output_type": "stream",
          "text": [
            "WARNING: Logging before flag parsing goes to stderr.\n",
            "W0816 08:20:40.476597 140519853823872 deprecation.py:323] From /usr/local/lib/python3.6/dist-packages/tensorflow/python/ops/nn_impl.py:180: add_dispatch_support.<locals>.wrapper (from tensorflow.python.ops.array_ops) is deprecated and will be removed in a future version.\n",
            "Instructions for updating:\n",
            "Use tf.where in 2.0, which has the same broadcast rule as np.where\n"
          ],
          "name": "stderr"
        },
        {
          "output_type": "display_data",
          "data": {
            "image/png": "[encoded data removed]",
            "text/plain": [
              "<Figure size 432x288 with 1 Axes>"
            ]
          },
          "metadata": {
            "tags": []
          }
        },
        {
          "output_type": "display_data",
          "data": {
            "image/png": "[encoded data removed]",
            "text/plain": [
              "<Figure size 432x288 with 1 Axes>"
            ]
          },
          "metadata": {
            "tags": []
          }
        },
        {
          "output_type": "display_data",
          "data": {
            "image/png": "[encoded data removed]",
            "text/plain": [
              "<Figure size 432x288 with 1 Axes>"
            ]
          },
          "metadata": {
            "tags": []
          }
        }
      ]
    },
    {
      "cell_type": "code",
      "metadata": {
        "id": "Ybva8e3Uc-Q2",
        "colab_type": "code",
        "colab": {}
      },
      "source": [
        "def discretize(signal):\n",
        "    if signal > 0:\n",
        "        return 1\n",
        "    else:\n",
        "        return 0"
      ],
      "execution_count": 0,
      "outputs": []
    },
    {
      "cell_type": "code",
      "metadata": {
        "id": "xRwTU103y2mL",
        "colab_type": "code",
        "colab": {}
      },
      "source": [
        "def and_gate(signal_a, signal_b):\n",
        "    signal = AND_w[0] * signal_a + AND_w[1] * signal_b + AND_b\n",
        "    signal = discretize(signal)\n",
        "\n",
        "    return signal"
      ],
      "execution_count": 0,
      "outputs": []
    },
    {
      "cell_type": "code",
      "metadata": {
        "id": "wxnbJiWNy4WA",
        "colab_type": "code",
        "colab": {}
      },
      "source": [
        "def nand_gate(signal_a, signal_b):\n",
        "    signal = NAND_w[0] * signal_a + NAND_w[1] * signal_b + NAND_b\n",
        "    signal = discretize(signal)\n",
        "\n",
        "    return signal"
      ],
      "execution_count": 0,
      "outputs": []
    },
    {
      "cell_type": "code",
      "metadata": {
        "id": "5JCWtnbRzf_Q",
        "colab_type": "code",
        "colab": {}
      },
      "source": [
        "def or_gate(signal_a, signal_b):\n",
        "    signal = OR_w[0] * signal_a + OR_w[1] * signal_b + OR_b\n",
        "    signal = discretize(signal)\n",
        "\n",
        "    return signal"
      ],
      "execution_count": 0,
      "outputs": []
    },
    {
      "cell_type": "code",
      "metadata": {
        "colab_type": "code",
        "id": "5lHgLJyKhZM4",
        "colab": {}
      },
      "source": [
        "def xor_gate(signal_a, signal_b):\n",
        "    return and_gate(nand_gate(signal_a, signal_b), or_gate(signal_b, signal_a))"
      ],
      "execution_count": 0,
      "outputs": []
    },
    {
      "cell_type": "code",
      "metadata": {
        "id": "2z-DYcv9f-eh",
        "colab_type": "code",
        "colab": {}
      },
      "source": [
        "def print_helper(func):\n",
        "    for e in feature:\n",
        "        print(func(*e), end='')"
      ],
      "execution_count": 0,
      "outputs": []
    },
    {
      "cell_type": "code",
      "metadata": {
        "id": "3uf02LcnCjVD",
        "colab_type": "code",
        "outputId": "f3bb20f3-9502-4a5a-9035-92c20651735b",
        "colab": {
          "base_uri": "https://localhost:8080/",
          "height": 35
        }
      },
      "source": [
        "# 0001\n",
        "print_helper(and_gate)"
      ],
      "execution_count": 0,
      "outputs": [
        {
          "output_type": "stream",
          "text": [
            "0001"
          ],
          "name": "stdout"
        }
      ]
    },
    {
      "cell_type": "code",
      "metadata": {
        "id": "bXA9yfk3C6Dh",
        "colab_type": "code",
        "outputId": "7c637068-d4e9-4331-b700-3ce43beabd77",
        "colab": {
          "base_uri": "https://localhost:8080/",
          "height": 35
        }
      },
      "source": [
        "# 1110\n",
        "print_helper(nand_gate)"
      ],
      "execution_count": 0,
      "outputs": [
        {
          "output_type": "stream",
          "text": [
            "1110"
          ],
          "name": "stdout"
        }
      ]
    },
    {
      "cell_type": "code",
      "metadata": {
        "id": "99bCOqznC71O",
        "colab_type": "code",
        "outputId": "5a534da1-7763-4054-de94-68eb3f2e1fe0",
        "colab": {
          "base_uri": "https://localhost:8080/",
          "height": 35
        }
      },
      "source": [
        "# 0111\n",
        "print_helper(or_gate)"
      ],
      "execution_count": 0,
      "outputs": [
        {
          "output_type": "stream",
          "text": [
            "0111"
          ],
          "name": "stdout"
        }
      ]
    },
    {
      "cell_type": "code",
      "metadata": {
        "id": "nkws2Xyj2pEh",
        "colab_type": "code",
        "outputId": "0a527a8a-5128-4c05-dbbd-0f2b20a73737",
        "colab": {
          "base_uri": "https://localhost:8080/",
          "height": 35
        }
      },
      "source": [
        "# 0110\n",
        "print_helper(xor_gate)"
      ],
      "execution_count": 0,
      "outputs": [
        {
          "output_type": "stream",
          "text": [
            "0110"
          ],
          "name": "stdout"
        }
      ]
    }
  ]
}