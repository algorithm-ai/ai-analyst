{
  "nbformat": 4,
  "nbformat_minor": 0,
  "metadata": {
    "colab": {
      "name": "8_Model_Evaluation_tf.ipynb",
      "version": "0.3.2",
      "provenance": [],
      "collapsed_sections": []
    },
    "language_info": {
      "codemirror_mode": {
        "name": "ipython",
        "version": 3
      },
      "file_extension": ".py",
      "mimetype": "text/x-python",
      "name": "python",
      "nbconvert_exporter": "python",
      "pygments_lexer": "ipython3",
      "version": "3.6.5"
    },
    "kernelspec": {
      "display_name": "Python 3",
      "language": "python",
      "name": "python3"
    }
  },
  "cells": [
    {
      "cell_type": "markdown",
      "metadata": {
        "id": "paoYDjxANp37",
        "colab_type": "text"
      },
      "source": [
        "## Section 8. Model Evaluation"
      ]
    },
    {
      "cell_type": "code",
      "metadata": {
        "id": "0GnQsEnfNp38",
        "colab_type": "code",
        "colab": {}
      },
      "source": [
        "import numpy as np\n",
        "import pandas as pd\n",
        "import matplotlib.pyplot as plt\n",
        "from sklearn.datasets import load_iris"
      ],
      "execution_count": 0,
      "outputs": []
    },
    {
      "cell_type": "markdown",
      "metadata": {
        "colab_type": "text",
        "id": "WuyZLdHhJ4am"
      },
      "source": [
        "## 문제 1. ROC Curve 와 AUC 구하기\n",
        "\n",
        "아래 코드는 \n",
        "IRIS 데이터 셋을 이용해  Iris Versicolour 와 Iris Virginica 을 구별하는 코드 입니다. \n",
        "\n",
        "아래 코드를 수행 했을 때 나온 데이터프레임에는 각 데이터 별로 예측값과 정답값에 대한 정보가 담겨져 있습니다. 이를 이용해 **ROC Curve** 와 **AUC** 을 구하고 시각화 합니다. \n",
        "\n",
        "참고 \n",
        "- 음성 label 은 0 , Versicolour <br>\n",
        "- 양성 label 은 1 , Virginica 입니다. "
      ]
    },
    {
      "cell_type": "code",
      "metadata": {
        "id": "sWqoN22oheW8",
        "colab_type": "code",
        "colab": {}
      },
      "source": [
        "# 우선 실행해주세요\n",
        "np.random.seed(1) # 같은 결과를 보장하기 위함\n",
        "# load Iris dataset \n",
        "iris = load_iris()\n",
        "\n",
        "indices = np.where((iris['target'] == 1) | (iris['target'] == 2))\n",
        "\n",
        "data = iris['data'][indices]\n",
        "target = iris['target'][indices]\n",
        "target = np.where(target==1, 0, 1)\n",
        "target = target.reshape([-1, 1])\n",
        "target_name = iris['target_names']"
      ],
      "execution_count": 0,
      "outputs": []
    },
    {
      "cell_type": "code",
      "metadata": {
        "id": "K93ZbBkcN6PS",
        "colab_type": "code",
        "colab": {}
      },
      "source": [
        "# Normalization\n",
        "data_norm = (data - data.min(axis=0)) / (data.max(axis=0) - data.min(axis=0))\n",
        "\n",
        "# Xs 와 np.ones 을 concatenate for broadcasting  \n",
        "feature = np.concatenate([data_norm, np.ones(shape=[data_norm.shape[0], 1])], axis=1)"
      ],
      "execution_count": 0,
      "outputs": []
    },
    {
      "cell_type": "code",
      "metadata": {
        "id": "12aNVoiziVAE",
        "colab_type": "code",
        "colab": {}
      },
      "source": [
        "import tensorflow as tf"
      ],
      "execution_count": 0,
      "outputs": []
    },
    {
      "cell_type": "code",
      "metadata": {
        "id": "PCaDr-4zitNB",
        "colab_type": "code",
        "colab": {}
      },
      "source": [
        "def sigmoid(x):\n",
        "    return 1 / (1 + tf.exp(-x))"
      ],
      "execution_count": 0,
      "outputs": []
    },
    {
      "cell_type": "code",
      "metadata": {
        "id": "YfPcx7h3Np4A",
        "colab_type": "code",
        "colab": {}
      },
      "source": [
        "# Build graph\n",
        "\n",
        "# 'input' is a reserved word\n",
        "xs = tf.placeholder(dtype=tf.float32, shape=feature.shape)\n",
        "\n",
        "ys = tf.placeholder(dtype=tf.float32, shape=target.shape)\n",
        "\n",
        "ws_shape = (feature.shape[-1], 1)\n",
        "ws = tf.Variable(dtype=tf.float32, \\\n",
        "                     initial_value=tf.ones(shape=ws_shape))\n",
        "\n",
        "logit = tf.matmul(xs, ws)\n",
        "pred = sigmoid(logit)\n",
        "diff = pred - ys\n",
        "gradient = tf.matmul(tf.transpose(xs), diff)\n",
        "\n",
        "lr = tf.placeholder_with_default(0.01, shape=[])\n",
        "step = tf.assign_sub(ws, lr * gradient)"
      ],
      "execution_count": 0,
      "outputs": []
    },
    {
      "cell_type": "code",
      "metadata": {
        "id": "ag7-Z4KYXl7f",
        "colab_type": "code",
        "colab": {}
      },
      "source": [
        "ys_bool = tf.cast(ys, tf.bool)\n",
        "\n",
        "cut_value = tf.placeholder(tf.float32, [], name='cut_value')\n",
        "yhats_bool = pred > cut_value"
      ],
      "execution_count": 0,
      "outputs": []
    },
    {
      "cell_type": "code",
      "metadata": {
        "id": "2O-UxGkmWltu",
        "colab_type": "code",
        "colab": {}
      },
      "source": [
        "tp = ys_bool & yhats_bool\n",
        "fn = ys_bool & ~yhats_bool\n",
        "\n",
        "fp = ~ys_bool & yhats_bool\n",
        "tn = ~ys_bool & ~yhats_bool"
      ],
      "execution_count": 0,
      "outputs": []
    },
    {
      "cell_type": "code",
      "metadata": {
        "id": "RuvH-u5Qq5LA",
        "colab_type": "code",
        "colab": {}
      },
      "source": [
        "l = [tp, fn, fp, tn]\n",
        "l = [tf.reduce_sum(tf.cast(e, tf.float32)) for e in l]"
      ],
      "execution_count": 0,
      "outputs": []
    },
    {
      "cell_type": "code",
      "metadata": {
        "id": "v-CwiFfyqdME",
        "colab_type": "code",
        "colab": {}
      },
      "source": [
        "tp, fn, fp, tn = l\n",
        "\n",
        "recall = tp/(tp+fn)\n",
        "fallout = fp/(fp+tn)"
      ],
      "execution_count": 0,
      "outputs": []
    },
    {
      "cell_type": "code",
      "metadata": {
        "id": "U5ZR6hdOj80x",
        "colab_type": "code",
        "colab": {}
      },
      "source": [
        "sess = tf.Session(graph=tf.get_default_graph())\n",
        "sess.run(tf.global_variables_initializer())"
      ],
      "execution_count": 0,
      "outputs": []
    },
    {
      "cell_type": "code",
      "metadata": {
        "id": "Mexq2tjSSY5D",
        "colab_type": "code",
        "colab": {
          "base_uri": "https://localhost:8080/",
          "height": 535
        },
        "outputId": "efdaee40-2e2a-471e-e5c6-d885e0127ccc"
      },
      "source": [
        "# Train\n",
        "steps = 100\n",
        "fetches = step\n",
        "feeds = {xs: feature, ys: target, cut_value: 0.5}\n",
        "for i in range(steps):\n",
        "    _, confusion_matrix = sess.run([step, l], feed_dict=feeds)\n",
        "    \n",
        "    if i % 10 == 0:\n",
        "        print('==== step {} ===='.format(i))\n",
        "        print('[tp, fn, fp, tn]')\n",
        "        print(confusion_matrix)"
      ],
      "execution_count": 12,
      "outputs": [
        {
          "output_type": "stream",
          "text": [
            "==== step 0 ====\n",
            "[tp, fn, fp, tn]\n",
            "[50.0, 0.0, 50.0, 0.0]\n",
            "==== step 10 ====\n",
            "[tp, fn, fp, tn]\n",
            "[48.0, 2.0, 14.0, 36.0]\n",
            "==== step 20 ====\n",
            "[tp, fn, fp, tn]\n",
            "[48.0, 2.0, 6.0, 44.0]\n",
            "==== step 30 ====\n",
            "[tp, fn, fp, tn]\n",
            "[46.0, 4.0, 5.0, 45.0]\n",
            "==== step 40 ====\n",
            "[tp, fn, fp, tn]\n",
            "[46.0, 4.0, 3.0, 47.0]\n",
            "==== step 50 ====\n",
            "[tp, fn, fp, tn]\n",
            "[46.0, 4.0, 3.0, 47.0]\n",
            "==== step 60 ====\n",
            "[tp, fn, fp, tn]\n",
            "[46.0, 4.0, 3.0, 47.0]\n",
            "==== step 70 ====\n",
            "[tp, fn, fp, tn]\n",
            "[46.0, 4.0, 3.0, 47.0]\n",
            "==== step 80 ====\n",
            "[tp, fn, fp, tn]\n",
            "[46.0, 4.0, 3.0, 47.0]\n",
            "==== step 90 ====\n",
            "[tp, fn, fp, tn]\n",
            "[46.0, 4.0, 3.0, 47.0]\n"
          ],
          "name": "stdout"
        }
      ]
    },
    {
      "cell_type": "code",
      "metadata": {
        "id": "RCvc5Tx3vjCv",
        "colab_type": "code",
        "colab": {}
      },
      "source": [
        "tprs = []\n",
        "fprs = []\n",
        "\n",
        "for v in np.arange(0, 1.1, 0.001):\n",
        "    feeds[cut_value] = v\n",
        "    tpr, fpr = sess.run([recall, fallout], feed_dict=feeds)\n",
        "    tprs.append(tpr)\n",
        "    fprs.append(fpr)"
      ],
      "execution_count": 0,
      "outputs": []
    },
    {
      "cell_type": "code",
      "metadata": {
        "id": "vLvK-7ulsGIY",
        "colab_type": "code",
        "colab": {}
      },
      "source": [
        "def get_auc(xs, ys):\n",
        "    fprs, tprs = xs, ys\n",
        "    prev_fpr = fprs[0]\n",
        "    prev_tpr = tprs[0]\n",
        "    \n",
        "    auc = 0\n",
        "    for fpr, tpr in zip(fprs[1:], tprs[1:]):\n",
        "        segment = (prev_fpr-fpr)*(prev_tpr+tpr)/2\n",
        "        auc += segment\n",
        "        prev_fpr, prev_tpr = fpr, tpr\n",
        "    \n",
        "    return auc"
      ],
      "execution_count": 0,
      "outputs": []
    },
    {
      "cell_type": "code",
      "metadata": {
        "id": "lpPsMhJorjcH",
        "colab_type": "code",
        "colab": {
          "base_uri": "https://localhost:8080/",
          "height": 286
        },
        "outputId": "a4b86081-7c57-4837-a919-63f47b418339"
      },
      "source": [
        "plt.plot(fprs, tprs)\n",
        "plt.text(0.5, 0.5, '{:.4f}'.format(get_auc(fprs, tprs)))"
      ],
      "execution_count": 15,
      "outputs": [
        {
          "output_type": "execute_result",
          "data": {
            "text/plain": [
              "Text(0.5, 0.5, '0.9944')"
            ]
          },
          "metadata": {
            "tags": []
          },
          "execution_count": 15
        },
        {
          "output_type": "display_data",
          "data": {
            "image/png": "[encoded data removed]",
            "text/plain": [
              "<Figure size 432x288 with 1 Axes>"
            ]
          },
          "metadata": {
            "tags": []
          }
        }
      ]
    },
    {
      "cell_type": "markdown",
      "metadata": {
        "colab_type": "text",
        "id": "_uPOnldhfimA"
      },
      "source": [
        "#### 정답 확인\n",
        "\n",
        "정답 : AUC , ROC curve 는 아래와 같은 그림이 나와야 정답입니다\n",
        "\n",
        "![Imgur](https://i.imgur.com/nOOc7Va.png)"
      ]
    }
  ]
}