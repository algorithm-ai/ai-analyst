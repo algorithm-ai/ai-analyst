{
  "nbformat": 4,
  "nbformat_minor": 0,
  "metadata": {
    "colab": {
      "name": "emnist_conv_scheduler.ipynb",
      "provenance": [],
      "private_outputs": true,
      "collapsed_sections": []
    },
    "kernelspec": {
      "name": "python3",
      "display_name": "Python 3"
    },
    "accelerator": "GPU"
  },
  "cells": [
    {
      "cell_type": "markdown",
      "metadata": {
        "id": "Ks4BKH9BRe4_",
        "colab_type": "text"
      },
      "source": [
        "╔══<i><b>&nbsp;Alai-DeepLearning&nbsp;</b></i>══════════════════════════════════╗\n",
        "###  &nbsp;&nbsp; **✎&nbsp;&nbsp;Week 9_cnn_basis**\n",
        "# Homework 1. emnist 을 cnn 으로 학습시키기\n",
        "\n",
        "\n",
        "### _Objective_\n",
        "1. homework 목적\n",
        "이전에 학습 했던 것을 기반으로 좀 더 모델을 발전시켜 봅니다.\n",
        "모델을 학습시켜 95% 이상 정확도를 가진 분류기를 만들어 봅니다. \n",
        "\n",
        "\n",
        "╚═══════════════════════════════════════════════╝\n",
        "\n",
        "\n",
        "# 실행방법: \n",
        "\n",
        "- conv_config 파일에는 emnist_conv_model.py 에 적용될 하이퍼 파라미터들이 있습니다.<br> 해당 파라미터를 바꿔가면서 95% 이상의 emnist classifier 을 만들어 보세요.\n",
        "\n",
        "- 해당 파일을 수행하기 위해서는 같이 제공된 conv_convfig.py 와 emnist_conv_model.py 가 해당 파일을 수행하는 위치에 있어야 합니다. <br>\n",
        "현재 실행하고 있는 jupyter 파일의 절대 경로는 `/content` 입니다. \n",
        "\n",
        "\n"
      ]
    },
    {
      "cell_type": "code",
      "metadata": {
        "id": "hLd0jfWstBPb",
        "colab_type": "code",
        "colab": {}
      },
      "source": [
        "!pip install emnist\n",
        "!python3 ./emnist_conv_model.py --config_num '0'"
      ],
      "execution_count": 0,
      "outputs": []
    }
  ]
}