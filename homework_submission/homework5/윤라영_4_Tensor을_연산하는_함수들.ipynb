{
  "nbformat": 4,
  "nbformat_minor": 0,
  "metadata": {
    "colab": {
      "name": "4_Tensor을_연산하는_함수들",
      "version": "0.3.2",
      "provenance": [],
      "collapsed_sections": []
    },
    "kernelspec": {
      "display_name": "Python 3",
      "language": "python",
      "name": "python3"
    },
    "language_info": {
      "codemirror_mode": {
        "name": "ipython",
        "version": 3
      },
      "file_extension": ".py",
      "mimetype": "text/x-python",
      "name": "python",
      "nbconvert_exporter": "python",
      "pygments_lexer": "ipython3",
      "version": "3.6.5"
    }
  },
  "cells": [
    {
      "cell_type": "markdown",
      "metadata": {
        "colab_type": "text",
        "id": "QSrqCI1KKdXR"
      },
      "source": [
        "## Tensor을 연산하는 함수들"
      ]
    },
    {
      "cell_type": "code",
      "metadata": {
        "colab_type": "code",
        "id": "TL3R2x-FL4R3",
        "colab": {}
      },
      "source": [
        "%matplotlib inline\n",
        "import numpy as np\n",
        "import tensorflow as tf \n",
        "import matplotlib.pyplot as plt\n",
        "import pandas as pd\n",
        "\n",
        "tf.enable_eager_execution()\n",
        "np.set_printoptions(formatter={\n",
        "    'float_kind': lambda x: \"{0:0.3f}\".format(x)})"
      ],
      "execution_count": 0,
      "outputs": []
    },
    {
      "cell_type": "code",
      "metadata": {
        "colab_type": "code",
        "id": "EPjMY6DFKdXW",
        "colab": {
          "base_uri": "https://localhost:8080/",
          "height": 136
        },
        "outputId": "6c9897af-d750-4292-f60b-9af337c4c32e"
      },
      "source": [
        "## 예제 데이터 )  califonia housing price\n",
        "\n",
        "MedInc : 행정 구역 내 소득의 중앙값<br>\n",
        "HouseAge : 행정 구역 내 주택 연식의 중앙값<br>\n",
        "AveRooms : 평균 방 갯수<br>\n",
        "AveBedrms : 평균 침실 갯수<br>\n",
        "Population : 행정 구역 내 인구 수<br>\n",
        "AveOccup : 평균 자가 비율<br>\n",
        "Latitude : 해당 행정 구역의 위도<br>\n",
        "Longitude : 해당 행정 구역의 경도<br>"
      ],
      "execution_count": 3,
      "outputs": [
        {
          "output_type": "error",
          "ename": "SyntaxError",
          "evalue": "ignored",
          "traceback": [
            "\u001b[0;36m  File \u001b[0;32m\"<ipython-input-3-adf71426b854>\"\u001b[0;36m, line \u001b[0;32m2\u001b[0m\n\u001b[0;31m    MedInc : 행정 구역 내 소득의 중앙값<br>\u001b[0m\n\u001b[0m                 ^\u001b[0m\n\u001b[0;31mSyntaxError\u001b[0m\u001b[0;31m:\u001b[0m invalid syntax\n"
          ]
        }
      ]
    },
    {
      "cell_type": "code",
      "metadata": {
        "id": "mHbTqb0_TN8a",
        "colab_type": "code",
        "colab": {
          "base_uri": "https://localhost:8080/",
          "height": 273
        },
        "outputId": "1a6a4c45-8767-4419-c66f-46a0aef5de0d"
      },
      "source": [
        "from sklearn.datasets import fetch_california_housing\n",
        "california = fetch_california_housing()\n",
        "\n",
        "clf_data = california.data\n",
        "\n",
        "df = pd.DataFrame(california.data,columns=california.feature_names)\n",
        "df.head()"
      ],
      "execution_count": 4,
      "outputs": [
        {
          "output_type": "stream",
          "text": [
            "Downloading Cal. housing from https://ndownloader.figshare.com/files/5976036 to /root/scikit_learn_data\n",
            "WARNING: Logging before flag parsing goes to stderr.\n",
            "I0724 18:45:32.875428 140016124102528 california_housing.py:114] Downloading Cal. housing from https://ndownloader.figshare.com/files/5976036 to /root/scikit_learn_data\n"
          ],
          "name": "stderr"
        },
        {
          "output_type": "execute_result",
          "data": {
            "text/html": [
              "<div>\n",
              "<style scoped>\n",
              "    .dataframe tbody tr th:only-of-type {\n",
              "        vertical-align: middle;\n",
              "    }\n",
              "\n",
              "    .dataframe tbody tr th {\n",
              "        vertical-align: top;\n",
              "    }\n",
              "\n",
              "    .dataframe thead th {\n",
              "        text-align: right;\n",
              "    }\n",
              "</style>\n",
              "<table border=\"1\" class=\"dataframe\">\n",
              "  <thead>\n",
              "    <tr style=\"text-align: right;\">\n",
              "      <th></th>\n",
              "      <th>MedInc</th>\n",
              "      <th>HouseAge</th>\n",
              "      <th>AveRooms</th>\n",
              "      <th>AveBedrms</th>\n",
              "      <th>Population</th>\n",
              "      <th>AveOccup</th>\n",
              "      <th>Latitude</th>\n",
              "      <th>Longitude</th>\n",
              "    </tr>\n",
              "  </thead>\n",
              "  <tbody>\n",
              "    <tr>\n",
              "      <th>0</th>\n",
              "      <td>8.3252</td>\n",
              "      <td>41.0</td>\n",
              "      <td>6.984127</td>\n",
              "      <td>1.023810</td>\n",
              "      <td>322.0</td>\n",
              "      <td>2.555556</td>\n",
              "      <td>37.88</td>\n",
              "      <td>-122.23</td>\n",
              "    </tr>\n",
              "    <tr>\n",
              "      <th>1</th>\n",
              "      <td>8.3014</td>\n",
              "      <td>21.0</td>\n",
              "      <td>6.238137</td>\n",
              "      <td>0.971880</td>\n",
              "      <td>2401.0</td>\n",
              "      <td>2.109842</td>\n",
              "      <td>37.86</td>\n",
              "      <td>-122.22</td>\n",
              "    </tr>\n",
              "    <tr>\n",
              "      <th>2</th>\n",
              "      <td>7.2574</td>\n",
              "      <td>52.0</td>\n",
              "      <td>8.288136</td>\n",
              "      <td>1.073446</td>\n",
              "      <td>496.0</td>\n",
              "      <td>2.802260</td>\n",
              "      <td>37.85</td>\n",
              "      <td>-122.24</td>\n",
              "    </tr>\n",
              "    <tr>\n",
              "      <th>3</th>\n",
              "      <td>5.6431</td>\n",
              "      <td>52.0</td>\n",
              "      <td>5.817352</td>\n",
              "      <td>1.073059</td>\n",
              "      <td>558.0</td>\n",
              "      <td>2.547945</td>\n",
              "      <td>37.85</td>\n",
              "      <td>-122.25</td>\n",
              "    </tr>\n",
              "    <tr>\n",
              "      <th>4</th>\n",
              "      <td>3.8462</td>\n",
              "      <td>52.0</td>\n",
              "      <td>6.281853</td>\n",
              "      <td>1.081081</td>\n",
              "      <td>565.0</td>\n",
              "      <td>2.181467</td>\n",
              "      <td>37.85</td>\n",
              "      <td>-122.25</td>\n",
              "    </tr>\n",
              "  </tbody>\n",
              "</table>\n",
              "</div>"
            ],
            "text/plain": [
              "   MedInc  HouseAge  AveRooms  ...  AveOccup  Latitude  Longitude\n",
              "0  8.3252      41.0  6.984127  ...  2.555556     37.88    -122.23\n",
              "1  8.3014      21.0  6.238137  ...  2.109842     37.86    -122.22\n",
              "2  7.2574      52.0  8.288136  ...  2.802260     37.85    -122.24\n",
              "3  5.6431      52.0  5.817352  ...  2.547945     37.85    -122.25\n",
              "4  3.8462      52.0  6.281853  ...  2.181467     37.85    -122.25\n",
              "\n",
              "[5 rows x 8 columns]"
            ]
          },
          "metadata": {
            "tags": []
          },
          "execution_count": 4
        }
      ]
    },
    {
      "cell_type": "markdown",
      "metadata": {
        "colab_type": "text",
        "id": "yD9-o--XU0og"
      },
      "source": [
        " ## 문제 1. 평균, 표준편차, 최소값, 최대값 구하기 \n",
        "\n",
        "+ 각 열의 평균, 표준편차, 최소값, 최대값순으로 합쳐진 행렬을 구해주세요. <br>\n",
        "그리고 shape=(4,8) 으로 만들어  answer1 에 담아주세요."
      ]
    },
    {
      "cell_type": "code",
      "metadata": {
        "id": "W74suLs3TN8o",
        "colab_type": "code",
        "colab": {}
      },
      "source": [
        "# 우선 실행해주세요\n",
        "tf_data = tf.constant(df.values)"
      ],
      "execution_count": 0,
      "outputs": []
    },
    {
      "cell_type": "markdown",
      "metadata": {
        "id": "3-Db4UI_TN8t",
        "colab_type": "text"
      },
      "source": [
        "#### 답안지 입력란\n",
        "* 아래에 답을 서술하여 주세요\n",
        "* 결과는 `answer1`에 담아주세요"
      ]
    },
    {
      "cell_type": "code",
      "metadata": {
        "colab_type": "code",
        "id": "wRQQf1w2M9VW",
        "colab": {}
      },
      "source": [
        "answer1 = [tf.reduce_mean(tf_data,axis=0), tf.math.reduce_std(tf_data, axis=0), tf.reduce_min(tf_data, axis=0), tf.reduce_max(tf_data, axis=0)]"
      ],
      "execution_count": 0,
      "outputs": []
    },
    {
      "cell_type": "markdown",
      "metadata": {
        "id": "bcjqZKmtTN8z",
        "colab_type": "text"
      },
      "source": [
        "#### 정답 확인\n",
        "* 정답을 입력한 후, 아래를 실행시키면 정답인지 확인합니다."
      ]
    },
    {
      "cell_type": "code",
      "metadata": {
        "id": "vtwdE6eWTN80",
        "colab_type": "code",
        "colab": {
          "base_uri": "https://localhost:8080/",
          "height": 35
        },
        "outputId": "761fb917-fc4d-4266-c796-74e203171e55"
      },
      "source": [
        "from numpy.testing import assert_array_almost_equal\n",
        "\n",
        "assert 'answer1' in globals(), \"결과를 answer1 변수에 담아주세요!\"\n",
        "\n",
        "A = pd.concat([df.mean(),df.std(),df.min(),df.max()],axis=1).values.T\n",
        "\n",
        "if \"numpy\" in dir(answer1):\n",
        "    answer1 = answer1.numpy()\n",
        "\n",
        "assert_array_almost_equal(A, answer1,decimal=1,\n",
        "                          err_msg=\"\\n\\n정답은 \\n{}\\n입니다. 다시 확인해 주세요\".format(A))\n",
        "print(\"정답입니다!!!\")\n"
      ],
      "execution_count": 7,
      "outputs": [
        {
          "output_type": "stream",
          "text": [
            "정답입니다!!!\n"
          ],
          "name": "stdout"
        }
      ]
    },
    {
      "cell_type": "markdown",
      "metadata": {
        "colab_type": "text",
        "id": "F0mo5ieiPaIA"
      },
      "source": [
        " ## 문제 2. 평균 침실 갯수 정렬하기\n",
        "\n",
        "* AveBedrms의 값을 오름차순으로 정렬해 주세요."
      ]
    },
    {
      "cell_type": "code",
      "metadata": {
        "id": "G2eyWD7vTN86",
        "colab_type": "code",
        "colab": {}
      },
      "source": [
        "# 우선 실행해주세요\n",
        "tf_data = tf.constant(df.values)"
      ],
      "execution_count": 0,
      "outputs": []
    },
    {
      "cell_type": "markdown",
      "metadata": {
        "id": "N_Nk4Qs2TN8-",
        "colab_type": "text"
      },
      "source": [
        "#### 답안지 입력란\n",
        "* 아래에 답을 서술하여 주세요\n",
        "* 결과는 `answer2`에 담아주세요"
      ]
    },
    {
      "cell_type": "code",
      "metadata": {
        "id": "6HoufkVUTN8_",
        "colab_type": "code",
        "colab": {}
      },
      "source": [
        "answer2=tf.sort(tf_data[:,3])"
      ],
      "execution_count": 0,
      "outputs": []
    },
    {
      "cell_type": "markdown",
      "metadata": {
        "id": "0LXa-1enTN9D",
        "colab_type": "text"
      },
      "source": [
        "#### 정답 확인\n",
        "* 정답을 입력한 후, 아래를 실행시키면 정답인지 확인합니다."
      ]
    },
    {
      "cell_type": "code",
      "metadata": {
        "id": "yuDF1ZAMTN9D",
        "colab_type": "code",
        "colab": {
          "base_uri": "https://localhost:8080/",
          "height": 35
        },
        "outputId": "399e5a9c-f019-46aa-a63f-579cb6513f13"
      },
      "source": [
        "from numpy.testing import assert_array_almost_equal\n",
        "\n",
        "assert 'answer2' in globals(), \"결과를 answer2 변수에 담아주세요!\"\n",
        "\n",
        "A = df['AveBedrms'].sort_values()\n",
        "\n",
        "if \"numpy\" in dir(answer2):\n",
        "    answer2 = answer2.numpy()\n",
        "\n",
        "assert_array_almost_equal(A, answer2, decimal=1,\n",
        "                          err_msg=\"\\n\\n정답은 \\n{}\\n입니다. 다시 확인해 주세요\".format(A))\n",
        "print(\"정답입니다!!!\")"
      ],
      "execution_count": 12,
      "outputs": [
        {
          "output_type": "stream",
          "text": [
            "정답입니다!!!\n"
          ],
          "name": "stdout"
        }
      ]
    },
    {
      "cell_type": "code",
      "metadata": {
        "id": "mkxBGlduTtyM",
        "colab_type": "code",
        "colab": {}
      },
      "source": [
        ""
      ],
      "execution_count": 0,
      "outputs": []
    }
  ]
}