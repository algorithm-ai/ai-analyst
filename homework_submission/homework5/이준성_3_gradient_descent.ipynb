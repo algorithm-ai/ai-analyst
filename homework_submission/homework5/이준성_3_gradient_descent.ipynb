{
  "nbformat": 4,
  "nbformat_minor": 0,
  "metadata": {
    "colab": {
      "name": "3_gradient_descent.ipynb의 사본",
      "version": "0.3.2",
      "provenance": [],
      "collapsed_sections": []
    },
    "language_info": {
      "codemirror_mode": {
        "name": "ipython",
        "version": 3
      },
      "file_extension": ".py",
      "mimetype": "text/x-python",
      "name": "python",
      "nbconvert_exporter": "python",
      "pygments_lexer": "ipython3",
      "version": "3.6.5"
    },
    "kernelspec": {
      "display_name": "Python 3",
      "language": "python",
      "name": "python3"
    }
  },
  "cells": [
    {
      "cell_type": "markdown",
      "metadata": {
        "colab_type": "text",
        "id": "bXlDEnu_PzC9"
      },
      "source": [
        "##  Section 3. Gradient Descent 방법"
      ]
    },
    {
      "cell_type": "markdown",
      "metadata": {
        "colab_type": "text",
        "id": "xrGriRt_uF28"
      },
      "source": [
        "## 문제 1 Gradient Descent을 활용한 Linear Regression\n",
        "\n",
        "* **Gradient Descent**을 이용해 아래 데이터를 linear regression 해주세요. <br>\n",
        "\n",
        "###  Gradient Descent\n",
        "\n",
        "1. 우선 가중치(w)을 초기화 합니다.  (w1,  w0) <br>\n",
        "정규 분포(mean = 0.0, stddev=0.1) 을 이용합니다  \n",
        "\n",
        "2. $ \\frac{\\partial  loss }{ \\partial w0} $, $ \\frac{\\partial  loss }{ \\partial w1} $ 을 구합니다. \n",
        "\n",
        "3. Loss 을 구합니다. <br>\n",
        "$Loss = \\frac{1}{2N}* {\\sum^N_{i=1} (y_{pred} - y_{true})^2}$ <br>\n",
        "\n",
        "4. gradient Descent 을 구현합니다. \n",
        "\n",
        " $ \\hat{w} = w - \\alpha * \\frac{\\partial  loss }{ \\partial w}$<br>  수식을 이용해 $w$ 을 수정합니다. 적절한  learning rate($\\alpha$)을 설정해주세요! \n",
        " \n",
        "5. 5번 과정을 Loss 가 더 줄어들지 않을 때까지 실행합니다. "
      ]
    },
    {
      "cell_type": "code",
      "metadata": {
        "colab_type": "code",
        "id": "U5K6Hs3vtmot",
        "outputId": "d8fdb762-ed72-4207-b5ce-e67513d4797a",
        "colab": {
          "base_uri": "https://localhost:8080/",
          "height": 269
        }
      },
      "source": [
        "# 아래 코드를 실행해 주세요 \n",
        "from sklearn.datasets import load_iris\n",
        "import pandas as pd \n",
        "import numpy as np\n",
        "import matplotlib.pyplot as plt\n",
        "\n",
        "num_points = 1000\n",
        "vectors_set = []\n",
        "for i in range(num_points):\n",
        "    x1= np.random.normal(0.0, 0.55)\n",
        "    y1= x1 * 0.1 + 0.3 + np.random.normal(0.0, 0.03)\n",
        "    vectors_set.append([x1, y1])\n",
        "\n",
        "xs = np.asarray([v[0] for v in vectors_set])\n",
        "ys = np.asarray([v[1] for v in vectors_set])\n",
        "\n",
        "plt.plot(xs, ys, 'ro', label='Original data')\n",
        "plt.legend()\n",
        "plt.show()"
      ],
      "execution_count": 0,
      "outputs": [
        {
          "output_type": "display_data",
          "data": {
            "image/png": "[encoded data removed]",
            "text/plain": [
              "<Figure size 432x288 with 1 Axes>"
            ]
          },
          "metadata": {
            "tags": []
          }
        }
      ]
    },
    {
      "cell_type": "markdown",
      "metadata": {
        "id": "170mrEGsNTuX",
        "colab_type": "text"
      },
      "source": [
        "#### 답안지 입력란\n",
        "* 아래에 답을 서술하여 주세요\n"
      ]
    },
    {
      "cell_type": "code",
      "metadata": {
        "colab_type": "code",
        "id": "ZVBMHgu4WBGA",
        "colab": {}
      },
      "source": [
        "# 정답을 서술해 주세요!\n",
        "\n",
        "# 1.가중치 초기화, 정규분포 N(0.0, 0.1)\n",
        "w0 = np.random.uniform(0.0, 0.1)\n",
        "w1 = np.random.uniform(0.0, 0.1)\n",
        "\n",
        "# 2.loss 미분값\n",
        "def derivative_w0(w0,w1):\n",
        "    return np.mean(w1*xs + w0 - ys)\n",
        "\n",
        "def derivative_w1(w0,w1):\n",
        "    return np.mean((w1*xs + w0 - ys)*xs)\n",
        "\n",
        "# 3.loss 함수\n",
        "def calculate_MSE(w0, w1):\n",
        "    y_pred = w1*xs + w0\n",
        "    return np.mean((ys-y_pred)**2)\n",
        "\n",
        "# 4.gradient descent \n",
        "def gredient_descent(w,dw,alpha):\n",
        "    return w - dw * alpha\n",
        "\n",
        "\n",
        "alpha = 0.1     # 학습율\n",
        "epoch = 1000     # 몇 번 학습할 지 결정\n",
        "h_MSE=[]\n",
        "h_w0=[]\n",
        "h_w1=[]\n",
        "\n",
        "for i in range(epoch):\n",
        "    # pred = calculate_MSE(w0,w1)\n",
        "    dw0 = derivative_w0(w0,w1)\n",
        "    dw1 = derivative_w1(w0,w1)\n",
        "    \n",
        "    w0 = gredient_descent(w0, dw0, alpha)\n",
        "    w1 = gredient_descent(w1, dw1, alpha)\n",
        "    \n",
        "    MSE = calculate_MSE(w0,w1)\n",
        "    h_MSE.append(MSE)\n",
        "    h_w0.append(w0)\n",
        "    h_w1.append(w1)\n",
        "    \n"
      ],
      "execution_count": 0,
      "outputs": []
    },
    {
      "cell_type": "code",
      "metadata": {
        "id": "5ZMVhAAc_qNQ",
        "colab_type": "code",
        "outputId": "4e5d8a91-38ff-4b12-e862-bfcb0428022f",
        "colab": {
          "base_uri": "https://localhost:8080/",
          "height": 322
        }
      },
      "source": [
        "\n",
        "# 5.결과보기\n",
        "print('w0: {}, w1: {}, \\ndw0:{}, dw1: {}, \\nMSE: {}'.format(w0,w1,dw0,dw1,MSE))\n",
        "plt.plot(xs, xs*w1+w0, c='blue')\n",
        "plt.scatter(xs, ys, c='orange')\n",
        "plt.show()"
      ],
      "execution_count": 0,
      "outputs": [
        {
          "output_type": "stream",
          "text": [
            "w0: 0.2987474570129627, w1: 0.09890580355403102, \n",
            "dw0:2.727262859991697e-16, dw1: -3.375077994860476e-16, \n",
            "MSE: 0.0009190098798027685\n"
          ],
          "name": "stdout"
        },
        {
          "output_type": "display_data",
          "data": {
            "image/png": "[encoded data removed]",
            "text/plain": [
              "<Figure size 432x288 with 1 Axes>"
            ]
          },
          "metadata": {
            "tags": []
          }
        }
      ]
    },
    {
      "cell_type": "markdown",
      "metadata": {
        "id": "iMHKZcD3NTub",
        "colab_type": "text"
      },
      "source": [
        "#### 정답 확인\n",
        "* 아래와 같이 출력이 나오도록 해주세요\n",
        "\n",
        "![Imgur](https://i.imgur.com/zEiW7zM.png)"
      ]
    }
  ]
}