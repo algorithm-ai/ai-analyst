{
 "cells": [
  {
   "cell_type": "markdown",
   "metadata": {
    "colab_type": "text",
    "id": "JwXVP87OO6RW"
   },
   "source": [
    "\n",
    "## Tensorflow Basis\n",
    "\n",
    "### _Objective_\n",
    "Tensorflow 는 무엇이고 어떻게 구성되어 있는지 배워봅니다.\n"
   ]
  },
  {
   "cell_type": "code",
   "execution_count": 1,
   "metadata": {
    "colab": {},
    "colab_type": "code",
    "id": "k-o8zDSkO6RZ"
   },
   "outputs": [],
   "source": [
    "%matplotlib inline\n",
    "import numpy as np\n",
    "import tensorflow as tf\n",
    "import matplotlib.pyplot as plt"
   ]
  },
  {
   "cell_type": "markdown",
   "metadata": {
    "colab_type": "text",
    "id": "TyeH2DMtxYeU"
   },
   "source": [
    "### [Optional.  Tensorflow Graph Visualization ]\n",
    "\n",
    "---\n",
    "\n",
    "> _Jupyter에서 Tensorflow에서 구성되는 Graph를 시각적으로 보여주기 위한 helper 메소드입니다._ <br>\n",
    "> _우선 실행 시켜 주세요._<br>"
   ]
  },
  {
   "cell_type": "code",
   "execution_count": 2,
   "metadata": {
    "colab": {},
    "colab_type": "code",
    "id": "ovf73RhqxYeV"
   },
   "outputs": [],
   "source": [
    "from IPython.display import clear_output, Image, display, HTML\n",
    "import numpy as np    \n",
    "\n",
    "def strip_consts(graph_def, max_const_size=32):\n",
    "    \"\"\"Strip large constant values from graph_def.\"\"\"\n",
    "    strip_def = tf.GraphDef()\n",
    "    for n0 in graph_def.node:\n",
    "        n = strip_def.node.add() \n",
    "        n.MergeFrom(n0)\n",
    "        if n.op == 'Const':\n",
    "            tensor = n.attr['value'].tensor\n",
    "            size = len(tensor.tensor_content)\n",
    "            if size > max_const_size:\n",
    "                tensor.tensor_content = \"<stripped %d bytes>\"%size\n",
    "    return strip_def\n",
    "\n",
    "def show_graph(graph_def, max_const_size=32):\n",
    "    \"\"\"Visualize TensorFlow graph.\"\"\"\n",
    "    if hasattr(graph_def, 'as_graph_def'):\n",
    "        graph_def = graph_def.as_graph_def()\n",
    "    strip_def = strip_consts(graph_def, max_const_size=max_const_size)\n",
    "    code = \"\"\"\n",
    "        <script>\n",
    "          function load() {{\n",
    "            document.getElementById(\"{id}\").pbtxt = {data};\n",
    "          }}\n",
    "        </script>\n",
    "        <link rel=\"import\" href=\"https://tensorboard.appspot.com/tf-graph-basic.build.html\" onload=load()>\n",
    "        <div style=\"height:600px\">\n",
    "          <tf-graph-basic id=\"{id}\"></tf-graph-basic>\n",
    "        </div>\n",
    "    \"\"\".format(data=repr(str(strip_def)), id='graph'+str(np.random.rand()))\n",
    "\n",
    "    iframe = \"\"\"\n",
    "        <iframe seamless style=\"width:1200px;height:620px;border:0\" srcdoc=\"{}\"></iframe>\n",
    "    \"\"\".format(code.replace('\"', '&quot;'))\n",
    "    display(HTML(iframe))"
   ]
  },
  {
   "cell_type": "markdown",
   "metadata": {
    "colab_type": "text",
    "id": "F_ac_F0QO6Rm"
   },
   "source": [
    "## 문제 1. 근의 방정식 구현\n",
    "* Tensorflow를 통해 아래 해를 구해주세요\n",
    "$$\n",
    "3x^2+4x+5 = 0\n",
    "$$\n",
    "\n",
    "#### hint, 근의 공식은 아래와 같습니다.<br>\n",
    "$\n",
    "x_{1}=\\frac  {-b - {\\sqrt  {b^{2}-ac\\ }}}{a}\\\\\n",
    "x_{2}=\\frac  {-b + {\\sqrt  {b^{2}-ac\\ }}}{a}\n",
    "$<br>"
   ]
  },
  {
   "cell_type": "code",
   "execution_count": 3,
   "metadata": {},
   "outputs": [],
   "source": [
    "# 우선 실행해 주세요\n",
    "tf.reset_default_graph()\n",
    "a = tf.constant(3.)\n",
    "b = tf.constant(4.)\n",
    "c = tf.constant(5.)"
   ]
  },
  {
   "cell_type": "markdown",
   "metadata": {},
   "source": [
    "#### 답안지 입력란\n",
    "* 아래에 답을 서술하여 주세요\n",
    "* 결과는 두 해 중 작은 값은 `answer1_1`에 담고, 큰 값은 `answer1_2`에 담아주세요"
   ]
  },
  {
   "cell_type": "code",
   "execution_count": 11,
   "metadata": {
    "colab": {
     "base_uri": "https://localhost:8080/",
     "height": 66
    },
    "colab_type": "code",
    "id": "r_SioX5As9kt",
    "outputId": "8c5d2c24-f89d-4983-dfde-8c041187dbe0"
   },
   "outputs": [
    {
     "name": "stdout",
     "output_type": "stream",
     "text": [
      "-1.6666666 -1.0\n"
     ]
    }
   ],
   "source": [
    "sess = tf.Session()\n",
    "\n",
    "x1 = (-b-tf.sqrt(b**2-a*c))/a\n",
    "x2 = (-b+tf.sqrt(b**2-a*c))/a\n",
    "\n",
    "answer_1 = sess.run(x1)\n",
    "answer_2 = sess.run(x2)\n",
    "\n",
    "if answer_1 < answer_2:\n",
    "    answer1_1 = answer_1\n",
    "    answer1_2 = answer_2\n",
    "else:\n",
    "    answer1_1 = answer_2\n",
    "    answer1_2 = answer_1\n",
    "\n",
    "print(answer1_1, answer1_2)"
   ]
  },
  {
   "cell_type": "markdown",
   "metadata": {},
   "source": [
    "#### 정답 확인\n",
    "* 정답을 입력한 후, 아래를 실행시키면 정답인지 확인합니다."
   ]
  },
  {
   "cell_type": "code",
   "execution_count": 13,
   "metadata": {},
   "outputs": [],
   "source": [
    "from numpy.testing import assert_almost_equal\n",
    "\n",
    "assert 'answer1_1' in globals(), \"결과를 answer1_1 변수에 담아주세요!\"\n",
    "assert 'answer1_2' in globals(), \"결과를 answer1_2 변수에 담아주세요!\"\n",
    "\n",
    "A1_1 = -1.6666666\n",
    "A1_2 = -1.0\n",
    "\n",
    "assert_almost_equal(A1_1, answer1_1,\n",
    "               err_msg=\"\\nanswer1_1 정답은 \\n{}\\n입니다. 다시 확인해 주세요\\n\".format(A1_1))\n",
    "assert_almost_equal(A1_2, answer1_2,\n",
    "               err_msg=\"\\nanswer1_2 정답은 \\n{}\\n입니다. 다시 확인해 주세요\\n\".format(A1_2))"
   ]
  },
  {
   "cell_type": "markdown",
   "metadata": {
    "colab_type": "text",
    "id": "aShor7ONBtqt"
   },
   "source": [
    "## 문제 2. sin 함수 \n",
    "* 아래 수식을 구현하고 시각화해 주세요\n",
    "\n",
    "$$y(x) = \\frac{sin(\\pi x )}{\\pi}$$\n",
    "\n",
    "* x = 0.0~ 10.0 까지 0.01 단위로 생성합니다."
   ]
  },
  {
   "cell_type": "code",
   "execution_count": 14,
   "metadata": {},
   "outputs": [],
   "source": [
    "# 우선 실행해 주세요\n",
    "tf.reset_default_graph()\n",
    "pi = tf.constant(3.14,dtype=tf.float32)\n",
    "xs_values = np.arange(0,10,0.01)\n",
    "xs = tf.constant(xs_values, dtype=tf.float32)"
   ]
  },
  {
   "cell_type": "markdown",
   "metadata": {},
   "source": [
    "#### 답안지 입력란\n",
    "* 아래에 답을 서술하여 주세요\n",
    "* 결과는 `answer2`에 담아주세요"
   ]
  },
  {
   "cell_type": "code",
   "execution_count": 19,
   "metadata": {
    "colab": {
     "base_uri": "https://localhost:8080/",
     "height": 268
    },
    "colab_type": "code",
    "id": "6gaHdSvG3H0s",
    "outputId": "cd8bde11-2c4f-460f-e782-36f3e24da44d"
   },
   "outputs": [],
   "source": [
    "sess = tf.Session()\n",
    "y = tf.sin(pi*xs)/pi\n",
    "answer2= sess.run(y)"
   ]
  },
  {
   "cell_type": "markdown",
   "metadata": {},
   "source": [
    "#### 정답 확인\n",
    "* 아래와 동일하게 나오는지 확인해 주세요\n",
    "\n",
    "![Imgur](https://i.imgur.com/sL24UV5.png)"
   ]
  },
  {
   "cell_type": "code",
   "execution_count": 20,
   "metadata": {},
   "outputs": [
    {
     "data": {
      "image/png": "[encoded data removed]",
      "text/plain": [
       "<Figure size 432x288 with 1 Axes>"
      ]
     },
     "metadata": {
      "needs_background": "light"
     },
     "output_type": "display_data"
    }
   ],
   "source": [
    "import matplotlib.pyplot as plt \n",
    "plt.scatter(xs_values, answer2)\n",
    "plt.show()"
   ]
  },
  {
   "cell_type": "code",
   "execution_count": null,
   "metadata": {},
   "outputs": [],
   "source": []
  }
 ],
 "metadata": {
  "colab": {
   "collapsed_sections": [],
   "name": "1_Tensorflow 배워보기.ipynb",
   "provenance": [],
   "version": "0.3.2"
  },
  "kernelspec": {
   "display_name": "Python 3",
   "language": "python",
   "name": "python3"
  },
  "language_info": {
   "codemirror_mode": {
    "name": "ipython",
    "version": 3
   },
   "file_extension": ".py",
   "mimetype": "text/x-python",
   "name": "python",
   "nbconvert_exporter": "python",
   "pygments_lexer": "ipython3",
   "version": "3.6.8"
  }
 },
 "nbformat": 4,
 "nbformat_minor": 1
}
