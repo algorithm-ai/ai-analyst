{
  "nbformat": 4,
  "nbformat_minor": 0,
  "metadata": {
    "colab": {
      "name": "RNN_from_scratch.ipynb",
      "provenance": [],
      "private_outputs": true,
      "collapsed_sections": []
    },
    "kernelspec": {
      "name": "python3",
      "display_name": "Python 3"
    }
  },
  "cells": [
    {
      "cell_type": "markdown",
      "metadata": {
        "id": "ayJmuIxw-EYT",
        "colab_type": "text"
      },
      "source": [
        "╔══<i><b>Alai-DeepLearning</b></i>════════════════════════════╗\n",
        "###  &nbsp;&nbsp; **✎&nbsp;&nbsp;Week 13. RNN-Basis**\n",
        "# Section 2. 1.Tensorflow을 활용한 RNN 구현하기(Option)\n",
        "\n",
        "\n",
        "### _Objective_\n",
        "\n",
        "1. 순환신경망의 기본적인 구조를 배우고 RNN을 작성합니다.\n",
        "\n",
        "╚═════════════════════════════════════════╝"
      ]
    },
    {
      "cell_type": "code",
      "metadata": {
        "id": "uZYTp8a0sDKY",
        "colab_type": "code",
        "colab": {}
      },
      "source": [
        "import tensorflow as tf\n",
        "import numpy as np\n",
        "\n",
        "\"\"\"\n",
        "script 목적: \n",
        "    tensorflow 로 RNN 을 구현한다.\n",
        "    hello 을 입력하면 ello<eos> 을 내보내는 모델을 생성한다.   \n",
        "    이를 통해 시계열적인 문제를 풀어본다. \n",
        "    Many-to-Many 모델을 직접 생성해 본다.\n",
        "\n",
        "data 처리: 문자열의 알파벳을 아래와 같이 표현한다.  \n",
        "    h = [1, 0, 0, 0, 0]\n",
        "    e = [0, 1, 0, 0, 0]\n",
        "    l = [0, 0, 1, 0, 0]\n",
        "    o = [0, 0, 0, 1, 0]\n",
        "    <eos> = [0, 0, 0, 0, 1]\n",
        "\"\"\"\n",
        "\n",
        "# data \n",
        "h = [1, 0, 0, 0, 0]\n",
        "e = [0, 1, 0, 0, 0]\n",
        "l = [0, 0, 1, 0, 0]\n",
        "o = [0, 0, 0, 1, 0]\n",
        "eos = [0, 0, 0, 0, 1]\n",
        "train_xs = np.asarray([h, e, l, l, o, eos])\n",
        "train_xs = np.expand_dims(train_xs, axis=0)\n",
        "n_classes = 5\n",
        "\n",
        "# xs\n",
        "time_step = 6\n",
        "\n",
        "tf.reset_default_graph()\n",
        "xs = tf.placeholder(dtype=tf.float32, shape=[None, time_step, n_classes])\n",
        "trans_xs = tf.transpose(xs, perm=[1, 0, 2])\n",
        "unstacked_xs = tf.unstack(trans_xs)\n",
        "\n",
        "# units\n",
        "n_units = 10\n",
        "\n",
        "# Generate Weights and Bias\n",
        "tf.random.set_random_seed(1)\n",
        "w_hy = tf.Variable(tf.random.normal([n_units, n_classes], 0.1), name='output_w')\n",
        "w_hs = tf.Variable(tf.random.normal([n_units, n_units], 0.1), name='state_w')\n",
        "w_hx = tf.Variable(tf.random.normal([n_classes, n_units], 0.1), name='input_w')\n",
        "\n",
        "b_hx = tf.Variable(tf.zeros([n_units]), name='input_b')\n",
        "b_hy = tf.Variable(tf.zeros([n_classes]), name='output_b')\n",
        "\n",
        "# Build RNN Model\n",
        "state_layer = tf.constant(0.)\n",
        "for ind, x in enumerate(unstacked_xs[:-1]):\n",
        "    with tf.name_scope('input'):\n",
        "        # input layer\n",
        "        input_layer = tf.matmul(x, w_hx) + b_hx\n",
        "        input_layer = input_layer + state_layer\n",
        "        input_layer = tf.nn.relu(input_layer)\n",
        "        input_layer = tf.identity(input_layer, 'input_{}'.format(ind + 1))\n",
        "\n",
        "    with tf.name_scope('output'):\n",
        "        # output layer\n",
        "        output_layer = tf.matmul(input_layer, w_hy) + b_hy\n",
        "        output_layer = tf.nn.relu(output_layer)\n",
        "        output_layer = tf.identity(output_layer, 'output_{}'.format(ind + 1))\n",
        "        tf.add_to_collection('outputs', output_layer)\n",
        "\n",
        "    with tf.name_scope('state'):\n",
        "        # state layer\n",
        "        state_layer = tf.matmul(input_layer, w_hs)\n",
        "        state_layer = tf.identity(state_layer, 'state_{}'.format(ind + 1))\n",
        "\n",
        "    with tf.name_scope('loss'):\n",
        "        y = unstacked_xs[ind+1: ind+2]\n",
        "        loss = tf.nn.softmax_cross_entropy_with_logits_v2(labels=y, logits=output_layer)\n",
        "        tf.add_to_collection('loss', loss)\n",
        "\n",
        "# Loss\n",
        "with tf.name_scope('mean_loss'):\n",
        "    loss = tf.reduce_mean(tf.get_collection('loss'), name='mean_loss')\n",
        "\n",
        "# train Optimizer\n",
        "train_op = tf.train.GradientDescentOptimizer(learning_rate=0.1).minimize(loss)\n",
        "\n",
        "# Session open\n",
        "sess = tf.Session()\n",
        "sess.run(tf.global_variables_initializer())\n",
        "\n",
        "# training\n",
        "max_step = 5000\n",
        "for i in range(max_step):\n",
        "    loss_, _ = sess.run([loss, train_op], {xs: train_xs})\n",
        "    print(loss_)\n",
        "\n",
        "\n"
      ],
      "execution_count": 0,
      "outputs": []
    },
    {
      "cell_type": "code",
      "metadata": {
        "id": "o2MR5SjTfauL",
        "colab_type": "code",
        "colab": {}
      },
      "source": [
        "predict = sess.run(tf.get_collection('outputs'), {xs: train_xs})\n",
        "predict=np.asarray(predict)\n",
        "print(predict)"
      ],
      "execution_count": 0,
      "outputs": []
    },
    {
      "cell_type": "code",
      "metadata": {
        "id": "p2vxr2rusOIJ",
        "colab_type": "code",
        "colab": {}
      },
      "source": [
        "char2num = {0:'h', 1:'e', 2:'l', 3:'o', 4:'<eos>'}    \n",
        "\n",
        "predict = sess.run(tf.get_collection('outputs'), {xs: train_xs})\n",
        "predict = np.asarray(predict)\n",
        "predict = np.squeeze(predict)\n",
        "# onehot2classes\n",
        "classes = np.argmax(predict, axis=1)\n",
        "\n",
        "# char2string\n",
        "str_ = ''\n",
        "str_ = ''.join([char2num[c] for c in classes.tolist()])\n",
        "print(str_)"
      ],
      "execution_count": 0,
      "outputs": []
    },
    {
      "cell_type": "code",
      "metadata": {
        "id": "-vJ_H6YFtHYl",
        "colab_type": "code",
        "colab": {}
      },
      "source": [
        "from IPython.display import clear_output, Image, display, HTML\n",
        "import numpy as np    \n",
        "\n",
        "def strip_consts(graph_def, max_const_size=32):\n",
        "    \"\"\"Strip large constant values from graph_def.\"\"\"\n",
        "    strip_def = tf.GraphDef()\n",
        "    for n0 in graph_def.node:\n",
        "        n = strip_def.node.add() \n",
        "        n.MergeFrom(n0)\n",
        "        if n.op == 'Const':\n",
        "            tensor = n.attr['value'].tensor\n",
        "            size = len(tensor.tensor_content)\n",
        "            if size > max_const_size:\n",
        "                tensor.tensor_content = \"<stripped %d bytes>\"%size\n",
        "    return strip_def\n",
        "\n",
        "def show_graph(graph_def, max_const_size=32):\n",
        "    \"\"\"Visualize TensorFlow graph.\"\"\"\n",
        "    if hasattr(graph_def, 'as_graph_def'):\n",
        "        graph_def = graph_def.as_graph_def()\n",
        "    strip_def = strip_consts(graph_def, max_const_size=max_const_size)\n",
        "    code = \"\"\"\n",
        "        <script>\n",
        "          function load() {{\n",
        "            document.getElementById(\"{id}\").pbtxt = {data};\n",
        "          }}\n",
        "        </script>\n",
        "        <link rel=\"import\" href=\"https://tensorboard.appspot.com/tf-graph-basic.build.html\" onload=load()>\n",
        "        <div style=\"height:600px\">\n",
        "          <tf-graph-basic id=\"{id}\"></tf-graph-basic>\n",
        "        </div>\n",
        "    \"\"\".format(data=repr(str(strip_def)), id='graph'+str(np.random.rand()))\n",
        "\n",
        "    iframe = \"\"\"\n",
        "        <iframe seamless style=\"width:1200px;height:620px;border:0\" srcdoc=\"{}\"></iframe>\n",
        "    \"\"\".format(code.replace('\"', '&quot;'))\n",
        "    display(HTML(iframe))\n",
        "\n",
        "# Usage:\n",
        "# show_graph(tf.get_default_graph())"
      ],
      "execution_count": 0,
      "outputs": []
    },
    {
      "cell_type": "code",
      "metadata": {
        "id": "JhSXSq69eEfm",
        "colab_type": "code",
        "colab": {}
      },
      "source": [
        "show_graph(tf.get_default_graph())"
      ],
      "execution_count": 0,
      "outputs": []
    },
    {
      "cell_type": "code",
      "metadata": {
        "id": "Iq-ic9BgegHj",
        "colab_type": "code",
        "colab": {}
      },
      "source": [
        ""
      ],
      "execution_count": 0,
      "outputs": []
    }
  ]
}