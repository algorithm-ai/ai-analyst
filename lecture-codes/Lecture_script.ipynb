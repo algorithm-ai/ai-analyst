{
  "nbformat": 4,
  "nbformat_minor": 0,
  "metadata": {
    "kernelspec": {
      "display_name": "Python 3",
      "language": "python",
      "name": "python3"
    },
    "language_info": {
      "codemirror_mode": {
        "name": "ipython",
        "version": 3
      },
      "file_extension": ".py",
      "mimetype": "text/x-python",
      "name": "python",
      "nbconvert_exporter": "python",
      "pygments_lexer": "ipython3",
      "version": "3.6.8"
    },
    "toc": {
      "base_numbering": 1,
      "nav_menu": {},
      "number_sections": true,
      "sideBar": true,
      "skip_h1_title": true,
      "title_cell": "Table of Contents",
      "title_sidebar": "Contents",
      "toc_cell": false,
      "toc_position": {},
      "toc_section_display": true,
      "toc_window_display": true
    },
    "varInspector": {
      "cols": {
        "lenName": 16,
        "lenType": 16,
        "lenVar": 40
      },
      "kernels_config": {
        "python": {
          "delete_cmd_postfix": "",
          "delete_cmd_prefix": "del ",
          "library": "var_list.py",
          "varRefreshCmd": "print(var_dic_list())"
        },
        "r": {
          "delete_cmd_postfix": ") ",
          "delete_cmd_prefix": "rm(",
          "library": "var_list.r",
          "varRefreshCmd": "cat(var_dic_list()) "
        }
      },
      "types_to_exclude": [
        "module",
        "function",
        "builtin_function_or_method",
        "instance",
        "_Feature"
      ],
      "window_display": false
    },
    "colab": {
      "name": "Lecture_script.ipynb",
      "provenance": []
    }
  },
  "cells": [
    {
      "cell_type": "markdown",
      "metadata": {
        "id": "hKa27-SHSzja",
        "colab_type": "text"
      },
      "source": [
        "# KB 추천시스템 Lecture"
      ]
    },
    {
      "cell_type": "markdown",
      "metadata": {
        "id": "QlZayyHnSzjc",
        "colab_type": "text"
      },
      "source": [
        "## Libarary Setting"
      ]
    },
    {
      "cell_type": "code",
      "metadata": {
        "id": "R3cRV5UVSzjd",
        "colab_type": "code",
        "colab": {}
      },
      "source": [
        "import numpy as np\n",
        "import os\n",
        "import sys\n",
        "import tensorflow as tf\n",
        "import pandas as pd\n",
        "import requests"
      ],
      "execution_count": 0,
      "outputs": []
    },
    {
      "cell_type": "code",
      "metadata": {
        "id": "5_leNTwzYRZb",
        "colab_type": "code",
        "colab": {}
      },
      "source": [
        "# # DataDownload \n",
        "# !wget 'https://pai-lecture.s3.ap-northeast-2.amazonaws.com/KB-ChaChaCha_Recsys/KB_%E1%84%8E%E1%85%A1%E1%84%8E%E1%85%A1%E1%84%8E%E1%85%A1_%E1%84%80%E1%85%AD%E1%84%8B%E1%85%B2%E1%86%A8/data/tb_car_master_read.tsv'\n",
        "# !wget 'https://pai-lecture.s3.ap-northeast-2.amazonaws.com/KB-ChaChaCha_Recsys/KB_%E1%84%8E%E1%85%A1%E1%84%8E%E1%85%A1%E1%84%8E%E1%85%A1_%E1%84%80%E1%85%AD%E1%84%8B%E1%85%B2%E1%86%A8/data/tb_car_master.tsv'\n",
        "# !wget 'https://pai-lecture.s3.ap-northeast-2.amazonaws.com/KB-ChaChaCha_Recsys/KB_%E1%84%8E%E1%85%A1%E1%84%8E%E1%85%A1%E1%84%8E%E1%85%A1_%E1%84%80%E1%85%AD%E1%84%8B%E1%85%B2%E1%86%A8/data/tb_car_reservation.csv'\n",
        "# !wget 'https://pai-lecture.s3.ap-northeast-2.amazonaws.com/KB-ChaChaCha_Recsys/KB_%E1%84%8E%E1%85%A1%E1%84%8E%E1%85%A1%E1%84%8E%E1%85%A1_%E1%84%80%E1%85%AD%E1%84%8B%E1%85%B2%E1%86%A8/data/tb_car_reservation.csv'\n",
        "# !wget 'https://pai-lecture.s3.ap-northeast-2.amazonaws.com/KB-ChaChaCha_Recsys/KB_%E1%84%8E%E1%85%A1%E1%84%8E%E1%85%A1%E1%84%8E%E1%85%A1_%E1%84%80%E1%85%AD%E1%84%8B%E1%85%B2%E1%86%A8/data/tb_car_wish.csv'\n",
        "# !wget 'https://pai-lecture.s3.ap-northeast-2.amazonaws.com/KB-ChaChaCha_Recsys/KB_%E1%84%8E%E1%85%A1%E1%84%8E%E1%85%A1%E1%84%8E%E1%85%A1_%E1%84%80%E1%85%AD%E1%84%8B%E1%85%B2%E1%86%A8/data/tb_member.csv'\n",
        "# !wget 'https://pai-lecture.s3.ap-northeast-2.amazonaws.com/KB-ChaChaCha_Recsys/KB_%E1%84%8E%E1%85%A1%E1%84%8E%E1%85%A1%E1%84%8E%E1%85%A1_%E1%84%80%E1%85%AD%E1%84%8B%E1%85%B2%E1%86%A8/data/tb_sms.csv'"
      ],
      "execution_count": 0,
      "outputs": []
    },
    {
      "cell_type": "markdown",
      "metadata": {
        "id": "I5BLufReSzjg",
        "colab_type": "text"
      },
      "source": [
        "## Data Load"
      ]
    },
    {
      "cell_type": "code",
      "metadata": {
        "id": "gWxAF86NSzjh",
        "colab_type": "code",
        "colab": {}
      },
      "source": [
        "def dataload(root_dir):\n",
        "    \"\"\"\n",
        "    Description:\n",
        "        필요한 데이터를 불러옵니다.\n",
        "    Args:\n",
        "        root_dir: data 가 존재하는 폴더\n",
        "    Returns:\n",
        "        code_df, DataFrame,  코드 정보가 들어가 있는 dataframe\n",
        "        cvr_dfs, dict, 이름, data 가 아래 구조로 되어 있는 형태의 dict로 반환.\n",
        "        {\n",
        "            'tb_sms': {'data':   DataFrame},\n",
        "            'tb_call_request': {'data':   DataFrame},\n",
        "            'tb_car_wish': {'data':   DataFrame},\n",
        "            'tb_car_reservation': {'data':   DataFrame}\n",
        "        }\n",
        "        ctr_dfs, dict, 이름, data 가 아래 구조로 되어 있는 형태의 dict로 반환.\n",
        "        {\n",
        "            'tb_car_master_read': {'data':   DataFrame},\n",
        "        }\n",
        "    \"\"\"\n",
        "    # tb_car_master TABLE : 차량 매물 정보에 대한 tsv 파일\n",
        "    # 해당 tsv 에는 CAR_CODE 가 포함 되어 있습니다\n",
        "    code_df = pd.read_csv(os.path.join(root_dir, 'tb_car_master.tsv'), sep='\\t', encoding='utf-16', low_memory=False)\n",
        "    code_column = 'CAR_CODE'\n",
        "    chosen_columns = ['CAR_SEQ', code_column]\n",
        "    code_df = code_df.loc[:, chosen_columns]\n",
        "\n",
        "    # tb_car_master_read TABLE : 차량 조회 로그에 대한 tsv 파일\n",
        "    # 저장된 .tsv 파일들을 불러옵니다\n",
        "    # request\n",
        "\n",
        "    request_df = pd.read_csv(os.path.join(root_dir, 'tb_call_request.tsv'), sep='\\t', encoding='UTF-16')\n",
        "    reservation_df = pd.read_csv(os.path.join(root_dir, 'tb_car_reservation.csv'), encoding='UTF-8')\n",
        "    wish_df = pd.read_csv(os.path.join(root_dir, 'tb_car_wish.csv'), encoding='UTF-8', low_memory=False)\n",
        "    car_master_read_df = pd.read_csv(os.path.join(root_dir, 'tb_car_master_read.tsv'), sep='\\t',\n",
        "                                     encoding='utf-16', low_memory=False)\n",
        "    # sms preprocessing 합니다.\n",
        "    sms_df = pd.read_csv(os.path.join(root_dir, 'tb_sms.csv'), encoding='UTF-8')\n",
        "    sms_df.columns = ['SMS_SEQ', 'SMS_KIND', 'CAR_SEQ', 'MEMBER_NO', 'REGI_DATE']\n",
        "\n",
        "    cvr_dfs = {'tb_call_request': {'data': request_df},\n",
        "               'tb_car_reservation': {'data': reservation_df},\n",
        "               'tb_car_wish': {'data': wish_df},\n",
        "               'tb_sms': {'data': sms_df}}\n",
        "    ctr_dfs = {'car_master_read_df': {'data': car_master_read_df}}\n",
        "    return code_df, cvr_dfs, ctr_dfs\n"
      ],
      "execution_count": 0,
      "outputs": []
    },
    {
      "cell_type": "code",
      "metadata": {
        "id": "uEsrCjNRSzjj",
        "colab_type": "code",
        "colab": {}
      },
      "source": [
        "root_dir = './data/'\n",
        "code, cvr_logs, ctr_logs = dataload(root_dir)"
      ],
      "execution_count": 0,
      "outputs": []
    },
    {
      "cell_type": "markdown",
      "metadata": {
        "id": "b7gWot_bSzjl",
        "colab_type": "text"
      },
      "source": [
        "## Data Sample 확인"
      ]
    },
    {
      "cell_type": "markdown",
      "metadata": {
        "id": "34zSzJUCSzjm",
        "colab_type": "text"
      },
      "source": [
        "### code"
      ]
    },
    {
      "cell_type": "code",
      "metadata": {
        "id": "wtRZsno0Szjm",
        "colab_type": "code",
        "outputId": "088bf710-6a54-40c1-e253-dcbc179ce81c",
        "colab": {
          "base_uri": "https://localhost:8080/",
          "height": 35
        }
      },
      "source": [
        "code.shape"
      ],
      "execution_count": 0,
      "outputs": [
        {
          "output_type": "execute_result",
          "data": {
            "text/plain": [
              "(1596026, 2)"
            ]
          },
          "metadata": {
            "tags": []
          },
          "execution_count": 28
        }
      ]
    },
    {
      "cell_type": "code",
      "metadata": {
        "id": "R3z9udp-Szjp",
        "colab_type": "code",
        "outputId": "b59728b4-10e3-4511-dd2e-1a8e50b0ef0c",
        "colab": {
          "base_uri": "https://localhost:8080/",
          "height": 198
        }
      },
      "source": [
        "code.head()"
      ],
      "execution_count": 0,
      "outputs": [
        {
          "output_type": "execute_result",
          "data": {
            "text/html": [
              "<div>\n",
              "<style scoped>\n",
              "    .dataframe tbody tr th:only-of-type {\n",
              "        vertical-align: middle;\n",
              "    }\n",
              "\n",
              "    .dataframe tbody tr th {\n",
              "        vertical-align: top;\n",
              "    }\n",
              "\n",
              "    .dataframe thead th {\n",
              "        text-align: right;\n",
              "    }\n",
              "</style>\n",
              "<table border=\"1\" class=\"dataframe\">\n",
              "  <thead>\n",
              "    <tr style=\"text-align: right;\">\n",
              "      <th></th>\n",
              "      <th>CAR_SEQ</th>\n",
              "      <th>CAR_CODE</th>\n",
              "    </tr>\n",
              "  </thead>\n",
              "  <tbody>\n",
              "    <tr>\n",
              "      <th>0</th>\n",
              "      <td>10000101</td>\n",
              "      <td>1626.0</td>\n",
              "    </tr>\n",
              "    <tr>\n",
              "      <th>1</th>\n",
              "      <td>10000123</td>\n",
              "      <td>1336.0</td>\n",
              "    </tr>\n",
              "    <tr>\n",
              "      <th>2</th>\n",
              "      <td>10000125</td>\n",
              "      <td>1523.0</td>\n",
              "    </tr>\n",
              "    <tr>\n",
              "      <th>3</th>\n",
              "      <td>10000126</td>\n",
              "      <td>2096.0</td>\n",
              "    </tr>\n",
              "    <tr>\n",
              "      <th>4</th>\n",
              "      <td>10000127</td>\n",
              "      <td>2096.0</td>\n",
              "    </tr>\n",
              "  </tbody>\n",
              "</table>\n",
              "</div>"
            ],
            "text/plain": [
              "    CAR_SEQ  CAR_CODE\n",
              "0  10000101    1626.0\n",
              "1  10000123    1336.0\n",
              "2  10000125    1523.0\n",
              "3  10000126    2096.0\n",
              "4  10000127    2096.0"
            ]
          },
          "metadata": {
            "tags": []
          },
          "execution_count": 29
        }
      ]
    },
    {
      "cell_type": "markdown",
      "metadata": {
        "id": "mCDk1KTySzjt",
        "colab_type": "text"
      },
      "source": [
        "### ctr_logs"
      ]
    },
    {
      "cell_type": "code",
      "metadata": {
        "id": "ozxu8cAFSzjt",
        "colab_type": "code",
        "outputId": "e5549ff1-d406-4410-f11f-dfa37a5ee395",
        "colab": {
          "base_uri": "https://localhost:8080/",
          "height": 35
        }
      },
      "source": [
        "ctr_logs.keys()"
      ],
      "execution_count": 0,
      "outputs": [
        {
          "output_type": "execute_result",
          "data": {
            "text/plain": [
              "dict_keys(['car_master_read_df'])"
            ]
          },
          "metadata": {
            "tags": []
          },
          "execution_count": 30
        }
      ]
    },
    {
      "cell_type": "code",
      "metadata": {
        "id": "8Xjqj_8OSzjw",
        "colab_type": "code",
        "outputId": "3eab97d1-fd21-4d61-c8d9-01fbdb1a13d6",
        "colab": {
          "base_uri": "https://localhost:8080/",
          "height": 35
        }
      },
      "source": [
        "ctr_logs[\"car_master_read_df\"]['data'].shape"
      ],
      "execution_count": 0,
      "outputs": [
        {
          "output_type": "execute_result",
          "data": {
            "text/plain": [
              "(1586360, 3)"
            ]
          },
          "metadata": {
            "tags": []
          },
          "execution_count": 31
        }
      ]
    },
    {
      "cell_type": "code",
      "metadata": {
        "id": "TLZT_snISzjy",
        "colab_type": "code",
        "outputId": "13ee7321-da42-4534-b87d-9f08333ce4d5",
        "colab": {
          "base_uri": "https://localhost:8080/",
          "height": 198
        }
      },
      "source": [
        "ctr_logs[\"car_master_read_df\"]['data'].head()"
      ],
      "execution_count": 0,
      "outputs": [
        {
          "output_type": "execute_result",
          "data": {
            "text/html": [
              "<div>\n",
              "<style scoped>\n",
              "    .dataframe tbody tr th:only-of-type {\n",
              "        vertical-align: middle;\n",
              "    }\n",
              "\n",
              "    .dataframe tbody tr th {\n",
              "        vertical-align: top;\n",
              "    }\n",
              "\n",
              "    .dataframe thead th {\n",
              "        text-align: right;\n",
              "    }\n",
              "</style>\n",
              "<table border=\"1\" class=\"dataframe\">\n",
              "  <thead>\n",
              "    <tr style=\"text-align: right;\">\n",
              "      <th></th>\n",
              "      <th>CAR_SEQ</th>\n",
              "      <th>MEMBER_NO</th>\n",
              "      <th>REGI_DATE</th>\n",
              "    </tr>\n",
              "  </thead>\n",
              "  <tbody>\n",
              "    <tr>\n",
              "      <th>0</th>\n",
              "      <td>10271232</td>\n",
              "      <td>131011</td>\n",
              "      <td>2017-02-23 오후 10:00:05</td>\n",
              "    </tr>\n",
              "    <tr>\n",
              "      <th>1</th>\n",
              "      <td>10201324</td>\n",
              "      <td>196303</td>\n",
              "      <td>2017-02-23 오후 10:00:20</td>\n",
              "    </tr>\n",
              "    <tr>\n",
              "      <th>2</th>\n",
              "      <td>10272206</td>\n",
              "      <td>192525</td>\n",
              "      <td>2017-02-23 오후 10:00:22</td>\n",
              "    </tr>\n",
              "    <tr>\n",
              "      <th>3</th>\n",
              "      <td>10272206</td>\n",
              "      <td>192525</td>\n",
              "      <td>2017-02-23 오후 10:00:27</td>\n",
              "    </tr>\n",
              "    <tr>\n",
              "      <th>4</th>\n",
              "      <td>10272593</td>\n",
              "      <td>192525</td>\n",
              "      <td>2017-02-23 오후 10:00:52</td>\n",
              "    </tr>\n",
              "  </tbody>\n",
              "</table>\n",
              "</div>"
            ],
            "text/plain": [
              "    CAR_SEQ  MEMBER_NO               REGI_DATE\n",
              "0  10271232     131011  2017-02-23 오후 10:00:05\n",
              "1  10201324     196303  2017-02-23 오후 10:00:20\n",
              "2  10272206     192525  2017-02-23 오후 10:00:22\n",
              "3  10272206     192525  2017-02-23 오후 10:00:27\n",
              "4  10272593     192525  2017-02-23 오후 10:00:52"
            ]
          },
          "metadata": {
            "tags": []
          },
          "execution_count": 32
        }
      ]
    },
    {
      "cell_type": "markdown",
      "metadata": {
        "id": "lOeZSwv8Szj0",
        "colab_type": "text"
      },
      "source": [
        "### cvr_logs"
      ]
    },
    {
      "cell_type": "code",
      "metadata": {
        "id": "Ux4K5XbsSzj0",
        "colab_type": "code",
        "outputId": "b03c88d1-bed7-4d13-9749-0a5894af7fd7",
        "colab": {
          "base_uri": "https://localhost:8080/",
          "height": 35
        }
      },
      "source": [
        "cvr_logs.keys()"
      ],
      "execution_count": 0,
      "outputs": [
        {
          "output_type": "execute_result",
          "data": {
            "text/plain": [
              "dict_keys(['tb_call_request', 'tb_car_reservation', 'tb_car_wish', 'tb_sms'])"
            ]
          },
          "metadata": {
            "tags": []
          },
          "execution_count": 33
        }
      ]
    },
    {
      "cell_type": "markdown",
      "metadata": {
        "id": "VmcSqLVESzj2",
        "colab_type": "text"
      },
      "source": [
        "**tb_call_request**"
      ]
    },
    {
      "cell_type": "code",
      "metadata": {
        "id": "ky0hYEbTSzj3",
        "colab_type": "code",
        "outputId": "2e02c5c8-158b-465a-9ae0-c898a1c358fb",
        "colab": {
          "base_uri": "https://localhost:8080/",
          "height": 35
        }
      },
      "source": [
        "cvr_logs[\"tb_call_request\"]['data'].shape"
      ],
      "execution_count": 0,
      "outputs": [
        {
          "output_type": "execute_result",
          "data": {
            "text/plain": [
              "(187, 3)"
            ]
          },
          "metadata": {
            "tags": []
          },
          "execution_count": 34
        }
      ]
    },
    {
      "cell_type": "code",
      "metadata": {
        "id": "v30UYmteSzj5",
        "colab_type": "code",
        "outputId": "68c04ce0-c5ca-456d-ff43-30cb9f100190",
        "colab": {
          "base_uri": "https://localhost:8080/",
          "height": 198
        }
      },
      "source": [
        "cvr_logs[\"tb_call_request\"]['data'].head()"
      ],
      "execution_count": 0,
      "outputs": [
        {
          "output_type": "execute_result",
          "data": {
            "text/html": [
              "<div>\n",
              "<style scoped>\n",
              "    .dataframe tbody tr th:only-of-type {\n",
              "        vertical-align: middle;\n",
              "    }\n",
              "\n",
              "    .dataframe tbody tr th {\n",
              "        vertical-align: top;\n",
              "    }\n",
              "\n",
              "    .dataframe thead th {\n",
              "        text-align: right;\n",
              "    }\n",
              "</style>\n",
              "<table border=\"1\" class=\"dataframe\">\n",
              "  <thead>\n",
              "    <tr style=\"text-align: right;\">\n",
              "      <th></th>\n",
              "      <th>MEMBER_NO</th>\n",
              "      <th>CAR_SEQ</th>\n",
              "      <th>REGI_DATE</th>\n",
              "    </tr>\n",
              "  </thead>\n",
              "  <tbody>\n",
              "    <tr>\n",
              "      <th>0</th>\n",
              "      <td>100811</td>\n",
              "      <td>10001588</td>\n",
              "      <td>2016-07-11 오전 11:11:22</td>\n",
              "    </tr>\n",
              "    <tr>\n",
              "      <th>1</th>\n",
              "      <td>129669</td>\n",
              "      <td>10039290</td>\n",
              "      <td>2016-07-11 오전 11:11:22</td>\n",
              "    </tr>\n",
              "    <tr>\n",
              "      <th>2</th>\n",
              "      <td>121736</td>\n",
              "      <td>10037641</td>\n",
              "      <td>2016-07-11 오전 11:11:22</td>\n",
              "    </tr>\n",
              "    <tr>\n",
              "      <th>3</th>\n",
              "      <td>121736</td>\n",
              "      <td>10037641</td>\n",
              "      <td>2016-07-11 오전 11:11:22</td>\n",
              "    </tr>\n",
              "    <tr>\n",
              "      <th>4</th>\n",
              "      <td>129796</td>\n",
              "      <td>10058229</td>\n",
              "      <td>2016-07-11 오전 11:11:22</td>\n",
              "    </tr>\n",
              "  </tbody>\n",
              "</table>\n",
              "</div>"
            ],
            "text/plain": [
              "   MEMBER_NO   CAR_SEQ               REGI_DATE\n",
              "0     100811  10001588  2016-07-11 오전 11:11:22\n",
              "1     129669  10039290  2016-07-11 오전 11:11:22\n",
              "2     121736  10037641  2016-07-11 오전 11:11:22\n",
              "3     121736  10037641  2016-07-11 오전 11:11:22\n",
              "4     129796  10058229  2016-07-11 오전 11:11:22"
            ]
          },
          "metadata": {
            "tags": []
          },
          "execution_count": 35
        }
      ]
    },
    {
      "cell_type": "markdown",
      "metadata": {
        "id": "F1KWw_3NSzj7",
        "colab_type": "text"
      },
      "source": [
        "**tb_car_reservation**"
      ]
    },
    {
      "cell_type": "code",
      "metadata": {
        "id": "0OSpepJISzj7",
        "colab_type": "code",
        "outputId": "11249c7b-3700-424a-bb14-22723397805a",
        "colab": {
          "base_uri": "https://localhost:8080/",
          "height": 35
        }
      },
      "source": [
        "cvr_logs[\"tb_car_reservation\"]['data'].shape"
      ],
      "execution_count": 0,
      "outputs": [
        {
          "output_type": "execute_result",
          "data": {
            "text/plain": [
              "(14579, 6)"
            ]
          },
          "metadata": {
            "tags": []
          },
          "execution_count": 36
        }
      ]
    },
    {
      "cell_type": "code",
      "metadata": {
        "id": "ZRhet-wBSzj9",
        "colab_type": "code",
        "outputId": "aa152bbe-5413-452d-d1e5-1b70f1371d35",
        "colab": {
          "base_uri": "https://localhost:8080/",
          "height": 198
        }
      },
      "source": [
        "cvr_logs[\"tb_car_reservation\"]['data'].head()"
      ],
      "execution_count": 0,
      "outputs": [
        {
          "output_type": "execute_result",
          "data": {
            "text/html": [
              "<div>\n",
              "<style scoped>\n",
              "    .dataframe tbody tr th:only-of-type {\n",
              "        vertical-align: middle;\n",
              "    }\n",
              "\n",
              "    .dataframe tbody tr th {\n",
              "        vertical-align: top;\n",
              "    }\n",
              "\n",
              "    .dataframe thead th {\n",
              "        text-align: right;\n",
              "    }\n",
              "</style>\n",
              "<table border=\"1\" class=\"dataframe\">\n",
              "  <thead>\n",
              "    <tr style=\"text-align: right;\">\n",
              "      <th></th>\n",
              "      <th>CAR_SEQ</th>\n",
              "      <th>RESERVATION_SEQ</th>\n",
              "      <th>MEMBER_NO</th>\n",
              "      <th>RESERVATION_DAY</th>\n",
              "      <th>RESERVATION_STATE</th>\n",
              "      <th>REGI_DATE</th>\n",
              "    </tr>\n",
              "  </thead>\n",
              "  <tbody>\n",
              "    <tr>\n",
              "      <th>0</th>\n",
              "      <td>11129677</td>\n",
              "      <td>1</td>\n",
              "      <td>365489</td>\n",
              "      <td>20190910</td>\n",
              "      <td>56140</td>\n",
              "      <td>2019-09-09 오후 10:33:16</td>\n",
              "    </tr>\n",
              "    <tr>\n",
              "      <th>1</th>\n",
              "      <td>11417832</td>\n",
              "      <td>1</td>\n",
              "      <td>365584</td>\n",
              "      <td>20190910</td>\n",
              "      <td>56110</td>\n",
              "      <td>2019-09-09 오후 9:18:02</td>\n",
              "    </tr>\n",
              "    <tr>\n",
              "      <th>2</th>\n",
              "      <td>11448934</td>\n",
              "      <td>1</td>\n",
              "      <td>365716</td>\n",
              "      <td>20190909</td>\n",
              "      <td>56130</td>\n",
              "      <td>2019-09-09 오후 8:35:48</td>\n",
              "    </tr>\n",
              "    <tr>\n",
              "      <th>3</th>\n",
              "      <td>11467743</td>\n",
              "      <td>3</td>\n",
              "      <td>365716</td>\n",
              "      <td>20190910</td>\n",
              "      <td>56140</td>\n",
              "      <td>2019-09-09 오후 8:23:21</td>\n",
              "    </tr>\n",
              "    <tr>\n",
              "      <th>4</th>\n",
              "      <td>11222575</td>\n",
              "      <td>1</td>\n",
              "      <td>365584</td>\n",
              "      <td>20190910</td>\n",
              "      <td>56140</td>\n",
              "      <td>2019-09-09 오후 7:11:13</td>\n",
              "    </tr>\n",
              "  </tbody>\n",
              "</table>\n",
              "</div>"
            ],
            "text/plain": [
              "    CAR_SEQ  RESERVATION_SEQ  ...  RESERVATION_STATE               REGI_DATE\n",
              "0  11129677                1  ...              56140  2019-09-09 오후 10:33:16\n",
              "1  11417832                1  ...              56110   2019-09-09 오후 9:18:02\n",
              "2  11448934                1  ...              56130   2019-09-09 오후 8:35:48\n",
              "3  11467743                3  ...              56140   2019-09-09 오후 8:23:21\n",
              "4  11222575                1  ...              56140   2019-09-09 오후 7:11:13\n",
              "\n",
              "[5 rows x 6 columns]"
            ]
          },
          "metadata": {
            "tags": []
          },
          "execution_count": 37
        }
      ]
    },
    {
      "cell_type": "markdown",
      "metadata": {
        "id": "kEqXw1G6Szj_",
        "colab_type": "text"
      },
      "source": [
        "**tb_car_wish**"
      ]
    },
    {
      "cell_type": "code",
      "metadata": {
        "id": "p6G7a-ZHSzj_",
        "colab_type": "code",
        "outputId": "cd1e2bf8-fc0c-49d4-b464-965a93ee8169",
        "colab": {
          "base_uri": "https://localhost:8080/",
          "height": 35
        }
      },
      "source": [
        "cvr_logs[\"tb_car_wish\"]['data'].shape"
      ],
      "execution_count": 0,
      "outputs": [
        {
          "output_type": "execute_result",
          "data": {
            "text/plain": [
              "(530058, 6)"
            ]
          },
          "metadata": {
            "tags": []
          },
          "execution_count": 38
        }
      ]
    },
    {
      "cell_type": "code",
      "metadata": {
        "id": "8tr4gzYfSzkB",
        "colab_type": "code",
        "outputId": "63a7c45d-6bc0-425f-c3b1-ecd44d8aeaff",
        "colab": {
          "base_uri": "https://localhost:8080/",
          "height": 198
        }
      },
      "source": [
        "cvr_logs[\"tb_car_wish\"]['data'].head()"
      ],
      "execution_count": 0,
      "outputs": [
        {
          "output_type": "execute_result",
          "data": {
            "text/html": [
              "<div>\n",
              "<style scoped>\n",
              "    .dataframe tbody tr th:only-of-type {\n",
              "        vertical-align: middle;\n",
              "    }\n",
              "\n",
              "    .dataframe tbody tr th {\n",
              "        vertical-align: top;\n",
              "    }\n",
              "\n",
              "    .dataframe thead th {\n",
              "        text-align: right;\n",
              "    }\n",
              "</style>\n",
              "<table border=\"1\" class=\"dataframe\">\n",
              "  <thead>\n",
              "    <tr style=\"text-align: right;\">\n",
              "      <th></th>\n",
              "      <th>MEMBER_NO</th>\n",
              "      <th>CAR_SEQ</th>\n",
              "      <th>MODIFY_USER</th>\n",
              "      <th>MODIFY_DATE</th>\n",
              "      <th>REGI_USER</th>\n",
              "      <th>REGI_DATE</th>\n",
              "    </tr>\n",
              "  </thead>\n",
              "  <tbody>\n",
              "    <tr>\n",
              "      <th>0</th>\n",
              "      <td>365258</td>\n",
              "      <td>11532141</td>\n",
              "      <td>365258</td>\n",
              "      <td>2019-09-09 오후 11:59:48</td>\n",
              "      <td>365258</td>\n",
              "      <td>2019-09-09 오후 11:59:48</td>\n",
              "    </tr>\n",
              "    <tr>\n",
              "      <th>1</th>\n",
              "      <td>244877</td>\n",
              "      <td>11411913</td>\n",
              "      <td>244877</td>\n",
              "      <td>2019-09-09 오후 11:59:34</td>\n",
              "      <td>244877</td>\n",
              "      <td>2019-09-09 오후 11:59:34</td>\n",
              "    </tr>\n",
              "    <tr>\n",
              "      <th>2</th>\n",
              "      <td>365644</td>\n",
              "      <td>11388293</td>\n",
              "      <td>365644</td>\n",
              "      <td>2019-09-09 오후 11:57:01</td>\n",
              "      <td>365644</td>\n",
              "      <td>2019-09-09 오후 11:57:01</td>\n",
              "    </tr>\n",
              "    <tr>\n",
              "      <th>3</th>\n",
              "      <td>365258</td>\n",
              "      <td>11531734</td>\n",
              "      <td>365258</td>\n",
              "      <td>2019-09-09 오후 11:56:34</td>\n",
              "      <td>365258</td>\n",
              "      <td>2019-09-09 오후 11:56:34</td>\n",
              "    </tr>\n",
              "    <tr>\n",
              "      <th>4</th>\n",
              "      <td>244877</td>\n",
              "      <td>11295750</td>\n",
              "      <td>244877</td>\n",
              "      <td>2019-09-09 오후 11:55:23</td>\n",
              "      <td>244877</td>\n",
              "      <td>2019-09-09 오후 11:55:23</td>\n",
              "    </tr>\n",
              "  </tbody>\n",
              "</table>\n",
              "</div>"
            ],
            "text/plain": [
              "   MEMBER_NO   CAR_SEQ  ...  REGI_USER               REGI_DATE\n",
              "0     365258  11532141  ...     365258  2019-09-09 오후 11:59:48\n",
              "1     244877  11411913  ...     244877  2019-09-09 오후 11:59:34\n",
              "2     365644  11388293  ...     365644  2019-09-09 오후 11:57:01\n",
              "3     365258  11531734  ...     365258  2019-09-09 오후 11:56:34\n",
              "4     244877  11295750  ...     244877  2019-09-09 오후 11:55:23\n",
              "\n",
              "[5 rows x 6 columns]"
            ]
          },
          "metadata": {
            "tags": []
          },
          "execution_count": 39
        }
      ]
    },
    {
      "cell_type": "markdown",
      "metadata": {
        "id": "dykb8y6oSzkD",
        "colab_type": "text"
      },
      "source": [
        "**tb_sms**"
      ]
    },
    {
      "cell_type": "code",
      "metadata": {
        "id": "D9zaWpjuSzkE",
        "colab_type": "code",
        "outputId": "d00bd80c-cfd8-40f1-aa66-8ef8869ae443",
        "colab": {
          "base_uri": "https://localhost:8080/",
          "height": 35
        }
      },
      "source": [
        "cvr_logs[\"tb_sms\"]['data'].shape"
      ],
      "execution_count": 0,
      "outputs": [
        {
          "output_type": "execute_result",
          "data": {
            "text/plain": [
              "(81871, 5)"
            ]
          },
          "metadata": {
            "tags": []
          },
          "execution_count": 40
        }
      ]
    },
    {
      "cell_type": "code",
      "metadata": {
        "id": "s7CbE7wISzkF",
        "colab_type": "code",
        "outputId": "14391d30-389e-4807-999c-1f4b760b8b2b",
        "colab": {
          "base_uri": "https://localhost:8080/",
          "height": 198
        }
      },
      "source": [
        "cvr_logs[\"tb_sms\"]['data'].head()"
      ],
      "execution_count": 0,
      "outputs": [
        {
          "output_type": "execute_result",
          "data": {
            "text/html": [
              "<div>\n",
              "<style scoped>\n",
              "    .dataframe tbody tr th:only-of-type {\n",
              "        vertical-align: middle;\n",
              "    }\n",
              "\n",
              "    .dataframe tbody tr th {\n",
              "        vertical-align: top;\n",
              "    }\n",
              "\n",
              "    .dataframe thead th {\n",
              "        text-align: right;\n",
              "    }\n",
              "</style>\n",
              "<table border=\"1\" class=\"dataframe\">\n",
              "  <thead>\n",
              "    <tr style=\"text-align: right;\">\n",
              "      <th></th>\n",
              "      <th>SMS_SEQ</th>\n",
              "      <th>SMS_KIND</th>\n",
              "      <th>CAR_SEQ</th>\n",
              "      <th>MEMBER_NO</th>\n",
              "      <th>REGI_DATE</th>\n",
              "    </tr>\n",
              "  </thead>\n",
              "  <tbody>\n",
              "    <tr>\n",
              "      <th>0</th>\n",
              "      <td>2132498</td>\n",
              "      <td>88170</td>\n",
              "      <td>11548772.0</td>\n",
              "      <td>0.0</td>\n",
              "      <td>2019-09-09 오후 11:48:44</td>\n",
              "    </tr>\n",
              "    <tr>\n",
              "      <th>1</th>\n",
              "      <td>2132482</td>\n",
              "      <td>88170</td>\n",
              "      <td>11589818.0</td>\n",
              "      <td>364010.0</td>\n",
              "      <td>2019-09-09 오후 11:19:22</td>\n",
              "    </tr>\n",
              "    <tr>\n",
              "      <th>2</th>\n",
              "      <td>2132479</td>\n",
              "      <td>88170</td>\n",
              "      <td>11595581.0</td>\n",
              "      <td>365035.0</td>\n",
              "      <td>2019-09-09 오후 11:11:39</td>\n",
              "    </tr>\n",
              "    <tr>\n",
              "      <th>3</th>\n",
              "      <td>2132475</td>\n",
              "      <td>88170</td>\n",
              "      <td>11555173.0</td>\n",
              "      <td>365035.0</td>\n",
              "      <td>2019-09-09 오후 11:07:05</td>\n",
              "    </tr>\n",
              "    <tr>\n",
              "      <th>4</th>\n",
              "      <td>2132449</td>\n",
              "      <td>88170</td>\n",
              "      <td>11593664.0</td>\n",
              "      <td>0.0</td>\n",
              "      <td>2019-09-09 오후 10:26:17</td>\n",
              "    </tr>\n",
              "  </tbody>\n",
              "</table>\n",
              "</div>"
            ],
            "text/plain": [
              "   SMS_SEQ  SMS_KIND     CAR_SEQ  MEMBER_NO               REGI_DATE\n",
              "0  2132498     88170  11548772.0        0.0  2019-09-09 오후 11:48:44\n",
              "1  2132482     88170  11589818.0   364010.0  2019-09-09 오후 11:19:22\n",
              "2  2132479     88170  11595581.0   365035.0  2019-09-09 오후 11:11:39\n",
              "3  2132475     88170  11555173.0   365035.0  2019-09-09 오후 11:07:05\n",
              "4  2132449     88170  11593664.0        0.0  2019-09-09 오후 10:26:17"
            ]
          },
          "metadata": {
            "tags": []
          },
          "execution_count": 41
        }
      ]
    },
    {
      "cell_type": "markdown",
      "metadata": {
        "id": "fQyXE9hISzkI",
        "colab_type": "text"
      },
      "source": [
        "## 문제 정의"
      ]
    },
    {
      "cell_type": "markdown",
      "metadata": {
        "id": "Ck21a0iqSzkJ",
        "colab_type": "text"
      },
      "source": [
        "유저에게 \"차종\"을 추천<br>\n",
        "그러나, 위의 데이터는 \"CAR_SEQ\": 차량 매물로 구성된 데이터셋"
      ]
    },
    {
      "cell_type": "code",
      "metadata": {
        "id": "osZTcYLdSzkK",
        "colab_type": "code",
        "colab": {}
      },
      "source": [
        "# \"\"~에게 ~을\" 추천 문제에 대한 컬럼 명시\n",
        "code_column = 'CAR_CODE'\n",
        "log_column = 'MEMBER_NO'"
      ],
      "execution_count": 0,
      "outputs": []
    },
    {
      "cell_type": "markdown",
      "metadata": {
        "id": "gNkj4KUpSzkM",
        "colab_type": "text"
      },
      "source": [
        "## 전처리 전체 프로세스(Make UI Matrix)"
      ]
    },
    {
      "cell_type": "markdown",
      "metadata": {
        "id": "nds1AZULSzkM",
        "colab_type": "text"
      },
      "source": [
        "전처리를 통해 log 데이터를 목적에 맞는 User-Item 매트릭스로 변환할 것"
      ]
    },
    {
      "cell_type": "markdown",
      "metadata": {
        "id": "gfRf3urkSzkN",
        "colab_type": "text"
      },
      "source": [
        "![preprocess](https://i.imgur.com/ZZEzVCl.png)"
      ]
    },
    {
      "cell_type": "code",
      "metadata": {
        "id": "o_IMqvQySzkN",
        "colab_type": "code",
        "colab": {}
      },
      "source": [
        "def preprocess(dfs, code_df, log_weights, threshold, log_column, code_column):\n",
        "\n",
        "    \"\"\"\n",
        "    Description:\n",
        "        left_df, right_df을 특정 column(forein key)을 기준으로 left merge 을 수행한다.\n",
        "        수행후 생겨난 NaN 값을 제거하고 Guest 값을 제거 합니다.\n",
        "    Args:\n",
        "        dfs: DataFrame, 아래와 같은 구조를 가집니다.\n",
        "            {\n",
        "                '이름1': {'data':   DataFrame, weignt: int},\n",
        "                '이름2': {'data':   DataFrame, weight: int},\n",
        "                                 ...\n",
        "                '이름n': {'data':   DataFrame, weight: int},\n",
        "            }\n",
        "            Dataframe의 columns 은 아래와 같음.[COUNT]\n",
        "        code_df: DataFrame, code 정보가 들어있는 matrix\n",
        "        log_weights: dict, 각 log 파일별 중요도\n",
        "        threshold: int, 최소 중복 갯수.\n",
        "        log_column: str, log_dfs 에서 추출해 최종 dfs에 존재할 log_columns 이름\n",
        "        code_column: str, code_df 에서 추출해 최종 dfs에 존재할 code_columns 이름\n",
        "    Returns:\n",
        "        ui_mat, DataFrame,\n",
        "        index_codes, ui_mat(Dataframe)의 indices 정보.\n",
        "    \"\"\"\n",
        "\n",
        "    # dfs['COUNT'] 에 weight 값을 추가함\n",
        "    dfs = add_weights(dfs, **log_weights)\n",
        "\n",
        "    # code 정보와 log정보를 취합.\n",
        "    dfs = merge_code_with_log(code_df, dfs)\n",
        "\n",
        "    # dfs 내에 들어있는 데이터들을 하나의 데이터로 통합\n",
        "    dfs = pd.concat([dfs[name]['data'] for name in dfs])\n",
        "\n",
        "    # GUEST 을 제거. GUEST은 0번이라고 지정되어 있음.\n",
        "    dfs = dfs[dfs.MEMBER_NO != 0]\n",
        "\n",
        "    # Drop NaN Values\n",
        "    dfs.dropna(inplace=True)\n",
        "\n",
        "    # log가 threshold 이상 중복 되어야 함.\n",
        "    dfs = filtering(dfs, threshold, log_column, code_column)\n",
        "\n",
        "    # ui-matrix 생성\n",
        "    ui_mat, index_codes = generate_ui_matrix(dfs, log_column, code_column)\n",
        "    return ui_mat, index_codes"
      ],
      "execution_count": 0,
      "outputs": []
    },
    {
      "cell_type": "markdown",
      "metadata": {
        "id": "QyNf8zqgSzkO",
        "colab_type": "text"
      },
      "source": [
        "![img_2](https://i.imgur.com/RHFcPvK.png)"
      ]
    },
    {
      "cell_type": "markdown",
      "metadata": {
        "id": "SsoxbYBkSzkP",
        "colab_type": "text"
      },
      "source": [
        "### 데이터별 가중치 부여"
      ]
    },
    {
      "cell_type": "code",
      "metadata": {
        "id": "oNdJ-Q1LSzkP",
        "colab_type": "code",
        "colab": {}
      },
      "source": [
        "def add_weights(dfs, **names_weights):\n",
        "    \"\"\"\n",
        "    Description:\n",
        "        입력 dict인 dfs에 알맞는 weight 을 추가함.\n",
        "    TODO: 그림 추가하기\n",
        "    Args:\n",
        "        dfs: dict, 아래 형태로 들어 있는 dictionary\n",
        "        {\n",
        "            '이름1': {'data':   DataFrame},\n",
        "            '이름3': {'data':   DataFrame},\n",
        "                        ...\n",
        "            '이름n': {'data':   DataFrame},\n",
        "        }\n",
        "    Returns:\n",
        "        dict, 아래 형태를 가진 dictionary\n",
        "        {\n",
        "            '이름1': {'data':   DataFrame, weignt: int},\n",
        "            '이름2': {'data':   DataFrame, weight: int},\n",
        "                     ...\n",
        "            '이름n': {'data':   DataFrame, weight: int},\n",
        "        }\n",
        "    \"\"\"\n",
        "\n",
        "    assert names_weights.keys() == dfs.keys(), '입력 weights 는 log dataframe 이름과 동일 해야 합니다.'\n",
        "    for name, value in names_weights.items():\n",
        "        weight = names_weights[name]\n",
        "        dfs[name]['weight'] = weight\n",
        "    return dfs"
      ],
      "execution_count": 0,
      "outputs": []
    },
    {
      "cell_type": "code",
      "metadata": {
        "id": "jlRRe0QnSzkR",
        "colab_type": "code",
        "colab": {}
      },
      "source": [
        "# 각 데이터별로 가중치를 얼마나 줄 것인가 \"Hyper Parameter\" 설정\n",
        "ctr_weights = {'car_master_read_df': 1.}\n",
        "cvr_weights = {'tb_call_request': 1.3, 'tb_car_reservation': 1.1, 'tb_car_wish': 1.2, 'tb_sms': 1.3}"
      ],
      "execution_count": 0,
      "outputs": []
    },
    {
      "cell_type": "code",
      "metadata": {
        "id": "Uya1KS7kSzkS",
        "colab_type": "code",
        "colab": {}
      },
      "source": [
        "ctr_dfs = add_weights(ctr_logs, **ctr_weights)\n",
        "cvr_dfs = add_weights(cvr_logs, **cvr_weights)"
      ],
      "execution_count": 0,
      "outputs": []
    },
    {
      "cell_type": "code",
      "metadata": {
        "id": "y3zW9jJkSzkU",
        "colab_type": "code",
        "outputId": "303bf63f-26b1-4a55-a3a5-35be6ac9f42e",
        "colab": {}
      },
      "source": [
        "ctr_dfs['car_master_read_df'].keys()"
      ],
      "execution_count": 0,
      "outputs": [
        {
          "output_type": "execute_result",
          "data": {
            "text/plain": [
              "dict_keys(['data', 'weight'])"
            ]
          },
          "metadata": {
            "tags": []
          },
          "execution_count": 48
        }
      ]
    },
    {
      "cell_type": "code",
      "metadata": {
        "id": "PnTJzUITSzkV",
        "colab_type": "code",
        "outputId": "72ba9cce-3c5f-4388-e46b-93f3b56ccb67",
        "colab": {}
      },
      "source": [
        "cvr_dfs['tb_sms'].keys()"
      ],
      "execution_count": 0,
      "outputs": [
        {
          "output_type": "execute_result",
          "data": {
            "text/plain": [
              "dict_keys(['data', 'weight'])"
            ]
          },
          "metadata": {
            "tags": []
          },
          "execution_count": 49
        }
      ]
    },
    {
      "cell_type": "markdown",
      "metadata": {
        "id": "ACbklbmFSzkX",
        "colab_type": "text"
      },
      "source": [
        "### 목적에 맞는 Code로 치환"
      ]
    },
    {
      "cell_type": "code",
      "metadata": {
        "id": "aEu45LHhSzkX",
        "colab_type": "code",
        "colab": {}
      },
      "source": [
        "def merge_code_with_log(code_df, log_dfs, on='CAR_SEQ', log_columns='MEMBER_NO'):\n",
        "    \"\"\"\n",
        "    Description:\n",
        "        코드 정보와 log 정보를 합친후 적절한 추처리를 합니다.\n",
        "         필요한 정보는 추가하고 필요없는 정보를 제거합니다.\n",
        "    Args:\n",
        "        code_df: DataFrame, code 정보가 들어있는 dataframe\n",
        "        log_dfs: dict , log 정보를 가지고 있는 dict, 아래와 같은 형태를 가집니다.\n",
        "            {\n",
        "                '이름1': {'data':   DataFrame, weignt: int},\n",
        "                '이름2': {'data':   DataFrame, weight: int},\n",
        "                                 ...\n",
        "                '이름n': {'data':   DataFrame, weight: int},\n",
        "            }\n",
        "        on: code_df 와 log_dfs 을 병합할 column.\n",
        "        log_columns: 로그 columns 중 유지해야 할 columns 을 남겨둡니다.\n",
        "    Returns:\n",
        "        dict, log_dfs 와 같은 형태의 dictionay가 반환.\n",
        "        log_dfs 에서 [data] 부분이 변경됨.\n",
        "    \"\"\"\n",
        "\n",
        "    for name, sub_dict in log_dfs.items():\n",
        "        # 필요한 columns 만 가져옵니다.\n",
        "        # TODO: 추후 log_columns 이 복수개가 될때 처리할수 있도록 코드 변경하기\n",
        "        # TODO: REGI DATE 추가하기\n",
        "        df = sub_dict['data'].loc[:, [log_columns, on, \"REGI_DATE\"]]\n",
        "\n",
        "        # left merge 합니다\n",
        "        merged_df = pd.merge(df, code_df, on=on, how='left')\n",
        "\n",
        "        # CAR_SEQ column 을 제거합니다. 제거하지 않은면 연산량에 영향을 미칩니다\n",
        "        df = merged_df.drop(on, axis=1)\n",
        "\n",
        "        # 모든 행의 COUNT 값이 1을 보증합니다.\n",
        "        # weight COUNT열을 weight 로 바꾸는건 COUNT에 weight를 곱해주는것과 동치입니다\n",
        "        df['COUNT'] = sub_dict['weight']\n",
        "\n",
        "        # 변경된 df을 dict 에 추가합니다.\n",
        "        log_dfs[name]['data'] = df\n",
        "    return log_dfs"
      ],
      "execution_count": 0,
      "outputs": []
    },
    {
      "cell_type": "code",
      "metadata": {
        "id": "47ZtmkrcSzkZ",
        "colab_type": "code",
        "colab": {}
      },
      "source": [
        "ctr_dfs = merge_code_with_log(code, ctr_dfs, on='CAR_SEQ', log_columns='MEMBER_NO')\n",
        "cvr_dfs = merge_code_with_log(code, cvr_dfs, on='CAR_SEQ', log_columns='MEMBER_NO')"
      ],
      "execution_count": 0,
      "outputs": []
    },
    {
      "cell_type": "code",
      "metadata": {
        "id": "trrHsFhNSzka",
        "colab_type": "code",
        "outputId": "ec4d68de-f775-4ded-8620-c1b3c3b70cd7",
        "colab": {}
      },
      "source": [
        "ctr_dfs['car_master_read_df'][\"data\"].head()"
      ],
      "execution_count": 0,
      "outputs": [
        {
          "output_type": "execute_result",
          "data": {
            "text/html": [
              "<div>\n",
              "<style scoped>\n",
              "    .dataframe tbody tr th:only-of-type {\n",
              "        vertical-align: middle;\n",
              "    }\n",
              "\n",
              "    .dataframe tbody tr th {\n",
              "        vertical-align: top;\n",
              "    }\n",
              "\n",
              "    .dataframe thead th {\n",
              "        text-align: right;\n",
              "    }\n",
              "</style>\n",
              "<table border=\"1\" class=\"dataframe\">\n",
              "  <thead>\n",
              "    <tr style=\"text-align: right;\">\n",
              "      <th></th>\n",
              "      <th>MEMBER_NO</th>\n",
              "      <th>REGI_DATE</th>\n",
              "      <th>CAR_CODE</th>\n",
              "      <th>COUNT</th>\n",
              "    </tr>\n",
              "  </thead>\n",
              "  <tbody>\n",
              "    <tr>\n",
              "      <th>0</th>\n",
              "      <td>131011</td>\n",
              "      <td>2017-02-23 오후 10:00:05</td>\n",
              "      <td>1260.0</td>\n",
              "      <td>1.0</td>\n",
              "    </tr>\n",
              "    <tr>\n",
              "      <th>1</th>\n",
              "      <td>196303</td>\n",
              "      <td>2017-02-23 오후 10:00:20</td>\n",
              "      <td>1462.0</td>\n",
              "      <td>1.0</td>\n",
              "    </tr>\n",
              "    <tr>\n",
              "      <th>2</th>\n",
              "      <td>192525</td>\n",
              "      <td>2017-02-23 오후 10:00:22</td>\n",
              "      <td>1175.0</td>\n",
              "      <td>1.0</td>\n",
              "    </tr>\n",
              "    <tr>\n",
              "      <th>3</th>\n",
              "      <td>192525</td>\n",
              "      <td>2017-02-23 오후 10:00:27</td>\n",
              "      <td>1175.0</td>\n",
              "      <td>1.0</td>\n",
              "    </tr>\n",
              "    <tr>\n",
              "      <th>4</th>\n",
              "      <td>192525</td>\n",
              "      <td>2017-02-23 오후 10:00:52</td>\n",
              "      <td>2683.0</td>\n",
              "      <td>1.0</td>\n",
              "    </tr>\n",
              "  </tbody>\n",
              "</table>\n",
              "</div>"
            ],
            "text/plain": [
              "   MEMBER_NO               REGI_DATE  CAR_CODE  COUNT\n",
              "0     131011  2017-02-23 오후 10:00:05    1260.0    1.0\n",
              "1     196303  2017-02-23 오후 10:00:20    1462.0    1.0\n",
              "2     192525  2017-02-23 오후 10:00:22    1175.0    1.0\n",
              "3     192525  2017-02-23 오후 10:00:27    1175.0    1.0\n",
              "4     192525  2017-02-23 오후 10:00:52    2683.0    1.0"
            ]
          },
          "metadata": {
            "tags": []
          },
          "execution_count": 55
        }
      ]
    },
    {
      "cell_type": "code",
      "metadata": {
        "id": "bp420oXkSzkc",
        "colab_type": "code",
        "outputId": "c919916e-5071-4328-9a60-2c3ed26eda16",
        "colab": {}
      },
      "source": [
        "cvr_dfs['tb_car_reservation'][\"data\"].head()"
      ],
      "execution_count": 0,
      "outputs": [
        {
          "output_type": "execute_result",
          "data": {
            "text/html": [
              "<div>\n",
              "<style scoped>\n",
              "    .dataframe tbody tr th:only-of-type {\n",
              "        vertical-align: middle;\n",
              "    }\n",
              "\n",
              "    .dataframe tbody tr th {\n",
              "        vertical-align: top;\n",
              "    }\n",
              "\n",
              "    .dataframe thead th {\n",
              "        text-align: right;\n",
              "    }\n",
              "</style>\n",
              "<table border=\"1\" class=\"dataframe\">\n",
              "  <thead>\n",
              "    <tr style=\"text-align: right;\">\n",
              "      <th></th>\n",
              "      <th>MEMBER_NO</th>\n",
              "      <th>REGI_DATE</th>\n",
              "      <th>CAR_CODE</th>\n",
              "      <th>COUNT</th>\n",
              "    </tr>\n",
              "  </thead>\n",
              "  <tbody>\n",
              "    <tr>\n",
              "      <th>0</th>\n",
              "      <td>365489</td>\n",
              "      <td>2019-09-09 오후 10:33:16</td>\n",
              "      <td>1175.0</td>\n",
              "      <td>1.1</td>\n",
              "    </tr>\n",
              "    <tr>\n",
              "      <th>1</th>\n",
              "      <td>365584</td>\n",
              "      <td>2019-09-09 오후 9:18:02</td>\n",
              "      <td>1262.0</td>\n",
              "      <td>1.1</td>\n",
              "    </tr>\n",
              "    <tr>\n",
              "      <th>2</th>\n",
              "      <td>365716</td>\n",
              "      <td>2019-09-09 오후 8:35:48</td>\n",
              "      <td>1394.0</td>\n",
              "      <td>1.1</td>\n",
              "    </tr>\n",
              "    <tr>\n",
              "      <th>3</th>\n",
              "      <td>365716</td>\n",
              "      <td>2019-09-09 오후 8:23:21</td>\n",
              "      <td>1394.0</td>\n",
              "      <td>1.1</td>\n",
              "    </tr>\n",
              "    <tr>\n",
              "      <th>4</th>\n",
              "      <td>365584</td>\n",
              "      <td>2019-09-09 오후 7:11:13</td>\n",
              "      <td>2683.0</td>\n",
              "      <td>1.1</td>\n",
              "    </tr>\n",
              "  </tbody>\n",
              "</table>\n",
              "</div>"
            ],
            "text/plain": [
              "   MEMBER_NO               REGI_DATE  CAR_CODE  COUNT\n",
              "0     365489  2019-09-09 오후 10:33:16    1175.0    1.1\n",
              "1     365584   2019-09-09 오후 9:18:02    1262.0    1.1\n",
              "2     365716   2019-09-09 오후 8:35:48    1394.0    1.1\n",
              "3     365716   2019-09-09 오후 8:23:21    1394.0    1.1\n",
              "4     365584   2019-09-09 오후 7:11:13    2683.0    1.1"
            ]
          },
          "metadata": {
            "tags": []
          },
          "execution_count": 56
        }
      ]
    },
    {
      "cell_type": "markdown",
      "metadata": {
        "id": "V05U9aO0Szkd",
        "colab_type": "text"
      },
      "source": [
        "### 하나의 데이터로 통합"
      ]
    },
    {
      "cell_type": "code",
      "metadata": {
        "id": "FBjaJcozSzkd",
        "colab_type": "code",
        "colab": {}
      },
      "source": [
        "ctr_dfs = pd.concat([ctr_dfs[name]['data'] for name in ctr_dfs])\n",
        "cvr_dfs = pd.concat([cvr_dfs[name]['data'] for name in cvr_dfs])"
      ],
      "execution_count": 0,
      "outputs": []
    },
    {
      "cell_type": "code",
      "metadata": {
        "id": "LZc1B2bQSzkf",
        "colab_type": "code",
        "outputId": "08ee3bdd-cef1-4e18-9f02-d4307a73a8ac",
        "colab": {}
      },
      "source": [
        "ctr_dfs.head()"
      ],
      "execution_count": 0,
      "outputs": [
        {
          "output_type": "execute_result",
          "data": {
            "text/html": [
              "<div>\n",
              "<style scoped>\n",
              "    .dataframe tbody tr th:only-of-type {\n",
              "        vertical-align: middle;\n",
              "    }\n",
              "\n",
              "    .dataframe tbody tr th {\n",
              "        vertical-align: top;\n",
              "    }\n",
              "\n",
              "    .dataframe thead th {\n",
              "        text-align: right;\n",
              "    }\n",
              "</style>\n",
              "<table border=\"1\" class=\"dataframe\">\n",
              "  <thead>\n",
              "    <tr style=\"text-align: right;\">\n",
              "      <th></th>\n",
              "      <th>MEMBER_NO</th>\n",
              "      <th>REGI_DATE</th>\n",
              "      <th>CAR_CODE</th>\n",
              "      <th>COUNT</th>\n",
              "    </tr>\n",
              "  </thead>\n",
              "  <tbody>\n",
              "    <tr>\n",
              "      <th>0</th>\n",
              "      <td>131011</td>\n",
              "      <td>2017-02-23 오후 10:00:05</td>\n",
              "      <td>1260.0</td>\n",
              "      <td>1.0</td>\n",
              "    </tr>\n",
              "    <tr>\n",
              "      <th>1</th>\n",
              "      <td>196303</td>\n",
              "      <td>2017-02-23 오후 10:00:20</td>\n",
              "      <td>1462.0</td>\n",
              "      <td>1.0</td>\n",
              "    </tr>\n",
              "    <tr>\n",
              "      <th>2</th>\n",
              "      <td>192525</td>\n",
              "      <td>2017-02-23 오후 10:00:22</td>\n",
              "      <td>1175.0</td>\n",
              "      <td>1.0</td>\n",
              "    </tr>\n",
              "    <tr>\n",
              "      <th>3</th>\n",
              "      <td>192525</td>\n",
              "      <td>2017-02-23 오후 10:00:27</td>\n",
              "      <td>1175.0</td>\n",
              "      <td>1.0</td>\n",
              "    </tr>\n",
              "    <tr>\n",
              "      <th>4</th>\n",
              "      <td>192525</td>\n",
              "      <td>2017-02-23 오후 10:00:52</td>\n",
              "      <td>2683.0</td>\n",
              "      <td>1.0</td>\n",
              "    </tr>\n",
              "  </tbody>\n",
              "</table>\n",
              "</div>"
            ],
            "text/plain": [
              "   MEMBER_NO               REGI_DATE  CAR_CODE  COUNT\n",
              "0     131011  2017-02-23 오후 10:00:05    1260.0    1.0\n",
              "1     196303  2017-02-23 오후 10:00:20    1462.0    1.0\n",
              "2     192525  2017-02-23 오후 10:00:22    1175.0    1.0\n",
              "3     192525  2017-02-23 오후 10:00:27    1175.0    1.0\n",
              "4     192525  2017-02-23 오후 10:00:52    2683.0    1.0"
            ]
          },
          "metadata": {
            "tags": []
          },
          "execution_count": 59
        }
      ]
    },
    {
      "cell_type": "code",
      "metadata": {
        "id": "JokCc_Y_Szkg",
        "colab_type": "code",
        "outputId": "1e5853c0-e579-4177-ccc3-20b44c2868df",
        "colab": {}
      },
      "source": [
        "cvr_dfs.head()"
      ],
      "execution_count": 0,
      "outputs": [
        {
          "output_type": "execute_result",
          "data": {
            "text/html": [
              "<div>\n",
              "<style scoped>\n",
              "    .dataframe tbody tr th:only-of-type {\n",
              "        vertical-align: middle;\n",
              "    }\n",
              "\n",
              "    .dataframe tbody tr th {\n",
              "        vertical-align: top;\n",
              "    }\n",
              "\n",
              "    .dataframe thead th {\n",
              "        text-align: right;\n",
              "    }\n",
              "</style>\n",
              "<table border=\"1\" class=\"dataframe\">\n",
              "  <thead>\n",
              "    <tr style=\"text-align: right;\">\n",
              "      <th></th>\n",
              "      <th>MEMBER_NO</th>\n",
              "      <th>REGI_DATE</th>\n",
              "      <th>CAR_CODE</th>\n",
              "      <th>COUNT</th>\n",
              "    </tr>\n",
              "  </thead>\n",
              "  <tbody>\n",
              "    <tr>\n",
              "      <th>0</th>\n",
              "      <td>100811.0</td>\n",
              "      <td>2016-07-11 오전 11:11:22</td>\n",
              "      <td>1161.0</td>\n",
              "      <td>1.3</td>\n",
              "    </tr>\n",
              "    <tr>\n",
              "      <th>1</th>\n",
              "      <td>129669.0</td>\n",
              "      <td>2016-07-11 오전 11:11:22</td>\n",
              "      <td>1462.0</td>\n",
              "      <td>1.3</td>\n",
              "    </tr>\n",
              "    <tr>\n",
              "      <th>2</th>\n",
              "      <td>121736.0</td>\n",
              "      <td>2016-07-11 오전 11:11:22</td>\n",
              "      <td>1536.0</td>\n",
              "      <td>1.3</td>\n",
              "    </tr>\n",
              "    <tr>\n",
              "      <th>3</th>\n",
              "      <td>121736.0</td>\n",
              "      <td>2016-07-11 오전 11:11:22</td>\n",
              "      <td>1536.0</td>\n",
              "      <td>1.3</td>\n",
              "    </tr>\n",
              "    <tr>\n",
              "      <th>4</th>\n",
              "      <td>129796.0</td>\n",
              "      <td>2016-07-11 오전 11:11:22</td>\n",
              "      <td>1304.0</td>\n",
              "      <td>1.3</td>\n",
              "    </tr>\n",
              "  </tbody>\n",
              "</table>\n",
              "</div>"
            ],
            "text/plain": [
              "   MEMBER_NO               REGI_DATE  CAR_CODE  COUNT\n",
              "0   100811.0  2016-07-11 오전 11:11:22    1161.0    1.3\n",
              "1   129669.0  2016-07-11 오전 11:11:22    1462.0    1.3\n",
              "2   121736.0  2016-07-11 오전 11:11:22    1536.0    1.3\n",
              "3   121736.0  2016-07-11 오전 11:11:22    1536.0    1.3\n",
              "4   129796.0  2016-07-11 오전 11:11:22    1304.0    1.3"
            ]
          },
          "metadata": {
            "tags": []
          },
          "execution_count": 60
        }
      ]
    },
    {
      "cell_type": "markdown",
      "metadata": {
        "id": "ZA5bIxRaSzki",
        "colab_type": "text"
      },
      "source": [
        "### Guest 제거"
      ]
    },
    {
      "cell_type": "markdown",
      "metadata": {
        "id": "nzUMdY3OSzki",
        "colab_type": "text"
      },
      "source": [
        "게스트는 MEMBER_NO가 0입니다. 데이터에 존재하는 Guest의 수를 확인 해 보겠습니다."
      ]
    },
    {
      "cell_type": "code",
      "metadata": {
        "id": "EXX68LIGSzkj",
        "colab_type": "code",
        "outputId": "db33b95d-eab8-4919-8b6b-39ffdc3102b9",
        "colab": {}
      },
      "source": [
        "ctr_dfs.loc[ctr_dfs.MEMBER_NO==0,:].shape"
      ],
      "execution_count": 0,
      "outputs": [
        {
          "output_type": "execute_result",
          "data": {
            "text/plain": [
              "(0, 4)"
            ]
          },
          "metadata": {
            "tags": []
          },
          "execution_count": 65
        }
      ]
    },
    {
      "cell_type": "code",
      "metadata": {
        "id": "WtXr3CwcSzkl",
        "colab_type": "code",
        "outputId": "8a1b91ac-73ac-4b90-c3e0-f44888b2e120",
        "colab": {}
      },
      "source": [
        "cvr_dfs.loc[cvr_dfs.MEMBER_NO==0,:].shape"
      ],
      "execution_count": 0,
      "outputs": [
        {
          "output_type": "execute_result",
          "data": {
            "text/plain": [
              "(16986, 4)"
            ]
          },
          "metadata": {
            "tags": []
          },
          "execution_count": 66
        }
      ]
    },
    {
      "cell_type": "markdown",
      "metadata": {
        "id": "Uo0UmeiCSzkn",
        "colab_type": "text"
      },
      "source": [
        "**제거**"
      ]
    },
    {
      "cell_type": "code",
      "metadata": {
        "id": "yxkaJ7lrSzkn",
        "colab_type": "code",
        "colab": {}
      },
      "source": [
        "ctr_dfs = ctr_dfs.loc[ctr_dfs.MEMBER_NO != 0, :]\n",
        "cvr_dfs = cvr_dfs.loc[cvr_dfs.MEMBER_NO != 0, :]"
      ],
      "execution_count": 0,
      "outputs": []
    },
    {
      "cell_type": "code",
      "metadata": {
        "id": "ate6UDOhSzkp",
        "colab_type": "code",
        "outputId": "515e3b8f-6057-4d79-c2a5-d2bd5b3c00a0",
        "colab": {}
      },
      "source": [
        "ctr_dfs.loc[ctr_dfs.MEMBER_NO==0,:].shape"
      ],
      "execution_count": 0,
      "outputs": [
        {
          "output_type": "execute_result",
          "data": {
            "text/plain": [
              "(0, 4)"
            ]
          },
          "metadata": {
            "tags": []
          },
          "execution_count": 71
        }
      ]
    },
    {
      "cell_type": "code",
      "metadata": {
        "id": "1jHHp7WySzkq",
        "colab_type": "code",
        "outputId": "94cd897a-8012-4524-8035-44781916e8f5",
        "colab": {}
      },
      "source": [
        "cvr_dfs.loc[cvr_dfs.MEMBER_NO==0,:].shape"
      ],
      "execution_count": 0,
      "outputs": [
        {
          "output_type": "execute_result",
          "data": {
            "text/plain": [
              "(0, 4)"
            ]
          },
          "metadata": {
            "tags": []
          },
          "execution_count": 72
        }
      ]
    },
    {
      "cell_type": "markdown",
      "metadata": {
        "id": "OfaGnnLjSzks",
        "colab_type": "text"
      },
      "source": [
        "### 결측치 제거"
      ]
    },
    {
      "cell_type": "code",
      "metadata": {
        "id": "6i9pZ15xSzks",
        "colab_type": "code",
        "outputId": "6546beac-5270-4fd7-a8f1-94679f9b91a6",
        "colab": {}
      },
      "source": [
        "print(\"ctr_dfs에 결측치가 존재 하는가? : \\n {}\".format(ctr_dfs.isna().any()))\n",
        "print(\"cvr_dfs에 결측치가 존재 하는가? : \\n {}\".format(cvr_dfs.isna().any()))"
      ],
      "execution_count": 0,
      "outputs": [
        {
          "output_type": "stream",
          "text": [
            "ctr_dfs에 결측치가 존재 하는가? : \n",
            " MEMBER_NO    False\n",
            "REGI_DATE    False\n",
            "CAR_CODE     False\n",
            "COUNT        False\n",
            "dtype: bool\n",
            "cvr_dfs에 결측치가 존재 하는가? : \n",
            " MEMBER_NO     True\n",
            "REGI_DATE    False\n",
            "CAR_CODE      True\n",
            "COUNT        False\n",
            "dtype: bool\n"
          ],
          "name": "stdout"
        }
      ]
    },
    {
      "cell_type": "code",
      "metadata": {
        "id": "gkxCqZwiSzku",
        "colab_type": "code",
        "colab": {}
      },
      "source": [
        "ctr_dfs.dropna(inplace=True)\n",
        "cvr_dfs.dropna(inplace=True)"
      ],
      "execution_count": 0,
      "outputs": []
    },
    {
      "cell_type": "code",
      "metadata": {
        "id": "Uz1PohKTSzkv",
        "colab_type": "code",
        "outputId": "bf519ce3-71a9-4a93-b0b2-eac509d7bf22",
        "colab": {}
      },
      "source": [
        "print(\"ctr_dfs에 결측치가 존재 하는가? : \\n {}\".format(ctr_dfs.isna().any()))\n",
        "print(\"cvr_dfs에 결측치가 존재 하는가? : \\n {}\".format(cvr_dfs.isna().any()))"
      ],
      "execution_count": 0,
      "outputs": [
        {
          "output_type": "stream",
          "text": [
            "ctr_dfs에 결측치가 존재 하는가? : \n",
            " MEMBER_NO    False\n",
            "REGI_DATE    False\n",
            "CAR_CODE     False\n",
            "COUNT        False\n",
            "dtype: bool\n",
            "cvr_dfs에 결측치가 존재 하는가? : \n",
            " MEMBER_NO    False\n",
            "REGI_DATE    False\n",
            "CAR_CODE     False\n",
            "COUNT        False\n",
            "dtype: bool\n"
          ],
          "name": "stdout"
        }
      ]
    },
    {
      "cell_type": "markdown",
      "metadata": {
        "id": "jrxtoG--Szkw",
        "colab_type": "text"
      },
      "source": [
        "### 일정 로그 수 이하의 데이터 제거 (k-core)"
      ]
    },
    {
      "cell_type": "code",
      "metadata": {
        "id": "-n6JLVY8Szkw",
        "colab_type": "code",
        "colab": {}
      },
      "source": [
        "def filtering(matrix_df, threshold=3, *column_names):\n",
        "    \"\"\"\n",
        "    Description:\n",
        "    아래와 같은 순서로 운영됩니다\n",
        "    nan 값 제거 후\n",
        "    matrix_df 에서 지정된 column 의 element 중 중복된 갯수가\n",
        "    특정 기준(threshold)이하인 모든 열을 제거합니다.\n",
        "    최종적으로 반환되는 matrix 속 지정된 여러 column 모든 element 들은\n",
        "    threshold 이상의 중복된 값을 가지고 있습니다.\n",
        "    Example) 만약 threshold가 2 라면 column_names 모든 열의\n",
        "    중복갯수가 2개 이상이 된 row 만 살아납니다.\n",
        "    +---------+---------+\n",
        "    | column1 | column2 |\n",
        "    +---------+---------+\n",
        "    |    a    |   가    |\n",
        "    +---------+---------+        +---------+---------+\n",
        "    |    b    |   나    |         | column1 | column2 |\n",
        "    +---------+---------+ -----> +---------+---------+\n",
        "    |    a    |   다    |         |    c    |   다    |\n",
        "    +---------+---------+        +---------+---------+\n",
        "    |    c    |   다    |         |    c    |   다    |\n",
        "    +---------+---------+        +---------+---------+\n",
        "    |    c    |   다    |\n",
        "    +---------+---------+\n",
        "    |    c    |   nan   |\n",
        "    +---------+---------+\n",
        "    Args:\n",
        "        matrix_df: DataFrame, 해당 연산을 수행할 source matrix 입니다.\n",
        "        threshold: int, 최종 matrix 에서 특정 column 의 동일 element 가 남아있을 최소 기준입니다.\n",
        "        *column_names : str, matrix_df 에 존재하는 column 이름입니다.\n",
        "            example) 'MEMBER_NO', 'MODEL_CODE'\n",
        "    Returns:\n",
        "        DataFrame, 해당 전처리가 적용된 matrix\n",
        "    Usage:\n",
        "        filterd_read_df = process_for_density(read_df, 3, 'MEMBER_NO', 'MODEL_CODE')\n",
        "    \"\"\"\n",
        "\n",
        "    while True:\n",
        "        mask_array = []\n",
        "        for col_name in column_names:\n",
        "            # 지정된 column 에서 각 element 의 중복 갯수를 Series 로 반환\n",
        "            # index 는 element, value 는 count\n",
        "            col_counts = matrix_df.loc[:, col_name].value_counts()\n",
        "\n",
        "            # 중복 갯수가 기준값 이상인 element 을 가져옴.\n",
        "            valid_column_values = col_counts.loc[col_counts >= threshold].index.values\n",
        "\n",
        "            # matrix 에서 해당 element 의 위치를 나타내는 mask 생성 및 list 에 추가\n",
        "            valid_bool_indice = matrix_df.loc[:, col_name].isin(valid_column_values)\n",
        "            mask_array.append(valid_bool_indice.values)\n",
        "\n",
        "        # 여러 mask 을 and 연산함, 하나의 boolean mask 을 생성.\n",
        "        valid_indices = np.asarray(mask_array).all(axis=0)\n",
        "\n",
        "        # 위 생성한 boolean mask에서 True 위치에 있는 element 만 뽑아냅니다.\n",
        "        # 추출한 element 의 길이가 변하면 위 loop을 다시 수행해\n",
        "        # element 갯수가 변하지 않을때 까지 수행합니다.\n",
        "        if len(matrix_df) == len(matrix_df.loc[valid_indices, :]):\n",
        "            break\n",
        "        else:\n",
        "            matrix_df = matrix_df.loc[valid_indices, :]\n",
        "    return matrix_df"
      ],
      "execution_count": 0,
      "outputs": []
    },
    {
      "cell_type": "code",
      "metadata": {
        "id": "WPaSTu1iSzkx",
        "colab_type": "code",
        "colab": {}
      },
      "source": [
        "# log의 수가 3회 이하로 발생한 MEMBER_NO, CAR_CODE 순환적 제거\n",
        "ctr_threshold = 3\n",
        "cvr_threshold = 3"
      ],
      "execution_count": 0,
      "outputs": []
    },
    {
      "cell_type": "code",
      "metadata": {
        "id": "HTQXCthXSzkz",
        "colab_type": "code",
        "colab": {}
      },
      "source": [
        "ctr_dfs = filtering(ctr_dfs, ctr_threshold, log_column, code_column)\n",
        "cvr_dfs = filtering(cvr_dfs, cvr_threshold, log_column, code_column)"
      ],
      "execution_count": 0,
      "outputs": []
    },
    {
      "cell_type": "markdown",
      "metadata": {
        "id": "DhLL7YeWSzk0",
        "colab_type": "text"
      },
      "source": [
        "### User-Item 매트릭스로 변환"
      ]
    },
    {
      "cell_type": "code",
      "metadata": {
        "id": "yhGLc4G7Szk1",
        "colab_type": "code",
        "colab": {}
      },
      "source": [
        "def generate_ui_matrix(matrix_df, index_name, columns_name):\n",
        "    \"\"\"\n",
        "    Description :\n",
        "        matrix_df 에 특정열을 이용해 value 가 중복된 갯수인\n",
        "        pivot table 을 생성합니다.\n",
        "        +--------+---------+---------+\n",
        "        |        | column0 | column1 |\n",
        "        +--------+---------+---------+\n",
        "        | index0 |   32    |    4    | <- index0, column1 의 중복 갯수 : 4\n",
        "        +--------+---------+---------+\n",
        "        | index1 |    3    |    2    |\n",
        "        +--------+---------+---------+\n",
        "        | index2 |    7    |    1    |\n",
        "        +--------+---------+---------+\n",
        "    Args:\n",
        "        matrix_df: DataFrame,\n",
        "        index_name: str, matrix_df 에 존재하는 column 이름,\n",
        "            해당 column 은 pivot table 에서 `행(row)`에 해당한다.\n",
        "        columns_name: str, matrix_df 에 존재하는 column 이름,\n",
        "    Returns: DataFrame,\n",
        "    \"\"\"\n",
        "    # 최종 열이 중복된 갯수가 될수 있도록 count 합니다.\n",
        "    read_count = matrix_df.groupby(by=[index_name, columns_name]).sum().reset_index()\n",
        "    read_count.columns = [index_name, columns_name, \"COUNT\"]\n",
        "\n",
        "    #값을 조정합니다.\n",
        "    # read_count[\"COUNT\"] = np.log(read_count[\"COUNT\"])\n",
        "\n",
        "    # pivot table 을 생성합니다.\n",
        "    ui_matrix = read_count.pivot_table(values=\"COUNT\", index=columns_name,\n",
        "                                       columns=index_name, aggfunc='sum',\n",
        "                                       fill_value=0)\n",
        "    ui_matrix.index = ui_matrix.index.astype('int')\n",
        "    ui_matrix.columns = ui_matrix.columns.astype('int')\n",
        "\n",
        "    # pivot table index 순서\n",
        "    codes = ui_matrix.index.astype(np.int).values\n",
        "\n",
        "    return ui_matrix, codes"
      ],
      "execution_count": 0,
      "outputs": []
    },
    {
      "cell_type": "code",
      "metadata": {
        "id": "WR6l5N9kSzk2",
        "colab_type": "code",
        "colab": {}
      },
      "source": [
        "ctr_ui_mat, ctr_index_codes = generate_ui_matrix(ctr_dfs, log_column, code_column)\n",
        "cvr_ui_mat, cvr_index_codes = generate_ui_matrix(cvr_dfs, log_column, code_column)"
      ],
      "execution_count": 0,
      "outputs": []
    },
    {
      "cell_type": "markdown",
      "metadata": {
        "id": "U0v98VMRSzk3",
        "colab_type": "text"
      },
      "source": [
        "## CVR 데이터와 CTR 데이터 합치기"
      ]
    },
    {
      "cell_type": "code",
      "metadata": {
        "id": "2vGeIzu7Szk3",
        "colab_type": "code",
        "colab": {}
      },
      "source": [
        "# Merge CVR + CTR\n",
        "ui_mat = ctr_ui_mat.add(cvr_ui_mat, fill_value=0).fillna(0)\n",
        "index_code = ui_mat.index"
      ],
      "execution_count": 0,
      "outputs": []
    },
    {
      "cell_type": "markdown",
      "metadata": {
        "id": "yQYAV9haSzk4",
        "colab_type": "text"
      },
      "source": [
        "## 유사도 계산"
      ]
    },
    {
      "cell_type": "markdown",
      "metadata": {
        "id": "Irpq_110Szk5",
        "colab_type": "text"
      },
      "source": [
        "위에서 만든 User-Item 매트릭스를 통해 어떻게 추천 항목을 추출할 수 있을까요.<br>\n",
        "우리는 아래와 같은 프로세스로 추천 항목을 추천하고자 합니다. <br>\n",
        "(Item-Based Collaborative Filtering)"
      ]
    },
    {
      "cell_type": "markdown",
      "metadata": {
        "id": "t8KWiKqtSzk5",
        "colab_type": "text"
      },
      "source": [
        "![\"추천프로세스\"](https://i.imgur.com/wOYOX68.png)"
      ]
    },
    {
      "cell_type": "markdown",
      "metadata": {
        "id": "xa9vKjXFSzk5",
        "colab_type": "text"
      },
      "source": [
        "여기서, \"유사도 계산\"는 어떻게 할 수 있을까요.<br>\n",
        "두 차종을 좋아하는 유저 집합의 선호가 비슷하다면, 두 차종은 \"유사한 취향을 가진 유저들이 좋아하는 차종\"이라고 볼 수 있습니다.<br>\n",
        "계산 방법은 다음 슬라이드를 참조해주세요.\n",
        "\n",
        "\n",
        "[유사도 계산 방법에 대하여](./similarity.ipynb)"
      ]
    },
    {
      "cell_type": "markdown",
      "metadata": {
        "id": "aTn0OOt_Szk6",
        "colab_type": "text"
      },
      "source": [
        "이러한 유사도 계산 방식을 해당 데이터에 맞게 적용하면<br>\n",
        "\n",
        "여기서는 유사도 계산식을 기본값으로 Jaccard로 설정하였습니다."
      ]
    },
    {
      "cell_type": "code",
      "metadata": {
        "id": "Oq_F-85LSzk6",
        "colab_type": "code",
        "colab": {}
      },
      "source": [
        "def calculate_similarity_matrix(ui_matrix, similarity='jaccard'):\n",
        "\n",
        "    \"\"\"\n",
        "    Description :\n",
        "        jarcarrd Similarity 을 계산합니다.\n",
        "        계산방식은 아래와 같습니다.\n",
        "        Similarity = interscetion / union\n",
        "    Args:\n",
        "        ui_matrix: Ndarray\n",
        "        similarity: str, 어떤 similarity 을 사용해 추출할 것인지 결정합니다.\n",
        "    Returns:\n",
        "        Ndarray, symetric matrix\n",
        "    \"\"\"\n",
        "    # broadcast을 이용하기 위해 ui_matrix의 shape 을 변형합니다.\n",
        "    row_data = np.expand_dims(ui_matrix, axis=0)\n",
        "    column_data = np.expand_dims(ui_matrix, axis=1)\n",
        "\n",
        "    if similarity == 'jaccard':\n",
        "        # or 연산을 수행한 후, True인 값의 갯수를 파악합니다.\n",
        "        union = np.sum(np.logical_or(row_data, column_data), axis=-1)\n",
        "\n",
        "        # and 연산을 수행한 후, True인 값의 갯수를 파악합니다.\n",
        "        intersection = np.sum(np.logical_and(row_data, column_data), axis=-1)\n",
        "        return intersection / union\n",
        "\n",
        "    elif similarity == 'pearson':\n",
        "        # pearson similarity 을 계산합니다. \n",
        "        sim_mat = np.corrcoef(ui_matrix)\n",
        "        sim_mat = np.nan_to_num(sim_mat)\n",
        "        return sim_mat\n",
        "\n",
        "    else:\n",
        "        print('아직 구현 되지 않은 유사도 방식입니다. 구현된 유사도는 아래와 같습니다.')\n",
        "        print('[ jaccard ] [ pearson ]')\n",
        "        raise NotImplementedError\n",
        "    # similarity 을 계산해 반환합니다."
      ],
      "execution_count": 0,
      "outputs": []
    },
    {
      "cell_type": "code",
      "metadata": {
        "id": "jNGqRAuASzk8",
        "colab_type": "code",
        "colab": {}
      },
      "source": [
        "# Generate pearson similarity\n",
        "sim_mat=calculate_similarity_matrix(ui_mat)"
      ],
      "execution_count": 0,
      "outputs": []
    },
    {
      "cell_type": "markdown",
      "metadata": {
        "id": "m4j9cbGuSzk9",
        "colab_type": "text"
      },
      "source": [
        "## 계산된 Sim_mat을 통한 추천 도출 및 모델 저장"
      ]
    },
    {
      "cell_type": "code",
      "metadata": {
        "id": "fsuDyYCoSzk9",
        "colab_type": "code",
        "colab": {}
      },
      "source": [
        "def recomsys_savedmodel(similarity_matrix, model_table, save_dir, num_recommand=20):\n",
        "    \"\"\"\n",
        "    Description:\n",
        "        similarity matrix 에서 input 과 가장 유사성이 높은 index을 반환합니다.\n",
        "        model table 을 이용해 추천 받은 index 을 item number 로 변환합니다.\n",
        "        해당 함수는 tensorflow graph , variable 을\n",
        "        tensorflow serving 을 수행할수 있도록 .pb 파일과 variable 을 특정 폴더 위치에 저장합니다.\n",
        "        save_dir 이 만약 /tmp/chachacha 라면 .pb 파일 , variable 은\n",
        "        /tmp/chachacha/1 에 저장됩니다. 뒤에 숫자는 버전을 의미합니다.\n",
        "        만약 /tmp/chachacha/1 이 있는 상태에서 다시 해당 함수를 수행하면\n",
        "        자동으로 /tmp/chachacha/2 폴더를 생성하고 해당 폴더에 .pb, variable 을 저장합니다.\n",
        "    Args:\n",
        "        similarity_matrix : Ndarray, similarity 가 계산된 matrix입니다.\n",
        "        model_table : Ndarray, similarity_matrix index 순서와 matching 되는\n",
        "            item number 가 저장된 ndarray\n",
        "        save_dir : str, serving 에 필요한 파일이 저장되는 공간\n",
        "            example) /tmp/chachacha\n",
        "        num_recommand : int, 추천받을 아이탬의 갯수\n",
        "    Return: None\n",
        "    \"\"\"\n",
        "    next_version = find_latest_version(save_dir) + 1\n",
        "    export_dir = os.path.join(save_dir, str(next_version))\n",
        "    builder = tf.saved_model.builder.SavedModelBuilder(export_dir=export_dir)\n",
        "\n",
        "    with tf.Session() as sess:\n",
        "        # model code 을 입력받습니다.\n",
        "        target_codes = tf.placeholder(\n",
        "            dtype=tf.int64, shape=[None], name='model_codes')\n",
        "\n",
        "        # Similarity 계산을 하는 Matrix을 변수 텐서로 받습니다\n",
        "        tf_similarity_matrix = tf.Variable(\n",
        "            tf.constant(similarity_matrix), name='similarity_matrix')\n",
        "\n",
        "        # model_table은 index 와 model_codes 가 기록되어 있습니다\n",
        "        tf_model_codes = tf.Variable(tf.constant(model_table), name='model_codes')\n",
        "\n",
        "        # 최소 1개 이상의 code 을 index 값으로 변화 시킵니다.\n",
        "        model_indices = tf.map_fn(lambda x: tf.where(tf.equal(tf_model_codes, x))[0], target_codes)\n",
        "\n",
        "        # 필요 없는 list 을 제거합니다 [[0,1]] -> [0,1]\n",
        "        model_indices = model_indices[:, 0]\n",
        "\n",
        "        # 해당 아이탬의 유사도를 가져옵니다.\n",
        "        recom_values_list = tf.gather(tf_similarity_matrix, model_indices)\n",
        "        recom_values_list = tf.cast(recom_values_list, tf.float32)\n",
        "        recom_values = tf.reduce_sum(recom_values_list, axis=0)\n",
        "\n",
        "        # 유사도가 높은 k 개의 아이탬의 value 값과 index 값을 추출합니다.\n",
        "        top_k_values, top_k_indices = tf.nn.top_k(tf.cast(recom_values, tf.float32), num_recommand)\n",
        "\n",
        "        # index 을 model_code 로 변환합니다.\n",
        "        top_k_codes = tf.gather(tf_model_codes, top_k_indices)\n",
        "\n",
        "        # 초기값을 가져옵니다.\n",
        "        sess.run(tf.global_variables_initializer())\n",
        "        predict_signature_def = (\n",
        "            tf.saved_model.signature_def_utils.predict_signature_def(\n",
        "                {\"x\": target_codes},\n",
        "                {\"y\": top_k_codes}))\n",
        "\n",
        "        signature_def_map = {\n",
        "            tf.saved_model.signature_constants.DEFAULT_SERVING_SIGNATURE_DEF_KEY:\n",
        "                predict_signature_def\n",
        "        }\n",
        "\n",
        "        builder.add_meta_graph_and_variables(\n",
        "            sess, [tf.saved_model.tag_constants.SERVING],\n",
        "            signature_def_map=signature_def_map)\n",
        "        builder.save()"
      ],
      "execution_count": 0,
      "outputs": []
    },
    {
      "cell_type": "markdown",
      "metadata": {
        "id": "ILKRRDcVSzk-",
        "colab_type": "text"
      },
      "source": [
        "### 마지막 버젼의 모델만 가져오기"
      ]
    },
    {
      "cell_type": "code",
      "metadata": {
        "id": "fx-tENyXSzk-",
        "colab_type": "code",
        "colab": {}
      },
      "source": [
        "def find_latest_version(save_dir):\n",
        "    \"\"\"\n",
        "    Description :\n",
        "        특정 폴더이름에서 값이 가장 큰 폴더의 이름을 반환합니다.\n",
        "    Args:\n",
        "        save_dir: str, example) /tmp/chachacha\n",
        "    Returns: int, 폴더 명중에 가장 값이 큰 폴더 ,만약 폴더가 없으면 0을 반환\n",
        "    \"\"\"\n",
        "\n",
        "    # valid check : 해당 코드가 숫자인지 확인한다.\n",
        "    versions = [int(version) for version in os.listdir(save_dir) if version.isdigit()]\n",
        "    if len(versions) > 0:\n",
        "        return max(versions)\n",
        "    else:\n",
        "        os.makedirs(save_dir, exist_ok=True)\n",
        "        return 0"
      ],
      "execution_count": 0,
      "outputs": []
    },
    {
      "cell_type": "code",
      "metadata": {
        "id": "58QN_4DmSzlA",
        "colab_type": "code",
        "colab": {}
      },
      "source": [
        "def send_req(codes, url='http://58.236.168.36:8686/v1/models/chachacha:predict'):\n",
        "    \"\"\"\n",
        "    Description:\n",
        "        해당코드는 url 에 POST 방식으로 request 을 날리는 코드 입니다.\n",
        "    Args:\n",
        "        codes: list, 모델 number 가 들어있는 리스트\n",
        "        url: str,  tensorlflow serving 은 url 방식이 고정되어 있습니다.\n",
        "    Return:\n",
        "        ret_codes, list , 추천 아이탬이 들어있는 list\n",
        "    \"\"\"\n",
        "\n",
        "    data = '{\"instances\": %s}' % str(codes)\n",
        "    response = requests.post(url, data=data)\n",
        "    ret_codes = response.json()['predictions']\n",
        "    return ret_codes"
      ],
      "execution_count": 0,
      "outputs": []
    },
    {
      "cell_type": "code",
      "metadata": {
        "id": "e_UaNeNqSzlB",
        "colab_type": "code",
        "colab": {}
      },
      "source": [
        "recomsys_savedmodel(sim_mat, index_code, '/tmp/chachacha',  num_recommand=20)"
      ],
      "execution_count": 0,
      "outputs": []
    }
  ]
}